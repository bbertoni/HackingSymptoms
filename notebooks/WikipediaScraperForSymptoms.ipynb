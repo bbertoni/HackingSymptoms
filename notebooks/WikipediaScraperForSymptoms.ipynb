{
 "cells": [
  {
   "cell_type": "code",
   "execution_count": 1,
   "metadata": {},
   "outputs": [
    {
     "name": "stdout",
     "output_type": "stream",
     "text": [
      "Requirement already satisfied: beautifulsoup4 in c:\\users\\t-hechit\\anaconda3\\envs\\foundation29env\\lib\\site-packages (4.9.1)\n",
      "Requirement already satisfied: wikipedia-api in c:\\users\\t-hechit\\anaconda3\\envs\\foundation29env\\lib\\site-packages (0.5.4)\n",
      "Requirement already satisfied: multiprocess in c:\\users\\t-hechit\\anaconda3\\envs\\foundation29env\\lib\\site-packages (0.70.10)\n",
      "Requirement already satisfied: soupsieve>1.2 in c:\\users\\t-hechit\\anaconda3\\envs\\foundation29env\\lib\\site-packages (from beautifulsoup4) (2.0.1)\n",
      "Requirement already satisfied: requests in c:\\users\\t-hechit\\anaconda3\\envs\\foundation29env\\lib\\site-packages (from wikipedia-api) (2.24.0)\n",
      "Requirement already satisfied: dill>=0.3.2 in c:\\users\\t-hechit\\anaconda3\\envs\\foundation29env\\lib\\site-packages (from multiprocess) (0.3.2)\n",
      "Requirement already satisfied: chardet<4,>=3.0.2 in c:\\users\\t-hechit\\anaconda3\\envs\\foundation29env\\lib\\site-packages (from requests->wikipedia-api) (3.0.4)\n",
      "Requirement already satisfied: urllib3!=1.25.0,!=1.25.1,<1.26,>=1.21.1 in c:\\users\\t-hechit\\anaconda3\\envs\\foundation29env\\lib\\site-packages (from requests->wikipedia-api) (1.25.10)\n",
      "Requirement already satisfied: idna<3,>=2.5 in c:\\users\\t-hechit\\anaconda3\\envs\\foundation29env\\lib\\site-packages (from requests->wikipedia-api) (2.10)\n",
      "Requirement already satisfied: certifi>=2017.4.17 in c:\\users\\t-hechit\\anaconda3\\envs\\foundation29env\\lib\\site-packages (from requests->wikipedia-api) (2020.6.20)\n"
     ]
    }
   ],
   "source": [
    "!pip install beautifulsoup4 wikipedia-api multiprocess"
   ]
  },
  {
   "cell_type": "code",
   "execution_count": 2,
   "metadata": {},
   "outputs": [],
   "source": [
    "import bs4\n",
    "import wikipediaapi\n",
    "import pandas as pd\n",
    "import requests\n",
    "import json\n",
    "import multiprocess"
   ]
  },
  {
   "cell_type": "code",
   "execution_count": 24,
   "metadata": {},
   "outputs": [],
   "source": [
    "def get_info(row):\n",
    "    disease_link = row.select('a')[0].get('href')\n",
    "    vals = row.getText().split(\";\")\n",
    "    return (vals[0], vals[1].strip(), disease_link)\n",
    "\n",
    "def check_link_validity(disease_link):\n",
    "    return '/wiki/' in disease_link\n",
    "\n",
    "def get_symptoms(info):\n",
    "    base_url = \"https://en.wikipedia.org\"\n",
    "    import wikipediaapi, requests, bs4\n",
    "    wiki_wiki = wikipediaapi.Wikipedia('en', extract_format=wikipediaapi.ExtractFormat.WIKI)\n",
    "    code, values = info[0], info[1]\n",
    "    url = base_url + values[1]\n",
    "    response = requests.get(url)\n",
    "    response.raise_for_status()\n",
    "    gkzSoup = bs4.BeautifulSoup(response.text)\n",
    "    heading = gkzSoup.select('h1')[0].getText()\n",
    "    page = wiki_wiki.page(heading)\n",
    "    symptoms = \"\"\n",
    "    for section in page.sections:\n",
    "        if \"symptoms\" in section.title.lower():\n",
    "            symptoms = section.text\n",
    "    return [code, values[0], symptoms]\n",
    "\n",
    "def call_and_insert(row):\n",
    "    import requests, json\n",
    "    API_STRING = \"https://f29bio-dev.northeurope.cloudapp.azure.com/api/BioEntity/disease/phenotypes/en/tree/omim:\"\n",
    "    API_HEADERS = headers = {\"User-Agent\":\"Mozilla/5.0 (Windows NT 10.0; Win64; x64; rv:66.0) Gecko/20100101 Firefox/66.0\",\n",
    "                         \"Accept-Encoding\":\"gzip, deflate\",\n",
    "                         \"Accept\":\"text/html,application/xhtml+xml,application/xml;q=0.9,*/*;q=0.8\", \"DNT\":\"1\",\n",
    "                         \"Connection\":\"close\", \"Upgrade-Insecure-Requests\":\"1\"}\n",
    "    try:\n",
    "        omim = row[0]\n",
    "        url = API_STRING + omim\n",
    "        key = \"omim:\" + omim\n",
    "        html_content = requests.get(url, headers=API_HEADERS).text\n",
    "        result = json.loads(html_content)\n",
    "        symptoms = result[key]['phenotypes']\n",
    "        extra_key = \"\"\n",
    "        keys = []\n",
    "        for key in symptoms.keys():\n",
    "            if key.find(\"HP\")==0:\n",
    "                keys.append(key)\n",
    "        row.append(keys)\n",
    "    except Exception as e:\n",
    "        row.append([])\n",
    "    finally:\n",
    "        return row"
   ]
  },
  {
   "cell_type": "code",
   "execution_count": 4,
   "metadata": {},
   "outputs": [],
   "source": [
    "response = requests.get(\"https://en.wikipedia.org/wiki/List_of_OMIM_disorder_codes\")\n",
    "response.raise_for_status()\n",
    "gkzSoup = bs4.BeautifulSoup(response.text)\n",
    "lists = gkzSoup.select('ul')\n",
    "codes = lists[0]\n",
    "listOfCodes = codes.select('li')\n",
    "omim_dict = {}\n",
    "for val in listOfCodes:\n",
    "    disease, code, link = get_info(val)\n",
    "    if code not in omim_dict.keys() and check_link_validity(link):\n",
    "        omim_dict[code] = [disease, link]"
   ]
  },
  {
   "cell_type": "code",
   "execution_count": 5,
   "metadata": {},
   "outputs": [
    {
     "name": "stdout",
     "output_type": "stream",
     "text": [
      "['202110', 'Isolated 17,20-lyase deficiency', 'The symptoms of isolated 17,20-lyase deficiency, in males, include pseudohermaphroditism (i.e., feminized, ambiguous, or mildly underdeveloped (e.g., micropenis, perineal hypospadias, and/or cryptorchidism (undescended testes)) external genitalia), female gender identity, and, in non-complete cases of deficiency where partial virilization occurs, gynecomastia up to Tanner stage V (due to low androgen levels, which results in a lack of suppression of estrogen); in females, amenorrhoea or, in cases of only partial deficiency, merely irregular menses, and enlarged cystic ovaries (due to excessive stimulation by high levels of gonadotropins); and in both sexes, hypergonadotropic hypogonadism (hypogonadism despite high levels of gonadotropins), delayed, impaired, or fully absent adrenarche and puberty with an associated reduction in or complete lack of development of secondary sexual characteristics (sexual infantilism), impaired fertility or complete sterility, tall stature (due to delayed epiphyseal closure), eunuchoid skeletal proportions, delayed or absent bone maturation, and osteoporosis.']\n"
     ]
    }
   ],
   "source": [
    "pool = multiprocess.Pool()\n",
    "data = pool.map(get_symptoms, [[k ,v] for k, v in omim_dict.items()])\n",
    "pool.close()\n",
    "print(data[0])"
   ]
  },
  {
   "cell_type": "code",
   "execution_count": 25,
   "metadata": {},
   "outputs": [],
   "source": [
    "pool = multiprocess.Pool()\n",
    "new_data = pool.map(call_and_insert, [val for val in data])\n",
    "pool.close()"
   ]
  },
  {
   "cell_type": "code",
   "execution_count": 26,
   "metadata": {},
   "outputs": [
    {
     "data": {
      "text/html": [
       "<div>\n",
       "<style scoped>\n",
       "    .dataframe tbody tr th:only-of-type {\n",
       "        vertical-align: middle;\n",
       "    }\n",
       "\n",
       "    .dataframe tbody tr th {\n",
       "        vertical-align: top;\n",
       "    }\n",
       "\n",
       "    .dataframe thead th {\n",
       "        text-align: right;\n",
       "    }\n",
       "</style>\n",
       "<table border=\"1\" class=\"dataframe\">\n",
       "  <thead>\n",
       "    <tr style=\"text-align: right;\">\n",
       "      <th></th>\n",
       "      <th>OMIM ID</th>\n",
       "      <th>Disease</th>\n",
       "      <th>Symptoms from Wikipedia</th>\n",
       "      <th>HPO Codes</th>\n",
       "    </tr>\n",
       "  </thead>\n",
       "  <tbody>\n",
       "    <tr>\n",
       "      <th>0</th>\n",
       "      <td>202110</td>\n",
       "      <td>Isolated 17,20-lyase deficiency</td>\n",
       "      <td>The symptoms of isolated 17,20-lyase deficienc...</td>\n",
       "      <td>[HP:0000013, HP:0000028, HP:0000033, HP:000003...</td>\n",
       "    </tr>\n",
       "    <tr>\n",
       "      <th>1</th>\n",
       "      <td>300438</td>\n",
       "      <td>17-beta-hydroxysteroid dehydrogenase X deficiency</td>\n",
       "      <td>17-β-Hydroxysteroid dehydrogenase III deficien...</td>\n",
       "      <td>[HP:0000252, HP:0000365, HP:0000407, HP:000052...</td>\n",
       "    </tr>\n",
       "    <tr>\n",
       "      <th>2</th>\n",
       "      <td>610006</td>\n",
       "      <td>2-methylbutyrylglycinuria</td>\n",
       "      <td>SBCADD is included as a secondary target condi...</td>\n",
       "      <td>[HP:0000252, HP:0000577, HP:0001250, HP:000125...</td>\n",
       "    </tr>\n",
       "    <tr>\n",
       "      <th>3</th>\n",
       "      <td>231530</td>\n",
       "      <td>3-hydroxyacyl-coa dehydrogenase deficiency</td>\n",
       "      <td>Typically, initial signs and symptoms of this ...</td>\n",
       "      <td>[]</td>\n",
       "    </tr>\n",
       "    <tr>\n",
       "      <th>4</th>\n",
       "      <td>273750</td>\n",
       "      <td>3-M syndrome</td>\n",
       "      <td></td>\n",
       "      <td>[HP:0000047, HP:0000179, HP:0000268, HP:000027...</td>\n",
       "    </tr>\n",
       "  </tbody>\n",
       "</table>\n",
       "</div>"
      ],
      "text/plain": [
       "  OMIM ID                                            Disease  \\\n",
       "0  202110                    Isolated 17,20-lyase deficiency   \n",
       "1  300438  17-beta-hydroxysteroid dehydrogenase X deficiency   \n",
       "2  610006                          2-methylbutyrylglycinuria   \n",
       "3  231530         3-hydroxyacyl-coa dehydrogenase deficiency   \n",
       "4  273750                                       3-M syndrome   \n",
       "\n",
       "                             Symptoms from Wikipedia  \\\n",
       "0  The symptoms of isolated 17,20-lyase deficienc...   \n",
       "1  17-β-Hydroxysteroid dehydrogenase III deficien...   \n",
       "2  SBCADD is included as a secondary target condi...   \n",
       "3  Typically, initial signs and symptoms of this ...   \n",
       "4                                                      \n",
       "\n",
       "                                           HPO Codes  \n",
       "0  [HP:0000013, HP:0000028, HP:0000033, HP:000003...  \n",
       "1  [HP:0000252, HP:0000365, HP:0000407, HP:000052...  \n",
       "2  [HP:0000252, HP:0000577, HP:0001250, HP:000125...  \n",
       "3                                                 []  \n",
       "4  [HP:0000047, HP:0000179, HP:0000268, HP:000027...  "
      ]
     },
     "execution_count": 26,
     "metadata": {},
     "output_type": "execute_result"
    }
   ],
   "source": [
    "df = pd.DataFrame(new_data, columns=[\"OMIM ID\", \"Disease\", \"Symptoms from Wikipedia\", \"HPO Codes\"])\n",
    "df.head()"
   ]
  },
  {
   "cell_type": "code",
   "execution_count": 27,
   "metadata": {},
   "outputs": [],
   "source": [
    "df.to_csv(\"omims_from_wiki.csv\", encoding=\"utf-8\", index=False)"
   ]
  },
  {
   "cell_type": "code",
   "execution_count": null,
   "metadata": {},
   "outputs": [],
   "source": []
  }
 ],
 "metadata": {
  "kernelspec": {
   "display_name": "Python 3",
   "language": "python",
   "name": "python3"
  },
  "language_info": {
   "codemirror_mode": {
    "name": "ipython",
    "version": 3
   },
   "file_extension": ".py",
   "mimetype": "text/x-python",
   "name": "python",
   "nbconvert_exporter": "python",
   "pygments_lexer": "ipython3",
   "version": "3.7.7"
  }
 },
 "nbformat": 4,
 "nbformat_minor": 4
}
