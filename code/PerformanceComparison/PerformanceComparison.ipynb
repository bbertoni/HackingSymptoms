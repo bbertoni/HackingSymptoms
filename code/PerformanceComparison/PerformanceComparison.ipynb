{
 "cells": [
  {
   "cell_type": "code",
   "execution_count": 117,
   "metadata": {},
   "outputs": [],
   "source": [
    "import pandas as pd\n",
    "gsc_data = pd.read_csv('GSC+.csv', converters={'HPO_codes': eval, 'starts': eval, 'ends': eval, 'HPO_symptoms': eval})"
   ]
  },
  {
   "cell_type": "code",
   "execution_count": 141,
   "metadata": {},
   "outputs": [
    {
     "data": {
      "text/plain": [
       "(228, 6)"
      ]
     },
     "execution_count": 141,
     "metadata": {},
     "output_type": "execute_result"
    }
   ],
   "source": [
    "gsc_data.shape"
   ]
  },
  {
   "cell_type": "code",
   "execution_count": 142,
   "metadata": {},
   "outputs": [
    {
     "data": {
      "text/plain": [
       "'A syndrome of brachydactyly (absence of some middle or distal phalanges), aplastic or hypoplastic nails, symphalangism (ankylois of proximal interphalangeal joints), synostosis of some carpal and tarsal bones, craniosynostosis, and dysplastic hip joints is reported in five members of an Italian family. It may represent a previously undescribed autosomal dominant trait.'"
      ]
     },
     "execution_count": 142,
     "metadata": {},
     "output_type": "execute_result"
    }
   ],
   "source": [
    "gsc_data.iloc[0]['text']"
   ]
  },
  {
   "cell_type": "code",
   "execution_count": 143,
   "metadata": {},
   "outputs": [
    {
     "data": {
      "text/plain": [
       "['brachydactyly',\n",
       " 'absence of some middle or distal phalanges',\n",
       " 'aplastic or hypoplastic nails',\n",
       " 'hypoplastic nails',\n",
       " 'symphalangism',\n",
       " 'ankylois of proximal interphalangeal joints',\n",
       " 'synostosis of some carpal and tarsal bones',\n",
       " 'craniosynostosis',\n",
       " 'dysplastic hip joints',\n",
       " 'autosomal dominant trait',\n",
       " 'autosomal dominant',\n",
       " 'dominant',\n",
       " 'dominant trait']"
      ]
     },
     "execution_count": 143,
     "metadata": {},
     "output_type": "execute_result"
    }
   ],
   "source": [
    "gsc_data.iloc[0]['HPO_symptoms']"
   ]
  },
  {
   "cell_type": "code",
   "execution_count": 118,
   "metadata": {},
   "outputs": [
    {
     "data": {
      "text/html": [
       "<div>\n",
       "<style scoped>\n",
       "    .dataframe tbody tr th:only-of-type {\n",
       "        vertical-align: middle;\n",
       "    }\n",
       "\n",
       "    .dataframe tbody tr th {\n",
       "        vertical-align: top;\n",
       "    }\n",
       "\n",
       "    .dataframe thead th {\n",
       "        text-align: right;\n",
       "    }\n",
       "</style>\n",
       "<table border=\"1\" class=\"dataframe\">\n",
       "  <thead>\n",
       "    <tr style=\"text-align: right;\">\n",
       "      <th></th>\n",
       "      <th>file</th>\n",
       "      <th>text</th>\n",
       "      <th>HPO_symptoms</th>\n",
       "      <th>HPO_codes</th>\n",
       "      <th>starts</th>\n",
       "      <th>ends</th>\n",
       "    </tr>\n",
       "  </thead>\n",
       "  <tbody>\n",
       "    <tr>\n",
       "      <th>0</th>\n",
       "      <td>1003450</td>\n",
       "      <td>A syndrome of brachydactyly (absence of some m...</td>\n",
       "      <td>[brachydactyly, absence of some middle or dist...</td>\n",
       "      <td>[0001156, 0009881, 0001798, 0001792, 0100264, ...</td>\n",
       "      <td>[14, 29, 74, 86, 105, 120, 166, 210, 232, 346,...</td>\n",
       "      <td>[27, 71, 103, 103, 118, 163, 208, 226, 253, 37...</td>\n",
       "    </tr>\n",
       "    <tr>\n",
       "      <th>1</th>\n",
       "      <td>10051003</td>\n",
       "      <td>Townes-Brocks syndrome (TBS) is an autosomal d...</td>\n",
       "      <td>[autosomal dominant disorder, autosomal domina...</td>\n",
       "      <td>[0000006, 0000006, 0000006, 0003828, 0003813, ...</td>\n",
       "      <td>[35, 35, 45, 95, 95, 139, 148, 163, 177, 186, ...</td>\n",
       "      <td>[62, 53, 53, 114, 103, 161, 161, 175, 197, 197...</td>\n",
       "    </tr>\n",
       "    <tr>\n",
       "      <th>2</th>\n",
       "      <td>10066029</td>\n",
       "      <td>Nevoid basal cell carcinoma syndrome (NBCCS) i...</td>\n",
       "      <td>[basal cell carcinoma, autosomal dominant, aut...</td>\n",
       "      <td>[0002671, 0000006, 0000006, 0000006, 0000006, ...</td>\n",
       "      <td>[7, 89, 89, 99, 99, 143, 143, 208, 238, 250, 2...</td>\n",
       "      <td>[27, 107, 113, 113, 107, 164, 151, 229, 261, 2...</td>\n",
       "    </tr>\n",
       "    <tr>\n",
       "      <th>3</th>\n",
       "      <td>10196695</td>\n",
       "      <td>Angelman syndrome (AS) is a neurodevelopmental...</td>\n",
       "      <td>[neurodevelopmental disorder, contiguous gene ...</td>\n",
       "      <td>[0000707, 0001466]</td>\n",
       "      <td>[28, 839]</td>\n",
       "      <td>[55, 863]</td>\n",
       "    </tr>\n",
       "    <tr>\n",
       "      <th>4</th>\n",
       "      <td>10417280</td>\n",
       "      <td>Prader-Willi syndrome (PWS) and Angelman syndr...</td>\n",
       "      <td>[neurobehavioral disorders, de novo]</td>\n",
       "      <td>[0000708, 0003745]</td>\n",
       "      <td>[68, 223]</td>\n",
       "      <td>[93, 230]</td>\n",
       "    </tr>\n",
       "  </tbody>\n",
       "</table>\n",
       "</div>"
      ],
      "text/plain": [
       "       file                                               text  \\\n",
       "0   1003450  A syndrome of brachydactyly (absence of some m...   \n",
       "1  10051003  Townes-Brocks syndrome (TBS) is an autosomal d...   \n",
       "2  10066029  Nevoid basal cell carcinoma syndrome (NBCCS) i...   \n",
       "3  10196695  Angelman syndrome (AS) is a neurodevelopmental...   \n",
       "4  10417280  Prader-Willi syndrome (PWS) and Angelman syndr...   \n",
       "\n",
       "                                        HPO_symptoms  \\\n",
       "0  [brachydactyly, absence of some middle or dist...   \n",
       "1  [autosomal dominant disorder, autosomal domina...   \n",
       "2  [basal cell carcinoma, autosomal dominant, aut...   \n",
       "3  [neurodevelopmental disorder, contiguous gene ...   \n",
       "4               [neurobehavioral disorders, de novo]   \n",
       "\n",
       "                                           HPO_codes  \\\n",
       "0  [0001156, 0009881, 0001798, 0001792, 0100264, ...   \n",
       "1  [0000006, 0000006, 0000006, 0003828, 0003813, ...   \n",
       "2  [0002671, 0000006, 0000006, 0000006, 0000006, ...   \n",
       "3                                 [0000707, 0001466]   \n",
       "4                                 [0000708, 0003745]   \n",
       "\n",
       "                                              starts  \\\n",
       "0  [14, 29, 74, 86, 105, 120, 166, 210, 232, 346,...   \n",
       "1  [35, 35, 45, 95, 95, 139, 148, 163, 177, 186, ...   \n",
       "2  [7, 89, 89, 99, 99, 143, 143, 208, 238, 250, 2...   \n",
       "3                                          [28, 839]   \n",
       "4                                          [68, 223]   \n",
       "\n",
       "                                                ends  \n",
       "0  [27, 71, 103, 103, 118, 163, 208, 226, 253, 37...  \n",
       "1  [62, 53, 53, 114, 103, 161, 161, 175, 197, 197...  \n",
       "2  [27, 107, 113, 113, 107, 164, 151, 229, 261, 2...  \n",
       "3                                          [55, 863]  \n",
       "4                                          [93, 230]  "
      ]
     },
     "execution_count": 118,
     "metadata": {},
     "output_type": "execute_result"
    }
   ],
   "source": [
    "gsc_data.head()"
   ]
  },
  {
   "cell_type": "code",
   "execution_count": 119,
   "metadata": {},
   "outputs": [],
   "source": [
    "# Create a similar columns for NCR output and MTA output "
   ]
  },
  {
   "cell_type": "code",
   "execution_count": 47,
   "metadata": {},
   "outputs": [],
   "source": [
    "import requests\n",
    "def call_ncr(text):\n",
    "    endpoint = 'https://ncr.ccm.sickkids.ca/curr/annotate/'\n",
    "    r = requests.get(endpoint, params={'text': text})\n",
    "    if r.status_code == 200:\n",
    "        output = r.json()\n",
    "        starts = [entry['start'] for entry in output['matches']]\n",
    "        ends = [entry['end'] for entry in output['matches']]\n",
    "        names = [entry['names'][0] for entry in output['matches']] # TODO should we stick with 0?\n",
    "        hp_id = [entry['hp_id'][3:] for entry in output['matches']]\n",
    "        scores = [entry['score'] for entry in output['matches']]\n",
    "        return {\n",
    "            'NCR_start': starts,\n",
    "            'NCR_end': ends,\n",
    "            'NCR_symptoms': names,\n",
    "            'NCR_HPO_codes': hp_id,\n",
    "            'NCR_confidence_score': scores,\n",
    "        }\n",
    "    else:\n",
    "        print(r.text)\n",
    "        return {}"
   ]
  },
  {
   "cell_type": "code",
   "execution_count": 48,
   "metadata": {},
   "outputs": [],
   "source": [
    "sample_text = gsc_data.iloc[0]['text']"
   ]
  },
  {
   "cell_type": "code",
   "execution_count": 330,
   "metadata": {},
   "outputs": [],
   "source": [
    "#Function to call Biolink Entity Annotator\n",
    "def call_biolink(text):\n",
    "    endpoint = 'https://api.monarchinitiative.org/api/nlp/annotate/entities/'\n",
    "    r = requests.get(endpoint, params={'content': text})\n",
    "    if r.status_code == 200:\n",
    "        \n",
    "        output = r.json()\n",
    "        starts = []\n",
    "        ends = []\n",
    "        names = []\n",
    "        hp_id = []\n",
    "        \n",
    "        for entry in output['spans']:\n",
    "            \n",
    "            if ('HP' not in entry['token'][0]['id']):\n",
    "                continue; #Skip none HP entries\n",
    "                \n",
    "            if len(entry['token'][0]['terms'])==0:\n",
    "                continue; #Skip if entry has no terms\n",
    "                \n",
    "            starts.append(entry['start'])\n",
    "            ends.append(entry['end'])\n",
    "            names.append(entry['token'][0]['terms'][0]) \n",
    "            hp_id.append(entry['token'][0]['id'][3:])\n",
    "            \n",
    "        return {\n",
    "            'Biolink_start': starts,\n",
    "            'Biolink_end': ends,\n",
    "            'Biolink_symptoms': names,\n",
    "            'Biolink_HPO_codes': hp_id,\n",
    "        }\n",
    "    else:\n",
    "        print(r.text)\n",
    "        return {}"
   ]
  },
  {
   "cell_type": "code",
   "execution_count": 52,
   "metadata": {},
   "outputs": [
    {
     "name": "stdout",
     "output_type": "stream",
     "text": [
      "Fetched 10 rows\n",
      "Fetched 20 rows\n",
      "Fetched 30 rows\n",
      "Fetched 40 rows\n",
      "Fetched 50 rows\n",
      "Fetched 60 rows\n",
      "Fetched 70 rows\n",
      "Fetched 80 rows\n",
      "Fetched 90 rows\n",
      "Fetched 100 rows\n",
      "Fetched 110 rows\n",
      "Fetched 120 rows\n",
      "Fetched 130 rows\n",
      "Fetched 140 rows\n",
      "Fetched 150 rows\n",
      "Fetched 160 rows\n",
      "Fetched 170 rows\n",
      "Fetched 180 rows\n",
      "Fetched 190 rows\n",
      "Fetched 200 rows\n",
      "Fetched 210 rows\n",
      "Fetched 220 rows\n"
     ]
    }
   ],
   "source": [
    "import time\n",
    "ncr_rows = []\n",
    "for ind, text in enumerate(gsc_data['text']):\n",
    "    ncr_output = call_ncr(text)\n",
    "    ncr_rows.append(ncr_output)\n",
    "    if (ind + 1) % 10 == 0:\n",
    "        print('Fetched {} rows'.format(ind + 1))\n",
    "    time.sleep(1)\n",
    "ncr_df = pd.DataFrame(ncr_rows)"
   ]
  },
  {
   "cell_type": "code",
   "execution_count": 54,
   "metadata": {},
   "outputs": [
    {
     "data": {
      "text/html": [
       "<div>\n",
       "<style scoped>\n",
       "    .dataframe tbody tr th:only-of-type {\n",
       "        vertical-align: middle;\n",
       "    }\n",
       "\n",
       "    .dataframe tbody tr th {\n",
       "        vertical-align: top;\n",
       "    }\n",
       "\n",
       "    .dataframe thead th {\n",
       "        text-align: right;\n",
       "    }\n",
       "</style>\n",
       "<table border=\"1\" class=\"dataframe\">\n",
       "  <thead>\n",
       "    <tr style=\"text-align: right;\">\n",
       "      <th></th>\n",
       "      <th>NCR_start</th>\n",
       "      <th>NCR_end</th>\n",
       "      <th>NCR_symptoms</th>\n",
       "      <th>NCR_HPO_codes</th>\n",
       "      <th>NCR_confidence_score</th>\n",
       "    </tr>\n",
       "  </thead>\n",
       "  <tbody>\n",
       "    <tr>\n",
       "      <th>0</th>\n",
       "      <td>[0, 210, 74, 232, 166]</td>\n",
       "      <td>[27, 226, 103, 246, 208]</td>\n",
       "      <td>[Type A brachydactyly, Craniosynostosis, Aplas...</td>\n",
       "      <td>[0009370, 0001363, 0008386, 0001385, 0100266]</td>\n",
       "      <td>[0.854373, 0.9803171, 0.97019005, 0.9812449, 0...</td>\n",
       "    </tr>\n",
       "    <tr>\n",
       "      <th>1</th>\n",
       "      <td>[139, 163, 177, 202, 224, 246, 314, 344]</td>\n",
       "      <td>[161, 175, 197, 222, 240, 265, 333, 362]</td>\n",
       "      <td>[Abnormality of the outer ear, Hearing impairm...</td>\n",
       "      <td>[0000356, 0000365, 0100258, 0001199, 0002023, ...</td>\n",
       "      <td>[0.9629303, 0.9879309, 0.9797104, 0.9904183, 0...</td>\n",
       "    </tr>\n",
       "    <tr>\n",
       "      <th>2</th>\n",
       "      <td>[7, 704, 208, 238, 289, 330, 303, 447, 550]</td>\n",
       "      <td>[27, 716, 229, 273, 301, 357, 325, 476, 562]</td>\n",
       "      <td>[Basal cell carcinoma, Abnormality of skin pig...</td>\n",
       "      <td>[0002671, 0001000, 0002671, 0010603, 0010612, ...</td>\n",
       "      <td>[0.99626815, 0.8976064, 0.9970914, 0.98232365,...</td>\n",
       "    </tr>\n",
       "    <tr>\n",
       "      <th>3</th>\n",
       "      <td>[83, 205]</td>\n",
       "      <td>[104, 213]</td>\n",
       "      <td>[Prenatal maternal abnormality, Prenatal mater...</td>\n",
       "      <td>[0002686, 0002686]</td>\n",
       "      <td>[0.9450763, 0.93650734]</td>\n",
       "    </tr>\n",
       "    <tr>\n",
       "      <th>4</th>\n",
       "      <td>[180]</td>\n",
       "      <td>[188]</td>\n",
       "      <td>[Prenatal maternal abnormality]</td>\n",
       "      <td>[0002686]</td>\n",
       "      <td>[0.93650734]</td>\n",
       "    </tr>\n",
       "    <tr>\n",
       "      <th>5</th>\n",
       "      <td>[439, 376, 421, 504, 546, 77, 59, 138, 164, 298]</td>\n",
       "      <td>[468, 389, 434, 506, 559, 106, 72, 147, 183, 317]</td>\n",
       "      <td>[Abnormality of the seventh cranial nerve, Cho...</td>\n",
       "      <td>[0010827, 0009797, 0009797, 0500001, 0009797, ...</td>\n",
       "      <td>[0.95614415, 0.9940772, 0.9940772, 0.9919378, ...</td>\n",
       "    </tr>\n",
       "    <tr>\n",
       "      <th>6</th>\n",
       "      <td>[57, 84, 108, 124, 136, 155, 169, 268, 300, 27...</td>\n",
       "      <td>[82, 106, 119, 134, 153, 161, 186, 275, 323, 2...</td>\n",
       "      <td>[Intellectual disability, severe, Postnatal mi...</td>\n",
       "      <td>[0010864, 0005484, 0000154, 0000303, 0001344, ...</td>\n",
       "      <td>[0.99669075, 0.99157083, 0.9878103, 0.9828453,...</td>\n",
       "    </tr>\n",
       "    <tr>\n",
       "      <th>7</th>\n",
       "      <td>[0, 796, 119, 135, 191, 205, 928, 968, 1092, 1...</td>\n",
       "      <td>[17, 802, 130, 146, 201, 215, 938, 974, 1102, ...</td>\n",
       "      <td>[Neurofibromas, Neoplasm, Schwannoma, Meningio...</td>\n",
       "      <td>[0001067, 0002664, 0100008, 0002858, 0002858, ...</td>\n",
       "      <td>[0.995176, 0.98074406, 0.994758, 0.8937297, 0....</td>\n",
       "    </tr>\n",
       "    <tr>\n",
       "      <th>8</th>\n",
       "      <td>[0, 277, 265, 583, 625, 208, 219, 233, 249]</td>\n",
       "      <td>[19, 291, 272, 599, 639, 217, 231, 247, 259]</td>\n",
       "      <td>[Popliteal pterygium, Abnormality of the nail,...</td>\n",
       "      <td>[0009756, 0001597, 0000078, 0000202, 0000196, ...</td>\n",
       "      <td>[0.98863715, 0.9172121, 0.9366641, 0.9634072, ...</td>\n",
       "    </tr>\n",
       "    <tr>\n",
       "      <th>9</th>\n",
       "      <td>[136, 154, 178, 209, 1084, 312, 433, 486, 746,...</td>\n",
       "      <td>[152, 173, 191, 217, 1090, 317, 447, 505, 759,...</td>\n",
       "      <td>[Anal atresia, Triphalangeal thumb, Abnormalit...</td>\n",
       "      <td>[0002023, 0001199, 0000356, 0000365, 0001167, ...</td>\n",
       "      <td>[0.9931391, 0.9913281, 0.92845136, 0.98989284,...</td>\n",
       "    </tr>\n",
       "  </tbody>\n",
       "</table>\n",
       "</div>"
      ],
      "text/plain": [
       "                                           NCR_start  \\\n",
       "0                             [0, 210, 74, 232, 166]   \n",
       "1           [139, 163, 177, 202, 224, 246, 314, 344]   \n",
       "2        [7, 704, 208, 238, 289, 330, 303, 447, 550]   \n",
       "3                                          [83, 205]   \n",
       "4                                              [180]   \n",
       "5   [439, 376, 421, 504, 546, 77, 59, 138, 164, 298]   \n",
       "6  [57, 84, 108, 124, 136, 155, 169, 268, 300, 27...   \n",
       "7  [0, 796, 119, 135, 191, 205, 928, 968, 1092, 1...   \n",
       "8        [0, 277, 265, 583, 625, 208, 219, 233, 249]   \n",
       "9  [136, 154, 178, 209, 1084, 312, 433, 486, 746,...   \n",
       "\n",
       "                                             NCR_end  \\\n",
       "0                           [27, 226, 103, 246, 208]   \n",
       "1           [161, 175, 197, 222, 240, 265, 333, 362]   \n",
       "2       [27, 716, 229, 273, 301, 357, 325, 476, 562]   \n",
       "3                                         [104, 213]   \n",
       "4                                              [188]   \n",
       "5  [468, 389, 434, 506, 559, 106, 72, 147, 183, 317]   \n",
       "6  [82, 106, 119, 134, 153, 161, 186, 275, 323, 2...   \n",
       "7  [17, 802, 130, 146, 201, 215, 938, 974, 1102, ...   \n",
       "8       [19, 291, 272, 599, 639, 217, 231, 247, 259]   \n",
       "9  [152, 173, 191, 217, 1090, 317, 447, 505, 759,...   \n",
       "\n",
       "                                        NCR_symptoms  \\\n",
       "0  [Type A brachydactyly, Craniosynostosis, Aplas...   \n",
       "1  [Abnormality of the outer ear, Hearing impairm...   \n",
       "2  [Basal cell carcinoma, Abnormality of skin pig...   \n",
       "3  [Prenatal maternal abnormality, Prenatal mater...   \n",
       "4                    [Prenatal maternal abnormality]   \n",
       "5  [Abnormality of the seventh cranial nerve, Cho...   \n",
       "6  [Intellectual disability, severe, Postnatal mi...   \n",
       "7  [Neurofibromas, Neoplasm, Schwannoma, Meningio...   \n",
       "8  [Popliteal pterygium, Abnormality of the nail,...   \n",
       "9  [Anal atresia, Triphalangeal thumb, Abnormalit...   \n",
       "\n",
       "                                       NCR_HPO_codes  \\\n",
       "0      [0009370, 0001363, 0008386, 0001385, 0100266]   \n",
       "1  [0000356, 0000365, 0100258, 0001199, 0002023, ...   \n",
       "2  [0002671, 0001000, 0002671, 0010603, 0010612, ...   \n",
       "3                                 [0002686, 0002686]   \n",
       "4                                          [0002686]   \n",
       "5  [0010827, 0009797, 0009797, 0500001, 0009797, ...   \n",
       "6  [0010864, 0005484, 0000154, 0000303, 0001344, ...   \n",
       "7  [0001067, 0002664, 0100008, 0002858, 0002858, ...   \n",
       "8  [0009756, 0001597, 0000078, 0000202, 0000196, ...   \n",
       "9  [0002023, 0001199, 0000356, 0000365, 0001167, ...   \n",
       "\n",
       "                                NCR_confidence_score  \n",
       "0  [0.854373, 0.9803171, 0.97019005, 0.9812449, 0...  \n",
       "1  [0.9629303, 0.9879309, 0.9797104, 0.9904183, 0...  \n",
       "2  [0.99626815, 0.8976064, 0.9970914, 0.98232365,...  \n",
       "3                            [0.9450763, 0.93650734]  \n",
       "4                                       [0.93650734]  \n",
       "5  [0.95614415, 0.9940772, 0.9940772, 0.9919378, ...  \n",
       "6  [0.99669075, 0.99157083, 0.9878103, 0.9828453,...  \n",
       "7  [0.995176, 0.98074406, 0.994758, 0.8937297, 0....  \n",
       "8  [0.98863715, 0.9172121, 0.9366641, 0.9634072, ...  \n",
       "9  [0.9931391, 0.9913281, 0.92845136, 0.98989284,...  "
      ]
     },
     "execution_count": 54,
     "metadata": {},
     "output_type": "execute_result"
    }
   ],
   "source": [
    "ncr_df.head(10)"
   ]
  },
  {
   "cell_type": "code",
   "execution_count": 55,
   "metadata": {},
   "outputs": [],
   "source": [
    "ncr_df.to_csv('ncr_output.csv')"
   ]
  },
  {
   "cell_type": "code",
   "execution_count": 56,
   "metadata": {},
   "outputs": [],
   "source": [
    "# we have multisets here, how to do the overlap exactly?\n",
    "# this could be sorted by positions"
   ]
  },
  {
   "cell_type": "code",
   "execution_count": 121,
   "metadata": {},
   "outputs": [
    {
     "data": {
      "text/plain": [
       "file             int64\n",
       "text            object\n",
       "HPO_symptoms    object\n",
       "HPO_codes       object\n",
       "starts          object\n",
       "ends            object\n",
       "dtype: object"
      ]
     },
     "execution_count": 121,
     "metadata": {},
     "output_type": "execute_result"
    }
   ],
   "source": [
    "gsc_data.dtypes"
   ]
  },
  {
   "cell_type": "code",
   "execution_count": 125,
   "metadata": {},
   "outputs": [],
   "source": [
    "def jaccard_score(a, b):\n",
    "    return len(set(a).intersection(set(b))) / len(set(a).union(set(b)))"
   ]
  },
  {
   "cell_type": "code",
   "execution_count": 131,
   "metadata": {},
   "outputs": [],
   "source": [
    "from sklearn import metrics\n",
    "\n",
    "def jaccard_evaluation():\n",
    "    jaccard_scores = []\n",
    "    for i, row in ncr_df.iterrows():\n",
    "        gsc_row = gsc_data.iloc[i]\n",
    "        gsc_codes = gsc_row['HPO_codes']\n",
    "        ncr_codes = row['NCR_HPO_codes']\n",
    "        score = jaccard_score(gsc_codes, ncr_codes)\n",
    "        jaccard_scores.append(score)\n",
    "    return jaccard_scores"
   ]
  },
  {
   "cell_type": "code",
   "execution_count": 132,
   "metadata": {},
   "outputs": [],
   "source": [
    "jaccard_scores = jaccard_evaluation()"
   ]
  },
  {
   "cell_type": "code",
   "execution_count": 133,
   "metadata": {},
   "outputs": [],
   "source": [
    "ncr_df['jaccard_overlap'] = jaccard_scores"
   ]
  },
  {
   "cell_type": "code",
   "execution_count": 136,
   "metadata": {},
   "outputs": [
    {
     "data": {
      "text/plain": [
       "array([[<matplotlib.axes._subplots.AxesSubplot object at 0x0000023254C5F8C8>]],\n",
       "      dtype=object)"
      ]
     },
     "execution_count": 136,
     "metadata": {},
     "output_type": "execute_result"
    },
    {
     "data": {
      "image/png": "[encoded data removed]",
      "text/plain": [
       "<Figure size 432x288 with 1 Axes>"
      ]
     },
     "metadata": {
      "needs_background": "light"
     },
     "output_type": "display_data"
    }
   ],
   "source": [
    "ncr_df.hist('jaccard_overlap')"
   ]
  },
  {
   "cell_type": "code",
   "execution_count": 144,
   "metadata": {},
   "outputs": [
    {
     "data": {
      "text/plain": [
       "0.36920936284125916"
      ]
     },
     "execution_count": 144,
     "metadata": {},
     "output_type": "execute_result"
    }
   ],
   "source": [
    "ncr_df['jaccard_overlap'].mean()"
   ]
  },
  {
   "cell_type": "code",
   "execution_count": 146,
   "metadata": {},
   "outputs": [
    {
     "data": {
      "text/plain": [
       "['0001156',\n",
       " '0009881',\n",
       " '0001798',\n",
       " '0001792',\n",
       " '0100264',\n",
       " '0008090',\n",
       " '0009702',\n",
       " '0001363',\n",
       " '0001385',\n",
       " '0000006',\n",
       " '0000006',\n",
       " '0000006',\n",
       " '0000006']"
      ]
     },
     "execution_count": 146,
     "metadata": {},
     "output_type": "execute_result"
    }
   ],
   "source": [
    "gsc_data.iloc[0]['HPO_codes']"
   ]
  },
  {
   "cell_type": "code",
   "execution_count": 147,
   "metadata": {},
   "outputs": [
    {
     "data": {
      "text/plain": [
       "['0009370', '0001363', '0008386', '0001385', '0100266']"
      ]
     },
     "execution_count": 147,
     "metadata": {},
     "output_type": "execute_result"
    }
   ],
   "source": [
    "ncr_df.iloc[0]['NCR_HPO_codes']"
   ]
  },
  {
   "cell_type": "code",
   "execution_count": 139,
   "metadata": {},
   "outputs": [
    {
     "data": {
      "text/html": [
       "<div>\n",
       "<style scoped>\n",
       "    .dataframe tbody tr th:only-of-type {\n",
       "        vertical-align: middle;\n",
       "    }\n",
       "\n",
       "    .dataframe tbody tr th {\n",
       "        vertical-align: top;\n",
       "    }\n",
       "\n",
       "    .dataframe thead th {\n",
       "        text-align: right;\n",
       "    }\n",
       "</style>\n",
       "<table border=\"1\" class=\"dataframe\">\n",
       "  <thead>\n",
       "    <tr style=\"text-align: right;\">\n",
       "      <th></th>\n",
       "      <th>NCR_start</th>\n",
       "      <th>NCR_end</th>\n",
       "      <th>NCR_symptoms</th>\n",
       "      <th>NCR_HPO_codes</th>\n",
       "      <th>NCR_confidence_score</th>\n",
       "      <th>jaccard_overlap</th>\n",
       "    </tr>\n",
       "  </thead>\n",
       "  <tbody>\n",
       "    <tr>\n",
       "      <th>0</th>\n",
       "      <td>[0, 210, 74, 232, 166]</td>\n",
       "      <td>[27, 226, 103, 246, 208]</td>\n",
       "      <td>[Type A brachydactyly, Craniosynostosis, Aplas...</td>\n",
       "      <td>[0009370, 0001363, 0008386, 0001385, 0100266]</td>\n",
       "      <td>[0.854373, 0.9803171, 0.97019005, 0.9812449, 0...</td>\n",
       "      <td>0.153846</td>\n",
       "    </tr>\n",
       "    <tr>\n",
       "      <th>1</th>\n",
       "      <td>[139, 163, 177, 202, 224, 246, 314, 344]</td>\n",
       "      <td>[161, 175, 197, 222, 240, 265, 333, 362]</td>\n",
       "      <td>[Abnormality of the outer ear, Hearing impairm...</td>\n",
       "      <td>[0000356, 0000365, 0100258, 0001199, 0002023, ...</td>\n",
       "      <td>[0.9629303, 0.9879309, 0.9797104, 0.9904183, 0...</td>\n",
       "      <td>0.357143</td>\n",
       "    </tr>\n",
       "    <tr>\n",
       "      <th>2</th>\n",
       "      <td>[7, 704, 208, 238, 289, 330, 303, 447, 550]</td>\n",
       "      <td>[27, 716, 229, 273, 301, 357, 325, 476, 562]</td>\n",
       "      <td>[Basal cell carcinoma, Abnormality of skin pig...</td>\n",
       "      <td>[0002671, 0001000, 0002671, 0010603, 0010612, ...</td>\n",
       "      <td>[0.99626815, 0.8976064, 0.9970914, 0.98232365,...</td>\n",
       "      <td>0.500000</td>\n",
       "    </tr>\n",
       "    <tr>\n",
       "      <th>3</th>\n",
       "      <td>[83, 205]</td>\n",
       "      <td>[104, 213]</td>\n",
       "      <td>[Prenatal maternal abnormality, Prenatal mater...</td>\n",
       "      <td>[0002686, 0002686]</td>\n",
       "      <td>[0.9450763, 0.93650734]</td>\n",
       "      <td>0.000000</td>\n",
       "    </tr>\n",
       "    <tr>\n",
       "      <th>4</th>\n",
       "      <td>[180]</td>\n",
       "      <td>[188]</td>\n",
       "      <td>[Prenatal maternal abnormality]</td>\n",
       "      <td>[0002686]</td>\n",
       "      <td>[0.93650734]</td>\n",
       "      <td>0.000000</td>\n",
       "    </tr>\n",
       "    <tr>\n",
       "      <th>...</th>\n",
       "      <td>...</td>\n",
       "      <td>...</td>\n",
       "      <td>...</td>\n",
       "      <td>...</td>\n",
       "      <td>...</td>\n",
       "      <td>...</td>\n",
       "    </tr>\n",
       "    <tr>\n",
       "      <th>223</th>\n",
       "      <td>[46, 670, 699, 686]</td>\n",
       "      <td>[56, 681, 709, 693]</td>\n",
       "      <td>[Overgrowth, Polyphagia, Overgrowth, Obesity]</td>\n",
       "      <td>[0001548, 0002591, 0001548, 0001513]</td>\n",
       "      <td>[0.99701005, 0.9962139, 0.99701005, 0.98880225]</td>\n",
       "      <td>1.000000</td>\n",
       "    </tr>\n",
       "    <tr>\n",
       "      <th>224</th>\n",
       "      <td>[26, 120, 548, 226, 971, 810, 872, 469, 311, 394]</td>\n",
       "      <td>[59, 137, 554, 233, 1003, 816, 879, 476, 344, ...</td>\n",
       "      <td>[Unilateral vestibular Schwannoma, Neurofibrom...</td>\n",
       "      <td>[0009590, 0001067, 0002664, 0002664, 0009590, ...</td>\n",
       "      <td>[0.8733457, 0.995176, 0.98074406, 0.96545285, ...</td>\n",
       "      <td>0.181818</td>\n",
       "    </tr>\n",
       "    <tr>\n",
       "      <th>225</th>\n",
       "      <td>[97, 705, 734, 158, 184, 286, 239, 953, 866, 809]</td>\n",
       "      <td>[117, 726, 750, 179, 200, 295, 245, 960, 886, ...</td>\n",
       "      <td>[Basal cell carcinoma, Basal cell carcinoma, M...</td>\n",
       "      <td>[0002671, 0002671, 0002885, 0002671, 0002885, ...</td>\n",
       "      <td>[0.99626815, 0.9970914, 0.8956474, 0.9970914, ...</td>\n",
       "      <td>0.600000</td>\n",
       "    </tr>\n",
       "    <tr>\n",
       "      <th>226</th>\n",
       "      <td>[]</td>\n",
       "      <td>[]</td>\n",
       "      <td>[]</td>\n",
       "      <td>[]</td>\n",
       "      <td>[]</td>\n",
       "      <td>0.000000</td>\n",
       "    </tr>\n",
       "    <tr>\n",
       "      <th>227</th>\n",
       "      <td>[48, 139, 98, 239, 222, 190, 298, 343, 428, 48...</td>\n",
       "      <td>[65, 156, 106, 253, 235, 196, 310, 348, 445, 5...</td>\n",
       "      <td>[Preauricular pit, Preauricular pit, Hearing i...</td>\n",
       "      <td>[0004467, 0004467, 0000365, 0000104, 0002009, ...</td>\n",
       "      <td>[0.9901764, 0.9901764, 0.98989284, 0.9822874, ...</td>\n",
       "      <td>0.538462</td>\n",
       "    </tr>\n",
       "  </tbody>\n",
       "</table>\n",
       "<p>228 rows × 6 columns</p>\n",
       "</div>"
      ],
      "text/plain": [
       "                                             NCR_start  \\\n",
       "0                               [0, 210, 74, 232, 166]   \n",
       "1             [139, 163, 177, 202, 224, 246, 314, 344]   \n",
       "2          [7, 704, 208, 238, 289, 330, 303, 447, 550]   \n",
       "3                                            [83, 205]   \n",
       "4                                                [180]   \n",
       "..                                                 ...   \n",
       "223                                [46, 670, 699, 686]   \n",
       "224  [26, 120, 548, 226, 971, 810, 872, 469, 311, 394]   \n",
       "225  [97, 705, 734, 158, 184, 286, 239, 953, 866, 809]   \n",
       "226                                                 []   \n",
       "227  [48, 139, 98, 239, 222, 190, 298, 343, 428, 48...   \n",
       "\n",
       "                                               NCR_end  \\\n",
       "0                             [27, 226, 103, 246, 208]   \n",
       "1             [161, 175, 197, 222, 240, 265, 333, 362]   \n",
       "2         [27, 716, 229, 273, 301, 357, 325, 476, 562]   \n",
       "3                                           [104, 213]   \n",
       "4                                                [188]   \n",
       "..                                                 ...   \n",
       "223                                [56, 681, 709, 693]   \n",
       "224  [59, 137, 554, 233, 1003, 816, 879, 476, 344, ...   \n",
       "225  [117, 726, 750, 179, 200, 295, 245, 960, 886, ...   \n",
       "226                                                 []   \n",
       "227  [65, 156, 106, 253, 235, 196, 310, 348, 445, 5...   \n",
       "\n",
       "                                          NCR_symptoms  \\\n",
       "0    [Type A brachydactyly, Craniosynostosis, Aplas...   \n",
       "1    [Abnormality of the outer ear, Hearing impairm...   \n",
       "2    [Basal cell carcinoma, Abnormality of skin pig...   \n",
       "3    [Prenatal maternal abnormality, Prenatal mater...   \n",
       "4                      [Prenatal maternal abnormality]   \n",
       "..                                                 ...   \n",
       "223      [Overgrowth, Polyphagia, Overgrowth, Obesity]   \n",
       "224  [Unilateral vestibular Schwannoma, Neurofibrom...   \n",
       "225  [Basal cell carcinoma, Basal cell carcinoma, M...   \n",
       "226                                                 []   \n",
       "227  [Preauricular pit, Preauricular pit, Hearing i...   \n",
       "\n",
       "                                         NCR_HPO_codes  \\\n",
       "0        [0009370, 0001363, 0008386, 0001385, 0100266]   \n",
       "1    [0000356, 0000365, 0100258, 0001199, 0002023, ...   \n",
       "2    [0002671, 0001000, 0002671, 0010603, 0010612, ...   \n",
       "3                                   [0002686, 0002686]   \n",
       "4                                            [0002686]   \n",
       "..                                                 ...   \n",
       "223               [0001548, 0002591, 0001548, 0001513]   \n",
       "224  [0009590, 0001067, 0002664, 0002664, 0009590, ...   \n",
       "225  [0002671, 0002671, 0002885, 0002671, 0002885, ...   \n",
       "226                                                 []   \n",
       "227  [0004467, 0004467, 0000365, 0000104, 0002009, ...   \n",
       "\n",
       "                                  NCR_confidence_score  jaccard_overlap  \n",
       "0    [0.854373, 0.9803171, 0.97019005, 0.9812449, 0...         0.153846  \n",
       "1    [0.9629303, 0.9879309, 0.9797104, 0.9904183, 0...         0.357143  \n",
       "2    [0.99626815, 0.8976064, 0.9970914, 0.98232365,...         0.500000  \n",
       "3                              [0.9450763, 0.93650734]         0.000000  \n",
       "4                                         [0.93650734]         0.000000  \n",
       "..                                                 ...              ...  \n",
       "223    [0.99701005, 0.9962139, 0.99701005, 0.98880225]         1.000000  \n",
       "224  [0.8733457, 0.995176, 0.98074406, 0.96545285, ...         0.181818  \n",
       "225  [0.99626815, 0.9970914, 0.8956474, 0.9970914, ...         0.600000  \n",
       "226                                                 []         0.000000  \n",
       "227  [0.9901764, 0.9901764, 0.98989284, 0.9822874, ...         0.538462  \n",
       "\n",
       "[228 rows x 6 columns]"
      ]
     },
     "execution_count": 139,
     "metadata": {},
     "output_type": "execute_result"
    }
   ],
   "source": [
    "ncr_df"
   ]
  },
  {
   "cell_type": "markdown",
   "metadata": {},
   "source": [
    "Slides\n",
    "* answer the question which algorithm is better on average\n",
    "* how often one is better than the other and vice versa\n",
    "* when the one is better than the other? (try to find some categories)\n",
    "* how many HPO we have here\n",
    "* report metrics for both algorithms\n",
    "* briefly describe the work done\n",
    "* briefly describe the data"
   ]
  },
  {
   "cell_type": "markdown",
   "metadata": {},
   "source": [
    "Tasks for now\n",
    "* pull the CliPhen and Text Analytics data\n",
    "* double check we're doing it right and aggregate the results\n",
    "* what to do with the negated????\n",
    "* filter out non-symptoms (from where)\n",
    "* calculate jaccard over that\n",
    "* run the BioLink similiarity\n",
    "* compare and visualize the results"
   ]
  },
  {
   "cell_type": "markdown",
   "metadata": {},
   "source": [
    "### Text Analytics for Health"
   ]
  },
  {
   "cell_type": "code",
   "execution_count": 152,
   "metadata": {},
   "outputs": [],
   "source": [
    "ta_health_df = pd.read_csv('TAforHealth_results.csv', \n",
    "                           converters={'offset_list': eval, 'length_list': eval,\n",
    "                                       'text_list': eval, 'score_list': eval,\n",
    "                                      'isNegated_list': eval, 'HPO_codes': eval})"
   ]
  },
  {
   "cell_type": "code",
   "execution_count": 153,
   "metadata": {},
   "outputs": [
    {
     "data": {
      "text/html": [
       "<div>\n",
       "<style scoped>\n",
       "    .dataframe tbody tr th:only-of-type {\n",
       "        vertical-align: middle;\n",
       "    }\n",
       "\n",
       "    .dataframe tbody tr th {\n",
       "        vertical-align: top;\n",
       "    }\n",
       "\n",
       "    .dataframe thead th {\n",
       "        text-align: right;\n",
       "    }\n",
       "</style>\n",
       "<table border=\"1\" class=\"dataframe\">\n",
       "  <thead>\n",
       "    <tr style=\"text-align: right;\">\n",
       "      <th></th>\n",
       "      <th>file</th>\n",
       "      <th>offset_list</th>\n",
       "      <th>length_list</th>\n",
       "      <th>text_list</th>\n",
       "      <th>score_list</th>\n",
       "      <th>isNegated_list</th>\n",
       "      <th>HPO_codes</th>\n",
       "    </tr>\n",
       "  </thead>\n",
       "  <tbody>\n",
       "    <tr>\n",
       "      <th>0</th>\n",
       "      <td>1003450</td>\n",
       "      <td>[14, 86, 105, 210]</td>\n",
       "      <td>[13, 17, 13, 16]</td>\n",
       "      <td>[brachydactyly, hypoplastic nails, symphalangi...</td>\n",
       "      <td>[0.89, 0.67, 0.94, 0.99]</td>\n",
       "      <td>[False, True, True, True]</td>\n",
       "      <td>[0001156, 0001792, 0001159, 0001363]</td>\n",
       "    </tr>\n",
       "    <tr>\n",
       "      <th>1</th>\n",
       "      <td>10051003</td>\n",
       "      <td>[177, 202, 224, 246, 344]</td>\n",
       "      <td>[20, 20, 16, 19, 18]</td>\n",
       "      <td>[preaxial polydactyly, triphalangeal thumbs, i...</td>\n",
       "      <td>[0.89, 0.84, 0.76, 0.94, 0.97]</td>\n",
       "      <td>[False, False, False, False, False]</td>\n",
       "      <td>[0100258, 0001199, 0002023, 0012210, 0001249]</td>\n",
       "    </tr>\n",
       "    <tr>\n",
       "      <th>2</th>\n",
       "      <td>10066029</td>\n",
       "      <td>[208, 231, 238, 289, 303, 330, 447, 534, 550, ...</td>\n",
       "      <td>[21, 4, 35, 12, 22, 27, 29, 4, 12, 4]</td>\n",
       "      <td>[basal cell carcinomas, BCCs, odontogenic kera...</td>\n",
       "      <td>[0.99, 0.99, 0.9, 0.62, 1.0, 0.65, 0.68, 0.99,...</td>\n",
       "      <td>[False, False, False, False, False, False, Fal...</td>\n",
       "      <td>[0002671, 0002671, 0010603, 0010612, 0000924, ...</td>\n",
       "    </tr>\n",
       "    <tr>\n",
       "      <th>3</th>\n",
       "      <td>10196695</td>\n",
       "      <td>[277, 297, 839]</td>\n",
       "      <td>[18, 3, 24]</td>\n",
       "      <td>[uniparental disomy, UPD, contiguous gene synd...</td>\n",
       "      <td>[0.99, 0.99, 0.99]</td>\n",
       "      <td>[False, False, False]</td>\n",
       "      <td>[0032382, 0032382, 0001466]</td>\n",
       "    </tr>\n",
       "    <tr>\n",
       "      <th>4</th>\n",
       "      <td>10417280</td>\n",
       "      <td>[]</td>\n",
       "      <td>[]</td>\n",
       "      <td>[]</td>\n",
       "      <td>[]</td>\n",
       "      <td>[]</td>\n",
       "      <td>[]</td>\n",
       "    </tr>\n",
       "  </tbody>\n",
       "</table>\n",
       "</div>"
      ],
      "text/plain": [
       "       file                                        offset_list  \\\n",
       "0   1003450                                 [14, 86, 105, 210]   \n",
       "1  10051003                          [177, 202, 224, 246, 344]   \n",
       "2  10066029  [208, 231, 238, 289, 303, 330, 447, 534, 550, ...   \n",
       "3  10196695                                    [277, 297, 839]   \n",
       "4  10417280                                                 []   \n",
       "\n",
       "                             length_list  \\\n",
       "0                       [13, 17, 13, 16]   \n",
       "1                   [20, 20, 16, 19, 18]   \n",
       "2  [21, 4, 35, 12, 22, 27, 29, 4, 12, 4]   \n",
       "3                            [18, 3, 24]   \n",
       "4                                     []   \n",
       "\n",
       "                                           text_list  \\\n",
       "0  [brachydactyly, hypoplastic nails, symphalangi...   \n",
       "1  [preaxial polydactyly, triphalangeal thumbs, i...   \n",
       "2  [basal cell carcinomas, BCCs, odontogenic kera...   \n",
       "3  [uniparental disomy, UPD, contiguous gene synd...   \n",
       "4                                                 []   \n",
       "\n",
       "                                          score_list  \\\n",
       "0                           [0.89, 0.67, 0.94, 0.99]   \n",
       "1                     [0.89, 0.84, 0.76, 0.94, 0.97]   \n",
       "2  [0.99, 0.99, 0.9, 0.62, 1.0, 0.65, 0.68, 0.99,...   \n",
       "3                                 [0.99, 0.99, 0.99]   \n",
       "4                                                 []   \n",
       "\n",
       "                                      isNegated_list  \\\n",
       "0                          [False, True, True, True]   \n",
       "1                [False, False, False, False, False]   \n",
       "2  [False, False, False, False, False, False, Fal...   \n",
       "3                              [False, False, False]   \n",
       "4                                                 []   \n",
       "\n",
       "                                           HPO_codes  \n",
       "0               [0001156, 0001792, 0001159, 0001363]  \n",
       "1      [0100258, 0001199, 0002023, 0012210, 0001249]  \n",
       "2  [0002671, 0002671, 0010603, 0010612, 0000924, ...  \n",
       "3                        [0032382, 0032382, 0001466]  \n",
       "4                                                 []  "
      ]
     },
     "execution_count": 153,
     "metadata": {},
     "output_type": "execute_result"
    }
   ],
   "source": [
    "ta_health_df.head()"
   ]
  },
  {
   "cell_type": "code",
   "execution_count": 154,
   "metadata": {},
   "outputs": [
    {
     "data": {
      "text/plain": [
       "(228, 7)"
      ]
     },
     "execution_count": 154,
     "metadata": {},
     "output_type": "execute_result"
    }
   ],
   "source": [
    "ta_health_df.shape"
   ]
  },
  {
   "cell_type": "code",
   "execution_count": 156,
   "metadata": {},
   "outputs": [],
   "source": [
    "ta_health_jaccard_scores = []\n",
    "for i, row in ta_health_df.iterrows():\n",
    "    gsc_row = gsc_data.iloc[i]\n",
    "    gsc_codes = gsc_row['HPO_codes']\n",
    "    ta_health_codes = row['HPO_codes']\n",
    "    score = jaccard_score(gsc_codes, ta_health_codes)\n",
    "    ta_health_jaccard_scores.append(score)"
   ]
  },
  {
   "cell_type": "code",
   "execution_count": 166,
   "metadata": {},
   "outputs": [
    {
     "data": {
      "text/plain": [
       "[0.2727272727272727,\n",
       " 0.21428571428571427,\n",
       " 0.5454545454545454,\n",
       " 0.3333333333333333,\n",
       " 0.0,\n",
       " 0.14285714285714285,\n",
       " 0.26666666666666666,\n",
       " 0.4,\n",
       " 0.23076923076923078,\n",
       " 0.30434782608695654]"
      ]
     },
     "execution_count": 166,
     "metadata": {},
     "output_type": "execute_result"
    }
   ],
   "source": [
    "ta_health_jaccard_scores[:10]"
   ]
  },
  {
   "cell_type": "code",
   "execution_count": 158,
   "metadata": {},
   "outputs": [],
   "source": [
    "ta_health_df['jaccard_score'] = ta_health_jaccard_scores"
   ]
  },
  {
   "cell_type": "code",
   "execution_count": 159,
   "metadata": {},
   "outputs": [
    {
     "data": {
      "text/html": [
       "<div>\n",
       "<style scoped>\n",
       "    .dataframe tbody tr th:only-of-type {\n",
       "        vertical-align: middle;\n",
       "    }\n",
       "\n",
       "    .dataframe tbody tr th {\n",
       "        vertical-align: top;\n",
       "    }\n",
       "\n",
       "    .dataframe thead th {\n",
       "        text-align: right;\n",
       "    }\n",
       "</style>\n",
       "<table border=\"1\" class=\"dataframe\">\n",
       "  <thead>\n",
       "    <tr style=\"text-align: right;\">\n",
       "      <th></th>\n",
       "      <th>file</th>\n",
       "      <th>offset_list</th>\n",
       "      <th>length_list</th>\n",
       "      <th>text_list</th>\n",
       "      <th>score_list</th>\n",
       "      <th>isNegated_list</th>\n",
       "      <th>HPO_codes</th>\n",
       "      <th>jaccard_score</th>\n",
       "    </tr>\n",
       "  </thead>\n",
       "  <tbody>\n",
       "    <tr>\n",
       "      <th>0</th>\n",
       "      <td>1003450</td>\n",
       "      <td>[14, 86, 105, 210]</td>\n",
       "      <td>[13, 17, 13, 16]</td>\n",
       "      <td>[brachydactyly, hypoplastic nails, symphalangi...</td>\n",
       "      <td>[0.89, 0.67, 0.94, 0.99]</td>\n",
       "      <td>[False, True, True, True]</td>\n",
       "      <td>[0001156, 0001792, 0001159, 0001363]</td>\n",
       "      <td>0.272727</td>\n",
       "    </tr>\n",
       "    <tr>\n",
       "      <th>1</th>\n",
       "      <td>10051003</td>\n",
       "      <td>[177, 202, 224, 246, 344]</td>\n",
       "      <td>[20, 20, 16, 19, 18]</td>\n",
       "      <td>[preaxial polydactyly, triphalangeal thumbs, i...</td>\n",
       "      <td>[0.89, 0.84, 0.76, 0.94, 0.97]</td>\n",
       "      <td>[False, False, False, False, False]</td>\n",
       "      <td>[0100258, 0001199, 0002023, 0012210, 0001249]</td>\n",
       "      <td>0.214286</td>\n",
       "    </tr>\n",
       "    <tr>\n",
       "      <th>2</th>\n",
       "      <td>10066029</td>\n",
       "      <td>[208, 231, 238, 289, 303, 330, 447, 534, 550, ...</td>\n",
       "      <td>[21, 4, 35, 12, 22, 27, 29, 4, 12, 4]</td>\n",
       "      <td>[basal cell carcinomas, BCCs, odontogenic kera...</td>\n",
       "      <td>[0.99, 0.99, 0.9, 0.62, 1.0, 0.65, 0.68, 0.99,...</td>\n",
       "      <td>[False, False, False, False, False, False, Fal...</td>\n",
       "      <td>[0002671, 0002671, 0010603, 0010612, 0000924, ...</td>\n",
       "      <td>0.545455</td>\n",
       "    </tr>\n",
       "    <tr>\n",
       "      <th>3</th>\n",
       "      <td>10196695</td>\n",
       "      <td>[277, 297, 839]</td>\n",
       "      <td>[18, 3, 24]</td>\n",
       "      <td>[uniparental disomy, UPD, contiguous gene synd...</td>\n",
       "      <td>[0.99, 0.99, 0.99]</td>\n",
       "      <td>[False, False, False]</td>\n",
       "      <td>[0032382, 0032382, 0001466]</td>\n",
       "      <td>0.333333</td>\n",
       "    </tr>\n",
       "    <tr>\n",
       "      <th>4</th>\n",
       "      <td>10417280</td>\n",
       "      <td>[]</td>\n",
       "      <td>[]</td>\n",
       "      <td>[]</td>\n",
       "      <td>[]</td>\n",
       "      <td>[]</td>\n",
       "      <td>[]</td>\n",
       "      <td>0.000000</td>\n",
       "    </tr>\n",
       "  </tbody>\n",
       "</table>\n",
       "</div>"
      ],
      "text/plain": [
       "       file                                        offset_list  \\\n",
       "0   1003450                                 [14, 86, 105, 210]   \n",
       "1  10051003                          [177, 202, 224, 246, 344]   \n",
       "2  10066029  [208, 231, 238, 289, 303, 330, 447, 534, 550, ...   \n",
       "3  10196695                                    [277, 297, 839]   \n",
       "4  10417280                                                 []   \n",
       "\n",
       "                             length_list  \\\n",
       "0                       [13, 17, 13, 16]   \n",
       "1                   [20, 20, 16, 19, 18]   \n",
       "2  [21, 4, 35, 12, 22, 27, 29, 4, 12, 4]   \n",
       "3                            [18, 3, 24]   \n",
       "4                                     []   \n",
       "\n",
       "                                           text_list  \\\n",
       "0  [brachydactyly, hypoplastic nails, symphalangi...   \n",
       "1  [preaxial polydactyly, triphalangeal thumbs, i...   \n",
       "2  [basal cell carcinomas, BCCs, odontogenic kera...   \n",
       "3  [uniparental disomy, UPD, contiguous gene synd...   \n",
       "4                                                 []   \n",
       "\n",
       "                                          score_list  \\\n",
       "0                           [0.89, 0.67, 0.94, 0.99]   \n",
       "1                     [0.89, 0.84, 0.76, 0.94, 0.97]   \n",
       "2  [0.99, 0.99, 0.9, 0.62, 1.0, 0.65, 0.68, 0.99,...   \n",
       "3                                 [0.99, 0.99, 0.99]   \n",
       "4                                                 []   \n",
       "\n",
       "                                      isNegated_list  \\\n",
       "0                          [False, True, True, True]   \n",
       "1                [False, False, False, False, False]   \n",
       "2  [False, False, False, False, False, False, Fal...   \n",
       "3                              [False, False, False]   \n",
       "4                                                 []   \n",
       "\n",
       "                                           HPO_codes  jaccard_score  \n",
       "0               [0001156, 0001792, 0001159, 0001363]       0.272727  \n",
       "1      [0100258, 0001199, 0002023, 0012210, 0001249]       0.214286  \n",
       "2  [0002671, 0002671, 0010603, 0010612, 0000924, ...       0.545455  \n",
       "3                        [0032382, 0032382, 0001466]       0.333333  \n",
       "4                                                 []       0.000000  "
      ]
     },
     "execution_count": 159,
     "metadata": {},
     "output_type": "execute_result"
    }
   ],
   "source": [
    "ta_health_df.head()"
   ]
  },
  {
   "cell_type": "code",
   "execution_count": 160,
   "metadata": {},
   "outputs": [
    {
     "data": {
      "text/html": [
       "<div>\n",
       "<style scoped>\n",
       "    .dataframe tbody tr th:only-of-type {\n",
       "        vertical-align: middle;\n",
       "    }\n",
       "\n",
       "    .dataframe tbody tr th {\n",
       "        vertical-align: top;\n",
       "    }\n",
       "\n",
       "    .dataframe thead th {\n",
       "        text-align: right;\n",
       "    }\n",
       "</style>\n",
       "<table border=\"1\" class=\"dataframe\">\n",
       "  <thead>\n",
       "    <tr style=\"text-align: right;\">\n",
       "      <th></th>\n",
       "      <th>NCR_start</th>\n",
       "      <th>NCR_end</th>\n",
       "      <th>NCR_symptoms</th>\n",
       "      <th>NCR_HPO_codes</th>\n",
       "      <th>NCR_confidence_score</th>\n",
       "      <th>jaccard_overlap</th>\n",
       "    </tr>\n",
       "  </thead>\n",
       "  <tbody>\n",
       "    <tr>\n",
       "      <th>0</th>\n",
       "      <td>[0, 210, 74, 232, 166]</td>\n",
       "      <td>[27, 226, 103, 246, 208]</td>\n",
       "      <td>[Type A brachydactyly, Craniosynostosis, Aplas...</td>\n",
       "      <td>[0009370, 0001363, 0008386, 0001385, 0100266]</td>\n",
       "      <td>[0.854373, 0.9803171, 0.97019005, 0.9812449, 0...</td>\n",
       "      <td>0.153846</td>\n",
       "    </tr>\n",
       "    <tr>\n",
       "      <th>1</th>\n",
       "      <td>[139, 163, 177, 202, 224, 246, 314, 344]</td>\n",
       "      <td>[161, 175, 197, 222, 240, 265, 333, 362]</td>\n",
       "      <td>[Abnormality of the outer ear, Hearing impairm...</td>\n",
       "      <td>[0000356, 0000365, 0100258, 0001199, 0002023, ...</td>\n",
       "      <td>[0.9629303, 0.9879309, 0.9797104, 0.9904183, 0...</td>\n",
       "      <td>0.357143</td>\n",
       "    </tr>\n",
       "    <tr>\n",
       "      <th>2</th>\n",
       "      <td>[7, 704, 208, 238, 289, 330, 303, 447, 550]</td>\n",
       "      <td>[27, 716, 229, 273, 301, 357, 325, 476, 562]</td>\n",
       "      <td>[Basal cell carcinoma, Abnormality of skin pig...</td>\n",
       "      <td>[0002671, 0001000, 0002671, 0010603, 0010612, ...</td>\n",
       "      <td>[0.99626815, 0.8976064, 0.9970914, 0.98232365,...</td>\n",
       "      <td>0.500000</td>\n",
       "    </tr>\n",
       "    <tr>\n",
       "      <th>3</th>\n",
       "      <td>[83, 205]</td>\n",
       "      <td>[104, 213]</td>\n",
       "      <td>[Prenatal maternal abnormality, Prenatal mater...</td>\n",
       "      <td>[0002686, 0002686]</td>\n",
       "      <td>[0.9450763, 0.93650734]</td>\n",
       "      <td>0.000000</td>\n",
       "    </tr>\n",
       "    <tr>\n",
       "      <th>4</th>\n",
       "      <td>[180]</td>\n",
       "      <td>[188]</td>\n",
       "      <td>[Prenatal maternal abnormality]</td>\n",
       "      <td>[0002686]</td>\n",
       "      <td>[0.93650734]</td>\n",
       "      <td>0.000000</td>\n",
       "    </tr>\n",
       "  </tbody>\n",
       "</table>\n",
       "</div>"
      ],
      "text/plain": [
       "                                     NCR_start  \\\n",
       "0                       [0, 210, 74, 232, 166]   \n",
       "1     [139, 163, 177, 202, 224, 246, 314, 344]   \n",
       "2  [7, 704, 208, 238, 289, 330, 303, 447, 550]   \n",
       "3                                    [83, 205]   \n",
       "4                                        [180]   \n",
       "\n",
       "                                        NCR_end  \\\n",
       "0                      [27, 226, 103, 246, 208]   \n",
       "1      [161, 175, 197, 222, 240, 265, 333, 362]   \n",
       "2  [27, 716, 229, 273, 301, 357, 325, 476, 562]   \n",
       "3                                    [104, 213]   \n",
       "4                                         [188]   \n",
       "\n",
       "                                        NCR_symptoms  \\\n",
       "0  [Type A brachydactyly, Craniosynostosis, Aplas...   \n",
       "1  [Abnormality of the outer ear, Hearing impairm...   \n",
       "2  [Basal cell carcinoma, Abnormality of skin pig...   \n",
       "3  [Prenatal maternal abnormality, Prenatal mater...   \n",
       "4                    [Prenatal maternal abnormality]   \n",
       "\n",
       "                                       NCR_HPO_codes  \\\n",
       "0      [0009370, 0001363, 0008386, 0001385, 0100266]   \n",
       "1  [0000356, 0000365, 0100258, 0001199, 0002023, ...   \n",
       "2  [0002671, 0001000, 0002671, 0010603, 0010612, ...   \n",
       "3                                 [0002686, 0002686]   \n",
       "4                                          [0002686]   \n",
       "\n",
       "                                NCR_confidence_score  jaccard_overlap  \n",
       "0  [0.854373, 0.9803171, 0.97019005, 0.9812449, 0...         0.153846  \n",
       "1  [0.9629303, 0.9879309, 0.9797104, 0.9904183, 0...         0.357143  \n",
       "2  [0.99626815, 0.8976064, 0.9970914, 0.98232365,...         0.500000  \n",
       "3                            [0.9450763, 0.93650734]         0.000000  \n",
       "4                                       [0.93650734]         0.000000  "
      ]
     },
     "execution_count": 160,
     "metadata": {},
     "output_type": "execute_result"
    }
   ],
   "source": [
    "ncr_df.head()"
   ]
  },
  {
   "cell_type": "code",
   "execution_count": 161,
   "metadata": {},
   "outputs": [
    {
     "data": {
      "text/plain": [
       "0.30369589038727574"
      ]
     },
     "execution_count": 161,
     "metadata": {},
     "output_type": "execute_result"
    }
   ],
   "source": [
    "ta_health_df['jaccard_score'].mean()"
   ]
  },
  {
   "cell_type": "code",
   "execution_count": 162,
   "metadata": {},
   "outputs": [
    {
     "data": {
      "text/plain": [
       "0.36920936284125916"
      ]
     },
     "execution_count": 162,
     "metadata": {},
     "output_type": "execute_result"
    }
   ],
   "source": [
    "ncr_df['jaccard_overlap'].mean()"
   ]
  },
  {
   "cell_type": "markdown",
   "metadata": {},
   "source": [
    "### ClinPhen"
   ]
  },
  {
   "cell_type": "code",
   "execution_count": 528,
   "metadata": {},
   "outputs": [],
   "source": [
    "clinphen_df = pd.read_csv('ClinPhen_Output.csv', converters={'HPO ID': eval})"
   ]
  },
  {
   "cell_type": "code",
   "execution_count": 529,
   "metadata": {},
   "outputs": [
    {
     "data": {
      "text/plain": [
       "0      [HP:0001792, HP:0001156, HP:0001798, HP:000970...\n",
       "1      [HP:0000356, HP:0000598, HP:0010442, HP:000036...\n",
       "2      [HP:0010612, HP:0002671, HP:0030731, HP:001061...\n",
       "3                                                     []\n",
       "4                                                     []\n",
       "                             ...                        \n",
       "223                 [HP:0001548, HP:0001513, HP:0002591]\n",
       "224    [HP:0100008, HP:0002664, HP:0009588, HP:000959...\n",
       "225     [HP:0002671, HP:0030731, HP:0002885, HP:0002664]\n",
       "226                                                   []\n",
       "227    [HP:0004467, HP:0000104, HP:0000365, HP:000200...\n",
       "Name: HPO ID, Length: 228, dtype: object"
      ]
     },
     "execution_count": 529,
     "metadata": {},
     "output_type": "execute_result"
    }
   ],
   "source": [
    "clinphen_df['HPO ID']"
   ]
  },
  {
   "cell_type": "code",
   "execution_count": 530,
   "metadata": {},
   "outputs": [
    {
     "data": {
      "text/plain": [
       "(228, 6)"
      ]
     },
     "execution_count": 530,
     "metadata": {},
     "output_type": "execute_result"
    }
   ],
   "source": [
    "clinphen_df.shape"
   ]
  },
  {
   "cell_type": "code",
   "execution_count": 531,
   "metadata": {},
   "outputs": [
    {
     "data": {
      "text/plain": [
       "(228, 6)"
      ]
     },
     "execution_count": 531,
     "metadata": {},
     "output_type": "execute_result"
    }
   ],
   "source": [
    "gsc_data.shape"
   ]
  },
  {
   "cell_type": "code",
   "execution_count": 532,
   "metadata": {},
   "outputs": [
    {
     "data": {
      "text/plain": [
       "['HP:0000356',\n",
       " 'HP:0000598',\n",
       " 'HP:0010442',\n",
       " 'HP:0000365',\n",
       " 'HP:0100258',\n",
       " 'HP:0001199',\n",
       " 'HP:0002023',\n",
       " 'HP:0012210',\n",
       " 'HP:0001249']"
      ]
     },
     "execution_count": 532,
     "metadata": {},
     "output_type": "execute_result"
    }
   ],
   "source": [
    "clinphen_df.iloc[1]['HPO ID']"
   ]
  },
  {
   "cell_type": "code",
   "execution_count": 533,
   "metadata": {},
   "outputs": [],
   "source": [
    "clinphen_jaccard_scores = []\n",
    "for i, row in clinphen_df.iterrows():\n",
    "    gsc_row = gsc_data.iloc[i]\n",
    "    gsc_codes = gsc_row['HPO_codes']\n",
    "    clinphen_codes = row['HPO ID']\n",
    "    clinphen_codes = [code[3:] for code in clinphen_codes]\n",
    "    score = jaccard_score(gsc_codes, clinphen_codes)\n",
    "    clinphen_jaccard_scores.append(score)"
   ]
  },
  {
   "cell_type": "code",
   "execution_count": 534,
   "metadata": {},
   "outputs": [
    {
     "data": {
      "text/plain": [
       "[0.5,\n",
       " 0.5,\n",
       " 0.5833333333333334,\n",
       " 0.0,\n",
       " 0.0,\n",
       " 0.3333333333333333,\n",
       " 0.42105263157894735,\n",
       " 0.4444444444444444,\n",
       " 0.5,\n",
       " 0.4166666666666667]"
      ]
     },
     "execution_count": 534,
     "metadata": {},
     "output_type": "execute_result"
    }
   ],
   "source": [
    "clinphen_jaccard_scores[:10]"
   ]
  },
  {
   "cell_type": "code",
   "execution_count": 535,
   "metadata": {},
   "outputs": [],
   "source": [
    "clinphen_df['jaccard_score'] = clinphen_jaccard_scores"
   ]
  },
  {
   "cell_type": "code",
   "execution_count": 536,
   "metadata": {},
   "outputs": [
    {
     "data": {
      "text/plain": [
       "0.404282525777813"
      ]
     },
     "execution_count": 536,
     "metadata": {},
     "output_type": "execute_result"
    }
   ],
   "source": [
    "clinphen_df['jaccard_score'].mean()"
   ]
  },
  {
   "cell_type": "markdown",
   "metadata": {},
   "source": [
    "### Semantic similarity"
   ]
  },
  {
   "cell_type": "code",
   "execution_count": 245,
   "metadata": {},
   "outputs": [],
   "source": [
    "biolink_endpoint = 'https://api.monarchinitiative.org/api/sim/compare'"
   ]
  },
  {
   "cell_type": "code",
   "execution_count": 332,
   "metadata": {},
   "outputs": [],
   "source": [
    "def append_hpo_prefix(code):\n",
    "    if code.startswith('HP:'):\n",
    "        return code\n",
    "    else:\n",
    "        return 'HP:' + code\n",
    "\n",
    "def biolink_score(ref_ids, query_ids, metric='phenodigm', is_feature_set='true'):\n",
    "    ref_ids = [append_hpo_prefix(id_) for id_ in ref_ids]\n",
    "    query_ids = [append_hpo_prefix(id_) for id_ in query_ids]\n",
    "    #print('Ref: {}, Query: {}'.format(ref_ids, query_ids))\n",
    "    r = requests.get(biolink_endpoint, params={\n",
    "        'ref_id': ref_ids,\n",
    "        'query_id': query_ids,\n",
    "        'metric': metric,\n",
    "        'is_feature_set': is_feature_set,\n",
    "    })\n",
    "    if r.status_code == 200:\n",
    "        output = r.json()\n",
    "        print('OK')\n",
    "        return output['matches'][0]['score']\n",
    "    else:\n",
    "        print(r.text)\n",
    "        return 0"
   ]
  },
  {
   "cell_type": "code",
   "execution_count": 333,
   "metadata": {},
   "outputs": [],
   "source": [
    "def semantic_score(ref_column, query_column):\n",
    "    return [biolink_score(ref_ids, query_ids, is_feature_set=False)\n",
    "            for ref_ids, query_ids in zip(ref_column, query_column)]"
   ]
  },
  {
   "cell_type": "code",
   "execution_count": 334,
   "metadata": {},
   "outputs": [
    {
     "data": {
      "text/html": [
       "<div>\n",
       "<style scoped>\n",
       "    .dataframe tbody tr th:only-of-type {\n",
       "        vertical-align: middle;\n",
       "    }\n",
       "\n",
       "    .dataframe tbody tr th {\n",
       "        vertical-align: top;\n",
       "    }\n",
       "\n",
       "    .dataframe thead th {\n",
       "        text-align: right;\n",
       "    }\n",
       "</style>\n",
       "<table border=\"1\" class=\"dataframe\">\n",
       "  <thead>\n",
       "    <tr style=\"text-align: right;\">\n",
       "      <th></th>\n",
       "      <th>FileName</th>\n",
       "      <th>Actual Text</th>\n",
       "      <th>HPO ID</th>\n",
       "      <th>Phenotype name</th>\n",
       "      <th>No. occurrences</th>\n",
       "      <th>Earliness (lower = earlier)</th>\n",
       "      <th>Example sentence</th>\n",
       "      <th>jaccard_score</th>\n",
       "    </tr>\n",
       "  </thead>\n",
       "  <tbody>\n",
       "    <tr>\n",
       "      <th>0</th>\n",
       "      <td>1003450</td>\n",
       "      <td>['A syndrome of brachydactyly (absence of some...</td>\n",
       "      <td>[HP:0001792, HP:0001156, HP:0001798, HP:000970...</td>\n",
       "      <td>['Small nail', 'Brachydactyly', 'Anonychia', '...</td>\n",
       "      <td>[2, 1, 1, 1, 1]</td>\n",
       "      <td>[4, 2, 4, 8, 10]</td>\n",
       "      <td>[' 74 103 hp 0001798 aplastic or hypoplastic n...</td>\n",
       "      <td>0.500000</td>\n",
       "    </tr>\n",
       "    <tr>\n",
       "      <th>1</th>\n",
       "      <td>10051003</td>\n",
       "      <td>['Townes-Brocks syndrome (TBS) is an autosomal...</td>\n",
       "      <td>[HP:0000356, HP:0000598, HP:0010442, HP:000036...</td>\n",
       "      <td>['Abnormality of the outer ear', 'Abnormality ...</td>\n",
       "      <td>[2, 2, 2, 1, 1, 1, 1, 1, 1]</td>\n",
       "      <td>[6, 6, 9, 8, 9, 11, 12, 13, 14]</td>\n",
       "      <td>[' 139 161 hp 0000356 external ear anomalies',...</td>\n",
       "      <td>0.500000</td>\n",
       "    </tr>\n",
       "    <tr>\n",
       "      <th>2</th>\n",
       "      <td>10066029</td>\n",
       "      <td>['Nevoid basal cell carcinoma syndrome (NBCCS)...</td>\n",
       "      <td>[HP:0010612, HP:0002671, HP:0030731, HP:001061...</td>\n",
       "      <td>['Plantar pits', 'Basal cell carcinoma', 'Carc...</td>\n",
       "      <td>[4, 2, 2, 2, 1, 1, 1, 1]</td>\n",
       "      <td>[11, 1, 1, 11, 10, 14, 15, 17]</td>\n",
       "      <td>[' 543 562 hp 0010610 palmar plantar pits', ' ...</td>\n",
       "      <td>0.583333</td>\n",
       "    </tr>\n",
       "    <tr>\n",
       "      <th>3</th>\n",
       "      <td>10196695</td>\n",
       "      <td>['Angelman syndrome (AS) is a neurodevelopment...</td>\n",
       "      <td>[]</td>\n",
       "      <td>[]</td>\n",
       "      <td>[]</td>\n",
       "      <td>[]</td>\n",
       "      <td>[]</td>\n",
       "      <td>0.000000</td>\n",
       "    </tr>\n",
       "    <tr>\n",
       "      <th>4</th>\n",
       "      <td>10417280</td>\n",
       "      <td>['Prader-Willi syndrome (PWS) and Angelman syn...</td>\n",
       "      <td>[]</td>\n",
       "      <td>[]</td>\n",
       "      <td>[]</td>\n",
       "      <td>[]</td>\n",
       "      <td>[]</td>\n",
       "      <td>0.000000</td>\n",
       "    </tr>\n",
       "  </tbody>\n",
       "</table>\n",
       "</div>"
      ],
      "text/plain": [
       "   FileName                                        Actual Text  \\\n",
       "0   1003450  ['A syndrome of brachydactyly (absence of some...   \n",
       "1  10051003  ['Townes-Brocks syndrome (TBS) is an autosomal...   \n",
       "2  10066029  ['Nevoid basal cell carcinoma syndrome (NBCCS)...   \n",
       "3  10196695  ['Angelman syndrome (AS) is a neurodevelopment...   \n",
       "4  10417280  ['Prader-Willi syndrome (PWS) and Angelman syn...   \n",
       "\n",
       "                                              HPO ID  \\\n",
       "0  [HP:0001792, HP:0001156, HP:0001798, HP:000970...   \n",
       "1  [HP:0000356, HP:0000598, HP:0010442, HP:000036...   \n",
       "2  [HP:0010612, HP:0002671, HP:0030731, HP:001061...   \n",
       "3                                                 []   \n",
       "4                                                 []   \n",
       "\n",
       "                                      Phenotype name  \\\n",
       "0  ['Small nail', 'Brachydactyly', 'Anonychia', '...   \n",
       "1  ['Abnormality of the outer ear', 'Abnormality ...   \n",
       "2  ['Plantar pits', 'Basal cell carcinoma', 'Carc...   \n",
       "3                                                 []   \n",
       "4                                                 []   \n",
       "\n",
       "               No. occurrences      Earliness (lower = earlier)  \\\n",
       "0              [2, 1, 1, 1, 1]                 [4, 2, 4, 8, 10]   \n",
       "1  [2, 2, 2, 1, 1, 1, 1, 1, 1]  [6, 6, 9, 8, 9, 11, 12, 13, 14]   \n",
       "2     [4, 2, 2, 2, 1, 1, 1, 1]   [11, 1, 1, 11, 10, 14, 15, 17]   \n",
       "3                           []                               []   \n",
       "4                           []                               []   \n",
       "\n",
       "                                    Example sentence  jaccard_score  \n",
       "0  [' 74 103 hp 0001798 aplastic or hypoplastic n...       0.500000  \n",
       "1  [' 139 161 hp 0000356 external ear anomalies',...       0.500000  \n",
       "2  [' 543 562 hp 0010610 palmar plantar pits', ' ...       0.583333  \n",
       "3                                                 []       0.000000  \n",
       "4                                                 []       0.000000  "
      ]
     },
     "execution_count": 334,
     "metadata": {},
     "output_type": "execute_result"
    }
   ],
   "source": [
    "clinphen_df.head(5)"
   ]
  },
  {
   "cell_type": "code",
   "execution_count": 335,
   "metadata": {},
   "outputs": [],
   "source": [
    "r1 = gsc_data.iloc[1]['HPO_codes']\n",
    "q1 = ncr_df.iloc[1]['NCR_HPO_codes']"
   ]
  },
  {
   "cell_type": "code",
   "execution_count": 336,
   "metadata": {},
   "outputs": [
    {
     "name": "stdout",
     "output_type": "stream",
     "text": [
      "{\"error\": {\"message\": \"An exception occurred: Failed to find class with ID: http://purl.obolibrary.org/obo/HP_0000792\", \"code\": 500}}\n",
      "\n"
     ]
    }
   ],
   "source": [
    "out = biolink_score(r1, q1, metric='phenodigm', is_feature_set=True)"
   ]
  },
  {
   "cell_type": "code",
   "execution_count": 337,
   "metadata": {},
   "outputs": [
    {
     "data": {
      "text/plain": [
       "0"
      ]
     },
     "execution_count": 337,
     "metadata": {},
     "output_type": "execute_result"
    }
   ],
   "source": [
    "out"
   ]
  },
  {
   "cell_type": "code",
   "execution_count": 338,
   "metadata": {},
   "outputs": [
    {
     "name": "stdout",
     "output_type": "stream",
     "text": [
      "OK\n",
      "{\"error\": {\"message\": \"An exception occurred: Failed to find class with ID: HP:0000792\", \"code\": 500}}\n",
      "\n",
      "{\"error\": {\"message\": \"An exception occurred: Failed to find class with ID: HP:0003813\", \"code\": 500}}\n",
      "\n",
      "{\"error\": {\"message\": \"An exception occurred: list index out of range\", \"code\": 500}}\n",
      "\n",
      "{\"error\": {\"message\": \"An exception occurred: list index out of range\", \"code\": 500}}\n",
      "\n",
      "{\"error\": {\"message\": \"An exception occurred: Failed to find class with ID: HP:0000792\", \"code\": 500}}\n",
      "\n",
      "{\"error\": {\"message\": \"An exception occurred: Failed to find class with ID: HP:0001617\", \"code\": 500}}\n",
      "\n",
      "{\"error\": {\"message\": \"An exception occurred: Failed to find class with ID: HP:0006746\", \"code\": 500}}\n",
      "\n",
      "{\"error\": {\"message\": \"An exception occurred: Failed to find class with ID: HP:0001420\", \"code\": 500}}\n",
      "\n",
      "{\"error\": {\"message\": \"An exception occurred: Failed to find class with ID: HP:0000404\", \"code\": 500}}\n",
      "\n",
      "OK\n",
      "{\"error\": {\"message\": \"An exception occurred: Failed to find class with ID: HP:0002260\", \"code\": 500}}\n",
      "\n",
      "{\"error\": {\"message\": \"An exception occurred: Failed to find class with ID: HP:0006746\", \"code\": 500}}\n",
      "\n",
      "{\"error\": {\"message\": \"An exception occurred: Failed to find class with ID: HP:0001617\", \"code\": 500}}\n",
      "\n",
      "{\"error\": {\"message\": \"An exception occurred: list index out of range\", \"code\": 500}}\n",
      "\n",
      "OK\n",
      "OK\n",
      "OK\n",
      "{\"error\": {\"message\": \"An exception occurred: Failed to find class with ID: HP:0003822\", \"code\": 500}}\n",
      "\n",
      "OK\n",
      "OK\n",
      "{\"error\": {\"message\": \"An exception occurred: Failed to find class with ID: HP:0006746\", \"code\": 500}}\n",
      "\n",
      "OK\n",
      "OK\n",
      "{\"error\": {\"message\": \"An exception occurred: Failed to find class with ID: HP:0006746\", \"code\": 500}}\n",
      "\n",
      "OK\n",
      "{\"error\": {\"message\": \"An exception occurred: Failed to find class with ID: HP:0003822\", \"code\": 500}}\n",
      "\n",
      "OK\n",
      "{\"error\": {\"message\": \"An exception occurred: Failed to find class with ID: HP:0003813\", \"code\": 500}}\n",
      "\n",
      "OK\n",
      "{\"error\": {\"message\": \"An exception occurred: Failed to find class with ID: HP:0006746\", \"code\": 500}}\n",
      "\n",
      "{\"error\": {\"message\": \"An exception occurred: Failed to find class with ID: HP:0006746\", \"code\": 500}}\n",
      "\n",
      "OK\n",
      "{\"error\": {\"message\": \"An exception occurred: Failed to find class with ID: HP:0006746\", \"code\": 500}}\n",
      "\n",
      "OK\n",
      "{\"error\": {\"message\": \"An exception occurred: Failed to find class with ID: HP:0003822\", \"code\": 500}}\n",
      "\n",
      "{\"error\": {\"message\": \"An exception occurred: Failed to find class with ID: HP:0000404\", \"code\": 500}}\n",
      "\n",
      "{\"error\": {\"message\": \"An exception occurred: Failed to find class with ID: HP:0006746\", \"code\": 500}}\n",
      "\n",
      "OK\n",
      "OK\n",
      "{\"error\": {\"message\": \"An exception occurred: Failed to find class with ID: HP:0005188\", \"code\": 500}}\n",
      "\n",
      "{\"error\": {\"message\": \"An exception occurred: Failed to find class with ID: HP:0006996\", \"code\": 500}}\n",
      "\n",
      "{\"error\": {\"message\": \"An exception occurred: Failed to find class with ID: HP:0002255\", \"code\": 500}}\n",
      "\n",
      "{\"error\": {\"message\": \"An exception occurred: Failed to find class with ID: HP:0003813\", \"code\": 500}}\n",
      "\n",
      "OK\n",
      "OK\n",
      "OK\n",
      "{\"error\": {\"message\": \"An exception occurred: list index out of range\", \"code\": 500}}\n",
      "\n",
      "{\"error\": {\"message\": \"An exception occurred: list index out of range\", \"code\": 500}}\n",
      "\n",
      "OK\n",
      "{\"error\": {\"message\": \"An exception occurred: Failed to find class with ID: HP:0008680\", \"code\": 500}}\n",
      "\n",
      "{\"error\": {\"message\": \"An exception occurred: Failed to find class with ID: HP:0006746\", \"code\": 500}}\n",
      "\n",
      "OK\n",
      "OK\n",
      "OK\n",
      "OK\n",
      "{\"error\": {\"message\": \"An exception occurred: Failed to find class with ID: HP:0000404\", \"code\": 500}}\n",
      "\n",
      "{\"error\": {\"message\": \"An exception occurred: Failed to find class with ID: HP:0006746\", \"code\": 500}}\n",
      "\n",
      "{\"error\": {\"message\": \"An exception occurred: Failed to find class with ID: HP:0006746\", \"code\": 500}}\n",
      "\n",
      "{\"error\": {\"message\": \"An exception occurred: Failed to find class with ID: HP:0006746\", \"code\": 500}}\n",
      "\n",
      "{\"error\": {\"message\": \"An exception occurred: Failed to find class with ID: HP:0006746\", \"code\": 500}}\n",
      "\n",
      "{\"error\": {\"message\": \"An exception occurred: Failed to find class with ID: HP:0006746\", \"code\": 500}}\n",
      "\n",
      "{\"error\": {\"message\": \"An exception occurred: Failed to find class with ID: HP:0007319\", \"code\": 500}}\n",
      "\n",
      "{\"error\": {\"message\": \"An exception occurred: Failed to find class with ID: HP:0006746\", \"code\": 500}}\n",
      "\n",
      "OK\n",
      "OK\n",
      "{\"error\": {\"message\": \"An exception occurred: Failed to find class with ID: HP:0002260\", \"code\": 500}}\n",
      "\n",
      "OK\n",
      "{\"error\": {\"message\": \"An exception occurred: Failed to find class with ID: HP:0006746\", \"code\": 500}}\n",
      "\n",
      "OK\n",
      "{\"error\": {\"message\": \"An exception occurred: Failed to find class with ID: HP:0007170\", \"code\": 500}}\n",
      "\n",
      "OK\n",
      "{\"error\": {\"message\": \"An exception occurred: list index out of range\", \"code\": 500}}\n",
      "\n",
      "{\"error\": {\"message\": \"An exception occurred: Failed to find class with ID: HP:0003813\", \"code\": 500}}\n",
      "\n",
      "OK\n",
      "{\"error\": {\"message\": \"An exception occurred: Failed to find class with ID: HP:0006746\", \"code\": 500}}\n",
      "\n",
      "{\"error\": {\"message\": \"An exception occurred: Failed to find class with ID: HP:0006746\", \"code\": 500}}\n",
      "\n",
      "{\"error\": {\"message\": \"An exception occurred: Failed to find class with ID: HP:0003822\", \"code\": 500}}\n",
      "\n",
      "{\"error\": {\"message\": \"An exception occurred: Failed to find class with ID: HP:0006746\", \"code\": 500}}\n",
      "\n",
      "OK\n",
      "OK\n",
      "{\"error\": {\"message\": \"An exception occurred: list index out of range\", \"code\": 500}}\n",
      "\n",
      "OK\n",
      "OK\n",
      "OK\n",
      "OK\n",
      "{\"error\": {\"message\": \"An exception occurred: Failed to find class with ID: HP:0002260\", \"code\": 500}}\n",
      "\n",
      "{\"error\": {\"message\": \"An exception occurred: Failed to find class with ID: HP:0000792\", \"code\": 500}}\n",
      "\n",
      "{\"error\": {\"message\": \"An exception occurred: Failed to find class with ID: HP:0010240\", \"code\": 500}}\n",
      "\n",
      "OK\n",
      "OK\n",
      "OK\n",
      "{\"error\": {\"message\": \"An exception occurred: Failed to find class with ID: HP:0006746\", \"code\": 500}}\n",
      "\n",
      "OK\n",
      "OK\n",
      "OK\n",
      "{\"error\": {\"message\": \"An exception occurred: Failed to find class with ID: HP:0007106\", \"code\": 500}}\n",
      "\n",
      "OK\n",
      "{\"error\": {\"message\": \"An exception occurred: Failed to find class with ID: HP:0006746\", \"code\": 500}}\n",
      "\n",
      "{\"error\": {\"message\": \"An exception occurred: Failed to find class with ID: HP:0003813\", \"code\": 500}}\n",
      "\n"
     ]
    },
    {
     "data": {
      "text/plain": [
       "[67.0,\n",
       " 0,\n",
       " 0,\n",
       " 0,\n",
       " 0,\n",
       " 0,\n",
       " 0,\n",
       " 0,\n",
       " 0,\n",
       " 0,\n",
       " 70.0,\n",
       " 0,\n",
       " 0,\n",
       " 0,\n",
       " 0,\n",
       " 87.0,\n",
       " 88.0,\n",
       " 97.0,\n",
       " 0,\n",
       " 96.0,\n",
       " 96.0,\n",
       " 0,\n",
       " 101.0,\n",
       " 85.0,\n",
       " 0,\n",
       " 75.0,\n",
       " 0,\n",
       " 70.0,\n",
       " 0,\n",
       " 100.0,\n",
       " 0,\n",
       " 0,\n",
       " 91.0,\n",
       " 0,\n",
       " 100.0,\n",
       " 0,\n",
       " 0,\n",
       " 0,\n",
       " 91.0,\n",
       " 93.0,\n",
       " 0,\n",
       " 0,\n",
       " 0,\n",
       " 0,\n",
       " 71.0,\n",
       " 98.0,\n",
       " 65.0,\n",
       " 0,\n",
       " 0,\n",
       " 100.0,\n",
       " 0,\n",
       " 0,\n",
       " 95.0,\n",
       " 85.0,\n",
       " 100.0,\n",
       " 81.0,\n",
       " 0,\n",
       " 0,\n",
       " 0,\n",
       " 0,\n",
       " 0,\n",
       " 0,\n",
       " 0,\n",
       " 0,\n",
       " 100.0,\n",
       " 99.0,\n",
       " 0,\n",
       " 97.0,\n",
       " 0,\n",
       " 100.0,\n",
       " 0,\n",
       " 100.0,\n",
       " 0,\n",
       " 0,\n",
       " 99.0,\n",
       " 0,\n",
       " 0,\n",
       " 0,\n",
       " 0,\n",
       " 82.0,\n",
       " 95.0,\n",
       " 0,\n",
       " 86.0,\n",
       " 95.0,\n",
       " 100.0,\n",
       " 91.0,\n",
       " 0,\n",
       " 0,\n",
       " 0,\n",
       " 56.0,\n",
       " 94.0,\n",
       " 96.0,\n",
       " 0,\n",
       " 100.0,\n",
       " 96.0,\n",
       " 91.0,\n",
       " 0,\n",
       " 98.0,\n",
       " 0,\n",
       " 0]"
      ]
     },
     "execution_count": 338,
     "metadata": {},
     "output_type": "execute_result"
    }
   ],
   "source": [
    "semantic_score(gsc_data['HPO_codes'].iloc[:100], clinphen_df['HPO ID'].iloc[:100])"
   ]
  },
  {
   "cell_type": "markdown",
   "metadata": {},
   "source": [
    "#### Remove non-symptoms HPO codes from the ontology"
   ]
  },
  {
   "cell_type": "code",
   "execution_count": 360,
   "metadata": {},
   "outputs": [],
   "source": [
    "successors_endpoint = 'https://f29bio-dev.northeurope.cloudapp.azure.com/\\\n",
    "api/BioEntity/phenotype/successors/{}'.format('HP:0000001')"
   ]
  },
  {
   "cell_type": "code",
   "execution_count": 361,
   "metadata": {},
   "outputs": [
    {
     "data": {
      "text/plain": [
       "'https://f29bio-dev.northeurope.cloudapp.azure.com/api/BioEntity/phenotype/successors/HP:0000001'"
      ]
     },
     "execution_count": 361,
     "metadata": {},
     "output_type": "execute_result"
    }
   ],
   "source": [
    "successors_endpoint"
   ]
  },
  {
   "cell_type": "code",
   "execution_count": 371,
   "metadata": {},
   "outputs": [],
   "source": [
    "all_codes_handle = requests.get(successors_endpoint, params={\n",
    "    'depth': 1000000,\n",
    "    },\n",
    "   headers={'accept': 'text/plain'})"
   ]
  },
  {
   "cell_type": "code",
   "execution_count": 374,
   "metadata": {},
   "outputs": [],
   "source": [
    "all_codes_data = all_codes_handle.json()"
   ]
  },
  {
   "cell_type": "code",
   "execution_count": 375,
   "metadata": {},
   "outputs": [
    {
     "data": {
      "text/plain": [
       "dict_keys(['HP:0000001'])"
      ]
     },
     "execution_count": 375,
     "metadata": {},
     "output_type": "execute_result"
    }
   ],
   "source": [
    "all_codes_data.keys()"
   ]
  },
  {
   "cell_type": "code",
   "execution_count": 388,
   "metadata": {},
   "outputs": [],
   "source": [
    "root_id = 'HP:0000001'\n",
    "symptoms_root_id = 'HP:0000118'"
   ]
  },
  {
   "cell_type": "code",
   "execution_count": 389,
   "metadata": {},
   "outputs": [
    {
     "data": {
      "text/plain": [
       "dict_keys(['HP:0000005', 'HP:0000118', 'HP:0012823', 'HP:0031797', 'HP:0032223', 'HP:0032443', 'HP:0040279'])"
      ]
     },
     "execution_count": 389,
     "metadata": {},
     "output_type": "execute_result"
    }
   ],
   "source": [
    "all_codes_data[root_id].keys()"
   ]
  },
  {
   "cell_type": "code",
   "execution_count": 441,
   "metadata": {},
   "outputs": [],
   "source": [
    "def recurrent_list(hpo_tree, root):\n",
    "    res = [root]\n",
    "    for child in hpo_tree.keys():\n",
    "        res += recurrent_list(hpo_tree[child], child)\n",
    "    return res"
   ]
  },
  {
   "cell_type": "code",
   "execution_count": 443,
   "metadata": {},
   "outputs": [
    {
     "name": "stdout",
     "output_type": "stream",
     "text": [
      "HP:0000005\n",
      "HP:0012823\n",
      "HP:0031797\n",
      "HP:0032223\n",
      "HP:0032443\n",
      "HP:0040279\n"
     ]
    }
   ],
   "source": [
    "HPO_exclusion_set = set()\n",
    "for root in all_codes_data[root_id]:\n",
    "    if root != symptoms_root_id:\n",
    "        print(root)\n",
    "        HPO_exclusion_set.update(recurrent_list(all_codes_data[root_id][root], root))"
   ]
  },
  {
   "cell_type": "code",
   "execution_count": 444,
   "metadata": {},
   "outputs": [
    {
     "data": {
      "text/plain": [
       "216"
      ]
     },
     "execution_count": 444,
     "metadata": {},
     "output_type": "execute_result"
    }
   ],
   "source": [
    "# length of the exclusion list\n",
    "len(HPO_exclusion_set)"
   ]
  },
  {
   "cell_type": "code",
   "execution_count": 445,
   "metadata": {},
   "outputs": [],
   "source": [
    "# just for validation the symptoms set"
   ]
  },
  {
   "cell_type": "code",
   "execution_count": 446,
   "metadata": {},
   "outputs": [],
   "source": [
    "HPO_symptoms_set = set(recurrent_list(all_codes_data[root_id][symptoms_root_id], symptoms_root_id))"
   ]
  },
  {
   "cell_type": "code",
   "execution_count": 447,
   "metadata": {},
   "outputs": [
    {
     "data": {
      "text/plain": [
       "14837"
      ]
     },
     "execution_count": 447,
     "metadata": {},
     "output_type": "execute_result"
    }
   ],
   "source": [
    "len(HPO_symptoms_set)"
   ]
  },
  {
   "cell_type": "code",
   "execution_count": 448,
   "metadata": {},
   "outputs": [
    {
     "data": {
      "text/plain": [
       "0"
      ]
     },
     "execution_count": 448,
     "metadata": {},
     "output_type": "execute_result"
    }
   ],
   "source": [
    "len(HPO_exclusion_set.intersection(HPO_symptoms_set))"
   ]
  },
  {
   "cell_type": "code",
   "execution_count": 450,
   "metadata": {},
   "outputs": [
    {
     "data": {
      "text/plain": [
       "{'HP:0000005',\n",
       " 'HP:0000006',\n",
       " 'HP:0000007',\n",
       " 'HP:0001417',\n",
       " 'HP:0001419',\n",
       " 'HP:0001423',\n",
       " 'HP:0001425',\n",
       " 'HP:0001426',\n",
       " 'HP:0001427',\n",
       " 'HP:0001428',\n",
       " 'HP:0001442',\n",
       " 'HP:0001444',\n",
       " 'HP:0001450',\n",
       " 'HP:0001452',\n",
       " 'HP:0001466',\n",
       " 'HP:0001470',\n",
       " 'HP:0001475',\n",
       " 'HP:0001522',\n",
       " 'HP:0001699',\n",
       " 'HP:0003577',\n",
       " 'HP:0003581',\n",
       " 'HP:0003584',\n",
       " 'HP:0003587',\n",
       " 'HP:0003593',\n",
       " 'HP:0003596',\n",
       " 'HP:0003621',\n",
       " 'HP:0003623',\n",
       " 'HP:0003674',\n",
       " 'HP:0003676',\n",
       " 'HP:0003677',\n",
       " 'HP:0003678',\n",
       " 'HP:0003679',\n",
       " 'HP:0003680',\n",
       " 'HP:0003682',\n",
       " 'HP:0003743',\n",
       " 'HP:0003744',\n",
       " 'HP:0003745',\n",
       " 'HP:0003811',\n",
       " 'HP:0003812',\n",
       " 'HP:0003819',\n",
       " 'HP:0003826',\n",
       " 'HP:0003828',\n",
       " 'HP:0003829',\n",
       " 'HP:0003831',\n",
       " 'HP:0010982',\n",
       " 'HP:0010983',\n",
       " 'HP:0010984',\n",
       " 'HP:0010985',\n",
       " 'HP:0011008',\n",
       " 'HP:0011009',\n",
       " 'HP:0011010',\n",
       " 'HP:0011011',\n",
       " 'HP:0011420',\n",
       " 'HP:0011421',\n",
       " 'HP:0011460',\n",
       " 'HP:0011461',\n",
       " 'HP:0011462',\n",
       " 'HP:0011463',\n",
       " 'HP:0012274',\n",
       " 'HP:0012275',\n",
       " 'HP:0012823',\n",
       " 'HP:0012824',\n",
       " 'HP:0012825',\n",
       " 'HP:0012826',\n",
       " 'HP:0012827',\n",
       " 'HP:0012828',\n",
       " 'HP:0012829',\n",
       " 'HP:0012830',\n",
       " 'HP:0012831',\n",
       " 'HP:0012832',\n",
       " 'HP:0012833',\n",
       " 'HP:0012834',\n",
       " 'HP:0012835',\n",
       " 'HP:0012836',\n",
       " 'HP:0012837',\n",
       " 'HP:0012838',\n",
       " 'HP:0012839',\n",
       " 'HP:0012840',\n",
       " 'HP:0020034',\n",
       " 'HP:0020121',\n",
       " 'HP:0020138',\n",
       " 'HP:0020139',\n",
       " 'HP:0020140',\n",
       " 'HP:0025153',\n",
       " 'HP:0025204',\n",
       " 'HP:0025205',\n",
       " 'HP:0025206',\n",
       " 'HP:0025207',\n",
       " 'HP:0025208',\n",
       " 'HP:0025209',\n",
       " 'HP:0025210',\n",
       " 'HP:0025211',\n",
       " 'HP:0025212',\n",
       " 'HP:0025213',\n",
       " 'HP:0025214',\n",
       " 'HP:0025215',\n",
       " 'HP:0025216',\n",
       " 'HP:0025217',\n",
       " 'HP:0025218',\n",
       " 'HP:0025219',\n",
       " 'HP:0025220',\n",
       " 'HP:0025221',\n",
       " 'HP:0025222',\n",
       " 'HP:0025223',\n",
       " 'HP:0025224',\n",
       " 'HP:0025225',\n",
       " 'HP:0025226',\n",
       " 'HP:0025227',\n",
       " 'HP:0025228',\n",
       " 'HP:0025229',\n",
       " 'HP:0025254',\n",
       " 'HP:0025255',\n",
       " 'HP:0025256',\n",
       " 'HP:0025257',\n",
       " 'HP:0025275',\n",
       " 'HP:0025279',\n",
       " 'HP:0025280',\n",
       " 'HP:0025281',\n",
       " 'HP:0025282',\n",
       " 'HP:0025283',\n",
       " 'HP:0025284',\n",
       " 'HP:0025285',\n",
       " 'HP:0025286',\n",
       " 'HP:0025287',\n",
       " 'HP:0025290',\n",
       " 'HP:0025291',\n",
       " 'HP:0025292',\n",
       " 'HP:0025293',\n",
       " 'HP:0025294',\n",
       " 'HP:0025295',\n",
       " 'HP:0025296',\n",
       " 'HP:0025297',\n",
       " 'HP:0025301',\n",
       " 'HP:0025302',\n",
       " 'HP:0025303',\n",
       " 'HP:0025304',\n",
       " 'HP:0025305',\n",
       " 'HP:0025306',\n",
       " 'HP:0025307',\n",
       " 'HP:0025308',\n",
       " 'HP:0025315',\n",
       " 'HP:0025334',\n",
       " 'HP:0025352',\n",
       " 'HP:0025377',\n",
       " 'HP:0030645',\n",
       " 'HP:0030646',\n",
       " 'HP:0030647',\n",
       " 'HP:0030648',\n",
       " 'HP:0030649',\n",
       " 'HP:0030650',\n",
       " 'HP:0030651',\n",
       " 'HP:0030674',\n",
       " 'HP:0031135',\n",
       " 'HP:0031167',\n",
       " 'HP:0031362',\n",
       " 'HP:0031375',\n",
       " 'HP:0031450',\n",
       " 'HP:0031796',\n",
       " 'HP:0031797',\n",
       " 'HP:0031914',\n",
       " 'HP:0031915',\n",
       " 'HP:0032113',\n",
       " 'HP:0032223',\n",
       " 'HP:0032224',\n",
       " 'HP:0032316',\n",
       " 'HP:0032317',\n",
       " 'HP:0032318',\n",
       " 'HP:0032319',\n",
       " 'HP:0032320',\n",
       " 'HP:0032321',\n",
       " 'HP:0032322',\n",
       " 'HP:0032365',\n",
       " 'HP:0032370',\n",
       " 'HP:0032373',\n",
       " 'HP:0032374',\n",
       " 'HP:0032375',\n",
       " 'HP:0032382',\n",
       " 'HP:0032383',\n",
       " 'HP:0032384',\n",
       " 'HP:0032440',\n",
       " 'HP:0032441',\n",
       " 'HP:0032442',\n",
       " 'HP:0032443',\n",
       " 'HP:0032444',\n",
       " 'HP:0032467',\n",
       " 'HP:0032468',\n",
       " 'HP:0032500',\n",
       " 'HP:0032501',\n",
       " 'HP:0032502',\n",
       " 'HP:0032503',\n",
       " 'HP:0032522',\n",
       " 'HP:0032525',\n",
       " 'HP:0032526',\n",
       " 'HP:0032534',\n",
       " 'HP:0032535',\n",
       " 'HP:0032539',\n",
       " 'HP:0032540',\n",
       " 'HP:0032542',\n",
       " 'HP:0032544',\n",
       " 'HP:0032557',\n",
       " 'HP:0040006',\n",
       " 'HP:0040279',\n",
       " 'HP:0040280',\n",
       " 'HP:0040281',\n",
       " 'HP:0040282',\n",
       " 'HP:0040283',\n",
       " 'HP:0040284',\n",
       " 'HP:0040285',\n",
       " 'HP:0045088',\n",
       " 'HP:0045089',\n",
       " 'HP:0045090',\n",
       " 'HP:0100613',\n",
       " 'HP:0410280',\n",
       " 'HP:0410401',\n",
       " 'HP:0500260',\n",
       " 'HP:0500261'}"
      ]
     },
     "execution_count": 450,
     "metadata": {},
     "output_type": "execute_result"
    }
   ],
   "source": [
    "HPO_exclusion_set"
   ]
  },
  {
   "cell_type": "code",
   "execution_count": 455,
   "metadata": {},
   "outputs": [],
   "source": [
    "HPO_dict = {\n",
    "    'non_symptom_codes': sorted(list(HPO_exclusion_set)),\n",
    "    'symptom_codes': sorted(list(HPO_symptoms_set)),\n",
    "}"
   ]
  },
  {
   "cell_type": "code",
   "execution_count": 456,
   "metadata": {},
   "outputs": [],
   "source": [
    "with open('HPO_non_symptoms_filter_data.json', 'w') as f:\n",
    "    json.dump(HPO_dict, f, indent=2)"
   ]
  },
  {
   "cell_type": "markdown",
   "metadata": {},
   "source": [
    "### Biolink algorithm"
   ]
  },
  {
   "cell_type": "code",
   "execution_count": 539,
   "metadata": {},
   "outputs": [
    {
     "name": "stdout",
     "output_type": "stream",
     "text": [
      "Fetched 10 rows\n",
      "Fetched 20 rows\n",
      "Fetched 30 rows\n",
      "Fetched 40 rows\n",
      "Fetched 50 rows\n",
      "Fetched 60 rows\n",
      "Fetched 70 rows\n",
      "Fetched 80 rows\n",
      "Fetched 90 rows\n",
      "Fetched 100 rows\n",
      "Fetched 110 rows\n",
      "Fetched 120 rows\n",
      "Fetched 130 rows\n",
      "Fetched 140 rows\n",
      "Fetched 150 rows\n",
      "Fetched 160 rows\n",
      "Fetched 170 rows\n",
      "Fetched 180 rows\n",
      "Fetched 190 rows\n",
      "Fetched 200 rows\n",
      "Fetched 210 rows\n",
      "Fetched 220 rows\n"
     ]
    }
   ],
   "source": [
    "import time\n",
    "import requests\n",
    "biolink_rows = []\n",
    "for index, text in enumerate(gsc_data['text']):\n",
    "    biolink_output = call_biolink(text)\n",
    "    biolink_rows.append(biolink_output)\n",
    "    if (index + 1) % 10 == 0:\n",
    "        print('Fetched {} rows'.format(index + 1))\n",
    "    time.sleep(0.1)\n",
    "biolink_df = pd.DataFrame(biolink_rows)"
   ]
  },
  {
   "cell_type": "code",
   "execution_count": 541,
   "metadata": {},
   "outputs": [
    {
     "data": {
      "text/html": [
       "<div>\n",
       "<style scoped>\n",
       "    .dataframe tbody tr th:only-of-type {\n",
       "        vertical-align: middle;\n",
       "    }\n",
       "\n",
       "    .dataframe tbody tr th {\n",
       "        vertical-align: top;\n",
       "    }\n",
       "\n",
       "    .dataframe thead th {\n",
       "        text-align: right;\n",
       "    }\n",
       "</style>\n",
       "<table border=\"1\" class=\"dataframe\">\n",
       "  <thead>\n",
       "    <tr style=\"text-align: right;\">\n",
       "      <th></th>\n",
       "      <th>Biolink_start</th>\n",
       "      <th>Biolink_end</th>\n",
       "      <th>Biolink_symptoms</th>\n",
       "      <th>Biolink_HPO_codes</th>\n",
       "    </tr>\n",
       "  </thead>\n",
       "  <tbody>\n",
       "    <tr>\n",
       "      <th>0</th>\n",
       "      <td>[14, 55, 86, 132, 132, 210, 346]</td>\n",
       "      <td>[27, 61, 104, 140, 176, 227, 364]</td>\n",
       "      <td>[Brachydactyly, Distal, Small nail, Proximal, ...</td>\n",
       "      <td>[0001156, 0012839, 0001792, 0012840, 0006152, ...</td>\n",
       "    </tr>\n",
       "    <tr>\n",
       "      <th>1</th>\n",
       "      <td>[35, 148, 148, 163, 186, 177, 202, 224, 246, 344]</td>\n",
       "      <td>[53, 162, 162, 176, 197, 197, 223, 241, 266, 362]</td>\n",
       "      <td>[Autosomal dominant inheritance, Abnormality o...</td>\n",
       "      <td>[0000006, 0000356, 0000598, 0000365, 0010442, ...</td>\n",
       "    </tr>\n",
       "    <tr>\n",
       "      <th>2</th>\n",
       "      <td>[18, 13, 7, 89, 143, 219, 214, 208, 250, 238, ...</td>\n",
       "      <td>[27, 27, 27, 107, 165, 229, 229, 229, 274, 274...</td>\n",
       "      <td>[Carcinoma, Hepatocellular carcinoma, Basal ce...</td>\n",
       "      <td>[0030731, 0001402, 0002671, 0000006, 0003828, ...</td>\n",
       "    </tr>\n",
       "  </tbody>\n",
       "</table>\n",
       "</div>"
      ],
      "text/plain": [
       "                                       Biolink_start  \\\n",
       "0                   [14, 55, 86, 132, 132, 210, 346]   \n",
       "1  [35, 148, 148, 163, 186, 177, 202, 224, 246, 344]   \n",
       "2  [18, 13, 7, 89, 143, 219, 214, 208, 250, 238, ...   \n",
       "\n",
       "                                         Biolink_end  \\\n",
       "0                  [27, 61, 104, 140, 176, 227, 364]   \n",
       "1  [53, 162, 162, 176, 197, 197, 223, 241, 266, 362]   \n",
       "2  [27, 27, 27, 107, 165, 229, 229, 229, 274, 274...   \n",
       "\n",
       "                                    Biolink_symptoms  \\\n",
       "0  [Brachydactyly, Distal, Small nail, Proximal, ...   \n",
       "1  [Autosomal dominant inheritance, Abnormality o...   \n",
       "2  [Carcinoma, Hepatocellular carcinoma, Basal ce...   \n",
       "\n",
       "                                   Biolink_HPO_codes  \n",
       "0  [0001156, 0012839, 0001792, 0012840, 0006152, ...  \n",
       "1  [0000006, 0000356, 0000598, 0000365, 0010442, ...  \n",
       "2  [0030731, 0001402, 0002671, 0000006, 0003828, ...  "
      ]
     },
     "execution_count": 541,
     "metadata": {},
     "output_type": "execute_result"
    }
   ],
   "source": [
    "biolink_df.head(3)"
   ]
  },
  {
   "cell_type": "code",
   "execution_count": 542,
   "metadata": {},
   "outputs": [],
   "source": [
    "biolink_df.to_csv('biolink_gsc.csv')"
   ]
  },
  {
   "cell_type": "code",
   "execution_count": 841,
   "metadata": {},
   "outputs": [],
   "source": [
    "ihp_df = pd.read_csv('IHP_results (1).csv', converters={'HPO_codes': eval})"
   ]
  },
  {
   "cell_type": "code",
   "execution_count": 842,
   "metadata": {},
   "outputs": [
    {
     "data": {
      "text/plain": [
       "0       1003450\n",
       "1      10051003\n",
       "2      10066029\n",
       "3      10196695\n",
       "4      10417280\n",
       "         ...   \n",
       "223     9831341\n",
       "224     9863591\n",
       "225     9931336\n",
       "226     9949213\n",
       "227      998578\n",
       "Name: file, Length: 228, dtype: int64"
      ]
     },
     "execution_count": 842,
     "metadata": {},
     "output_type": "execute_result"
    }
   ],
   "source": [
    "gsc_data['file']"
   ]
  },
  {
   "cell_type": "code",
   "execution_count": 843,
   "metadata": {},
   "outputs": [],
   "source": [
    "ihp_df = ihp_df.set_index('file')"
   ]
  },
  {
   "cell_type": "code",
   "execution_count": 844,
   "metadata": {},
   "outputs": [],
   "source": [
    "ihp_df = ihp_df.loc[gsc_data['file']]"
   ]
  },
  {
   "cell_type": "code",
   "execution_count": 845,
   "metadata": {},
   "outputs": [
    {
     "data": {
      "text/plain": [
       "['0000356', '0000365', '0001199', '0002023']"
      ]
     },
     "execution_count": 845,
     "metadata": {},
     "output_type": "execute_result"
    }
   ],
   "source": [
    "ihp_df['HPO_codes'].iloc[1]"
   ]
  },
  {
   "cell_type": "code",
   "execution_count": 846,
   "metadata": {},
   "outputs": [
    {
     "data": {
      "text/plain": [
       "['0000006',\n",
       " '0000006',\n",
       " '0000006',\n",
       " '0003828',\n",
       " '0003813',\n",
       " '0000356',\n",
       " '0000598',\n",
       " '0000365',\n",
       " '0001177',\n",
       " '0010442',\n",
       " '0001199',\n",
       " '0002023',\n",
       " '0000792',\n",
       " '0001249',\n",
       " '0001249']"
      ]
     },
     "execution_count": 846,
     "metadata": {},
     "output_type": "execute_result"
    }
   ],
   "source": [
    "gsc_data['HPO_codes'].iloc[1]"
   ]
  },
  {
   "cell_type": "code",
   "execution_count": 847,
   "metadata": {},
   "outputs": [
    {
     "data": {
      "text/html": [
       "<div>\n",
       "<style scoped>\n",
       "    .dataframe tbody tr th:only-of-type {\n",
       "        vertical-align: middle;\n",
       "    }\n",
       "\n",
       "    .dataframe tbody tr th {\n",
       "        vertical-align: top;\n",
       "    }\n",
       "\n",
       "    .dataframe thead th {\n",
       "        text-align: right;\n",
       "    }\n",
       "</style>\n",
       "<table border=\"1\" class=\"dataframe\">\n",
       "  <thead>\n",
       "    <tr style=\"text-align: right;\">\n",
       "      <th></th>\n",
       "      <th>HPO_codes</th>\n",
       "      <th>HPO_symptoms</th>\n",
       "      <th>starts</th>\n",
       "      <th>ends</th>\n",
       "    </tr>\n",
       "    <tr>\n",
       "      <th>file</th>\n",
       "      <th></th>\n",
       "      <th></th>\n",
       "      <th></th>\n",
       "      <th></th>\n",
       "    </tr>\n",
       "  </thead>\n",
       "  <tbody>\n",
       "    <tr>\n",
       "      <th>1003450</th>\n",
       "      <td>[0001792]</td>\n",
       "      <td>['symphalangism', 'ankylois of proximal interp...</td>\n",
       "      <td>['105', '120', '14', '166', '210', '232', '29'...</td>\n",
       "      <td>['118', '163', '27', '208', '226', '253', '71'...</td>\n",
       "    </tr>\n",
       "    <tr>\n",
       "      <th>10051003</th>\n",
       "      <td>[0000356, 0000365, 0001199, 0002023]</td>\n",
       "      <td>['expression', 'external', 'ear anomalies', 'h...</td>\n",
       "      <td>['104', '139', '148', '163', '177', '186', '20...</td>\n",
       "      <td>['114', '147', '161', '175', '185', '197', '22...</td>\n",
       "    </tr>\n",
       "    <tr>\n",
       "      <th>10066029</th>\n",
       "      <td>[0002671, 0000924, 0002514]</td>\n",
       "      <td>['trait', 'variable', 'expressivity', 'basal c...</td>\n",
       "      <td>['108', '143', '152', '208', '238', '250', '27...</td>\n",
       "      <td>['113', '151', '164', '229', '249', '273', '28...</td>\n",
       "    </tr>\n",
       "    <tr>\n",
       "      <th>10196695</th>\n",
       "      <td>[]</td>\n",
       "      <td>['biparental inheritance']</td>\n",
       "      <td>['399']</td>\n",
       "      <td>['421']</td>\n",
       "    </tr>\n",
       "    <tr>\n",
       "      <th>10417280</th>\n",
       "      <td>[]</td>\n",
       "      <td>['de novo', 'somatic-cell hybrids', 'neurobeha...</td>\n",
       "      <td>['223', '666', '68']</td>\n",
       "      <td>['230', '686', '93']</td>\n",
       "    </tr>\n",
       "    <tr>\n",
       "      <th>...</th>\n",
       "      <td>...</td>\n",
       "      <td>...</td>\n",
       "      <td>...</td>\n",
       "      <td>...</td>\n",
       "    </tr>\n",
       "    <tr>\n",
       "      <th>9831341</th>\n",
       "      <td>[0002591, 0001513]</td>\n",
       "      <td>['overgrowth', 'hyperphagia', 'obesity', 'over...</td>\n",
       "      <td>['46', '670', '686', '699']</td>\n",
       "      <td>['56', '681', '693', '709']</td>\n",
       "    </tr>\n",
       "    <tr>\n",
       "      <th>9863591</th>\n",
       "      <td>[0001067, 0100008, 0100008, 0002664, 0002664]</td>\n",
       "      <td>['neurofibromatosis', 'bilateral disease', 'ne...</td>\n",
       "      <td>['120', '170', '215', '226', '26', '311', '322...</td>\n",
       "      <td>['137', '187', '225', '233', '36', '321', '332...</td>\n",
       "    </tr>\n",
       "    <tr>\n",
       "      <th>9931336</th>\n",
       "      <td>[0002671, 0002664, 0002671]</td>\n",
       "      <td>['sporadic', 'basal cell carcinomas', 'medullo...</td>\n",
       "      <td>['149', '158', '184', '239', '705', '734', '80...</td>\n",
       "      <td>['157', '179', '200', '245', '726', '750', '82...</td>\n",
       "    </tr>\n",
       "    <tr>\n",
       "      <th>9949213</th>\n",
       "      <td>[]</td>\n",
       "      <td>['juvenile lethality', 'vesicular trafficking'...</td>\n",
       "      <td>['1004', '449', '972']</td>\n",
       "      <td>['1022', '470', '999']</td>\n",
       "    </tr>\n",
       "    <tr>\n",
       "      <th>998578</th>\n",
       "      <td>[0000077, 0000365]</td>\n",
       "      <td>['preauricular', 'pits', 'severe renal dysgene...</td>\n",
       "      <td>['139', '152', '161', '17', '222', '239', '265...</td>\n",
       "      <td>['151', '156', '184', '26', '235', '253', '286...</td>\n",
       "    </tr>\n",
       "  </tbody>\n",
       "</table>\n",
       "<p>228 rows × 4 columns</p>\n",
       "</div>"
      ],
      "text/plain": [
       "                                              HPO_codes  \\\n",
       "file                                                      \n",
       "1003450                                       [0001792]   \n",
       "10051003           [0000356, 0000365, 0001199, 0002023]   \n",
       "10066029                    [0002671, 0000924, 0002514]   \n",
       "10196695                                             []   \n",
       "10417280                                             []   \n",
       "...                                                 ...   \n",
       "9831341                              [0002591, 0001513]   \n",
       "9863591   [0001067, 0100008, 0100008, 0002664, 0002664]   \n",
       "9931336                     [0002671, 0002664, 0002671]   \n",
       "9949213                                              []   \n",
       "998578                               [0000077, 0000365]   \n",
       "\n",
       "                                               HPO_symptoms  \\\n",
       "file                                                          \n",
       "1003450   ['symphalangism', 'ankylois of proximal interp...   \n",
       "10051003  ['expression', 'external', 'ear anomalies', 'h...   \n",
       "10066029  ['trait', 'variable', 'expressivity', 'basal c...   \n",
       "10196695                         ['biparental inheritance']   \n",
       "10417280  ['de novo', 'somatic-cell hybrids', 'neurobeha...   \n",
       "...                                                     ...   \n",
       "9831341   ['overgrowth', 'hyperphagia', 'obesity', 'over...   \n",
       "9863591   ['neurofibromatosis', 'bilateral disease', 'ne...   \n",
       "9931336   ['sporadic', 'basal cell carcinomas', 'medullo...   \n",
       "9949213   ['juvenile lethality', 'vesicular trafficking'...   \n",
       "998578    ['preauricular', 'pits', 'severe renal dysgene...   \n",
       "\n",
       "                                                     starts  \\\n",
       "file                                                          \n",
       "1003450   ['105', '120', '14', '166', '210', '232', '29'...   \n",
       "10051003  ['104', '139', '148', '163', '177', '186', '20...   \n",
       "10066029  ['108', '143', '152', '208', '238', '250', '27...   \n",
       "10196695                                            ['399']   \n",
       "10417280                               ['223', '666', '68']   \n",
       "...                                                     ...   \n",
       "9831341                         ['46', '670', '686', '699']   \n",
       "9863591   ['120', '170', '215', '226', '26', '311', '322...   \n",
       "9931336   ['149', '158', '184', '239', '705', '734', '80...   \n",
       "9949213                              ['1004', '449', '972']   \n",
       "998578    ['139', '152', '161', '17', '222', '239', '265...   \n",
       "\n",
       "                                                       ends  \n",
       "file                                                         \n",
       "1003450   ['118', '163', '27', '208', '226', '253', '71'...  \n",
       "10051003  ['114', '147', '161', '175', '185', '197', '22...  \n",
       "10066029  ['113', '151', '164', '229', '249', '273', '28...  \n",
       "10196695                                            ['421']  \n",
       "10417280                               ['230', '686', '93']  \n",
       "...                                                     ...  \n",
       "9831341                         ['56', '681', '693', '709']  \n",
       "9863591   ['137', '187', '225', '233', '36', '321', '332...  \n",
       "9931336   ['157', '179', '200', '245', '726', '750', '82...  \n",
       "9949213                              ['1022', '470', '999']  \n",
       "998578    ['151', '156', '184', '26', '235', '253', '286...  \n",
       "\n",
       "[228 rows x 4 columns]"
      ]
     },
     "execution_count": 847,
     "metadata": {},
     "output_type": "execute_result"
    }
   ],
   "source": [
    "ihp_df"
   ]
  },
  {
   "cell_type": "code",
   "execution_count": 848,
   "metadata": {},
   "outputs": [
    {
     "data": {
      "text/html": [
       "<div>\n",
       "<style scoped>\n",
       "    .dataframe tbody tr th:only-of-type {\n",
       "        vertical-align: middle;\n",
       "    }\n",
       "\n",
       "    .dataframe tbody tr th {\n",
       "        vertical-align: top;\n",
       "    }\n",
       "\n",
       "    .dataframe thead th {\n",
       "        text-align: right;\n",
       "    }\n",
       "</style>\n",
       "<table border=\"1\" class=\"dataframe\">\n",
       "  <thead>\n",
       "    <tr style=\"text-align: right;\">\n",
       "      <th></th>\n",
       "      <th>file</th>\n",
       "      <th>text</th>\n",
       "      <th>HPO_symptoms</th>\n",
       "      <th>HPO_codes</th>\n",
       "      <th>starts</th>\n",
       "      <th>ends</th>\n",
       "    </tr>\n",
       "  </thead>\n",
       "  <tbody>\n",
       "    <tr>\n",
       "      <th>0</th>\n",
       "      <td>1003450</td>\n",
       "      <td>A syndrome of brachydactyly (absence of some m...</td>\n",
       "      <td>[brachydactyly, absence of some middle or dist...</td>\n",
       "      <td>[0001156, 0009881, 0001798, 0001792, 0100264, ...</td>\n",
       "      <td>[14, 29, 74, 86, 105, 120, 166, 210, 232, 346,...</td>\n",
       "      <td>[27, 71, 103, 103, 118, 163, 208, 226, 253, 37...</td>\n",
       "    </tr>\n",
       "    <tr>\n",
       "      <th>1</th>\n",
       "      <td>10051003</td>\n",
       "      <td>Townes-Brocks syndrome (TBS) is an autosomal d...</td>\n",
       "      <td>[autosomal dominant disorder, autosomal domina...</td>\n",
       "      <td>[0000006, 0000006, 0000006, 0003828, 0003813, ...</td>\n",
       "      <td>[35, 35, 45, 95, 95, 139, 148, 163, 177, 186, ...</td>\n",
       "      <td>[62, 53, 53, 114, 103, 161, 161, 175, 197, 197...</td>\n",
       "    </tr>\n",
       "    <tr>\n",
       "      <th>2</th>\n",
       "      <td>10066029</td>\n",
       "      <td>Nevoid basal cell carcinoma syndrome (NBCCS) i...</td>\n",
       "      <td>[basal cell carcinoma, autosomal dominant, aut...</td>\n",
       "      <td>[0002671, 0000006, 0000006, 0000006, 0000006, ...</td>\n",
       "      <td>[7, 89, 89, 99, 99, 143, 143, 208, 238, 250, 2...</td>\n",
       "      <td>[27, 107, 113, 113, 107, 164, 151, 229, 261, 2...</td>\n",
       "    </tr>\n",
       "    <tr>\n",
       "      <th>3</th>\n",
       "      <td>10196695</td>\n",
       "      <td>Angelman syndrome (AS) is a neurodevelopmental...</td>\n",
       "      <td>[neurodevelopmental disorder, contiguous gene ...</td>\n",
       "      <td>[0000707, 0001466]</td>\n",
       "      <td>[28, 839]</td>\n",
       "      <td>[55, 863]</td>\n",
       "    </tr>\n",
       "    <tr>\n",
       "      <th>4</th>\n",
       "      <td>10417280</td>\n",
       "      <td>Prader-Willi syndrome (PWS) and Angelman syndr...</td>\n",
       "      <td>[neurobehavioral disorders, de novo]</td>\n",
       "      <td>[0000708, 0003745]</td>\n",
       "      <td>[68, 223]</td>\n",
       "      <td>[93, 230]</td>\n",
       "    </tr>\n",
       "    <tr>\n",
       "      <th>...</th>\n",
       "      <td>...</td>\n",
       "      <td>...</td>\n",
       "      <td>...</td>\n",
       "      <td>...</td>\n",
       "      <td>...</td>\n",
       "      <td>...</td>\n",
       "    </tr>\n",
       "    <tr>\n",
       "      <th>223</th>\n",
       "      <td>9831341</td>\n",
       "      <td>We had previously described a patient with an ...</td>\n",
       "      <td>[overgrowth, hyperphagia, obesity, overgrowth]</td>\n",
       "      <td>[0001548, 0002591, 0001513, 0001548]</td>\n",
       "      <td>[46, 670, 686, 699]</td>\n",
       "      <td>[56, 681, 693, 709]</td>\n",
       "    </tr>\n",
       "    <tr>\n",
       "      <th>224</th>\n",
       "      <td>9863591</td>\n",
       "      <td>Patients who present with unilateral vestibula...</td>\n",
       "      <td>[unilateral vestibular schwannomas, vestibular...</td>\n",
       "      <td>[0009590, 0009588, 0100008, 0003593, 0003593, ...</td>\n",
       "      <td>[26, 37, 48, 72, 72, 120, 170, 215, 226, 311, ...</td>\n",
       "      <td>[59, 59, 59, 81, 77, 137, 187, 233, 233, 344, ...</td>\n",
       "    </tr>\n",
       "    <tr>\n",
       "      <th>225</th>\n",
       "      <td>9931336</td>\n",
       "      <td>Mutations of the human Patched gene ( PTCH ) h...</td>\n",
       "      <td>[basal cell carcinoma, sporadic, basal cell ca...</td>\n",
       "      <td>[0002671, 0003745, 0002671, 0002885, 0002671, ...</td>\n",
       "      <td>[97, 149, 158, 184, 705, 734, 809, 866, 953]</td>\n",
       "      <td>[117, 157, 179, 200, 726, 750, 824, 886, 960]</td>\n",
       "    </tr>\n",
       "    <tr>\n",
       "      <th>226</th>\n",
       "      <td>9949213</td>\n",
       "      <td>Transcribed, low-copy repeat elements are asso...</td>\n",
       "      <td>[developmental abnormalities, juvenile lethality]</td>\n",
       "      <td>[0001263, 0004149]</td>\n",
       "      <td>[972, 1004]</td>\n",
       "      <td>[999, 1022]</td>\n",
       "    </tr>\n",
       "    <tr>\n",
       "      <th>227</th>\n",
       "      <td>998578</td>\n",
       "      <td>A woman with the autosomal dominant syndrome o...</td>\n",
       "      <td>[autosomal dominant, dominant, preauricular pi...</td>\n",
       "      <td>[0000006, 0000006, 0004467, 0004467, 0009795, ...</td>\n",
       "      <td>[17, 27, 48, 61, 67, 90, 98, 139, 152, 161, 22...</td>\n",
       "      <td>[35, 35, 65, 65, 84, 106, 106, 156, 156, 184, ...</td>\n",
       "    </tr>\n",
       "  </tbody>\n",
       "</table>\n",
       "<p>228 rows × 6 columns</p>\n",
       "</div>"
      ],
      "text/plain": [
       "         file                                               text  \\\n",
       "0     1003450  A syndrome of brachydactyly (absence of some m...   \n",
       "1    10051003  Townes-Brocks syndrome (TBS) is an autosomal d...   \n",
       "2    10066029  Nevoid basal cell carcinoma syndrome (NBCCS) i...   \n",
       "3    10196695  Angelman syndrome (AS) is a neurodevelopmental...   \n",
       "4    10417280  Prader-Willi syndrome (PWS) and Angelman syndr...   \n",
       "..        ...                                                ...   \n",
       "223   9831341  We had previously described a patient with an ...   \n",
       "224   9863591  Patients who present with unilateral vestibula...   \n",
       "225   9931336  Mutations of the human Patched gene ( PTCH ) h...   \n",
       "226   9949213  Transcribed, low-copy repeat elements are asso...   \n",
       "227    998578  A woman with the autosomal dominant syndrome o...   \n",
       "\n",
       "                                          HPO_symptoms  \\\n",
       "0    [brachydactyly, absence of some middle or dist...   \n",
       "1    [autosomal dominant disorder, autosomal domina...   \n",
       "2    [basal cell carcinoma, autosomal dominant, aut...   \n",
       "3    [neurodevelopmental disorder, contiguous gene ...   \n",
       "4                 [neurobehavioral disorders, de novo]   \n",
       "..                                                 ...   \n",
       "223     [overgrowth, hyperphagia, obesity, overgrowth]   \n",
       "224  [unilateral vestibular schwannomas, vestibular...   \n",
       "225  [basal cell carcinoma, sporadic, basal cell ca...   \n",
       "226  [developmental abnormalities, juvenile lethality]   \n",
       "227  [autosomal dominant, dominant, preauricular pi...   \n",
       "\n",
       "                                             HPO_codes  \\\n",
       "0    [0001156, 0009881, 0001798, 0001792, 0100264, ...   \n",
       "1    [0000006, 0000006, 0000006, 0003828, 0003813, ...   \n",
       "2    [0002671, 0000006, 0000006, 0000006, 0000006, ...   \n",
       "3                                   [0000707, 0001466]   \n",
       "4                                   [0000708, 0003745]   \n",
       "..                                                 ...   \n",
       "223               [0001548, 0002591, 0001513, 0001548]   \n",
       "224  [0009590, 0009588, 0100008, 0003593, 0003593, ...   \n",
       "225  [0002671, 0003745, 0002671, 0002885, 0002671, ...   \n",
       "226                                 [0001263, 0004149]   \n",
       "227  [0000006, 0000006, 0004467, 0004467, 0009795, ...   \n",
       "\n",
       "                                                starts  \\\n",
       "0    [14, 29, 74, 86, 105, 120, 166, 210, 232, 346,...   \n",
       "1    [35, 35, 45, 95, 95, 139, 148, 163, 177, 186, ...   \n",
       "2    [7, 89, 89, 99, 99, 143, 143, 208, 238, 250, 2...   \n",
       "3                                            [28, 839]   \n",
       "4                                            [68, 223]   \n",
       "..                                                 ...   \n",
       "223                                [46, 670, 686, 699]   \n",
       "224  [26, 37, 48, 72, 72, 120, 170, 215, 226, 311, ...   \n",
       "225       [97, 149, 158, 184, 705, 734, 809, 866, 953]   \n",
       "226                                        [972, 1004]   \n",
       "227  [17, 27, 48, 61, 67, 90, 98, 139, 152, 161, 22...   \n",
       "\n",
       "                                                  ends  \n",
       "0    [27, 71, 103, 103, 118, 163, 208, 226, 253, 37...  \n",
       "1    [62, 53, 53, 114, 103, 161, 161, 175, 197, 197...  \n",
       "2    [27, 107, 113, 113, 107, 164, 151, 229, 261, 2...  \n",
       "3                                            [55, 863]  \n",
       "4                                            [93, 230]  \n",
       "..                                                 ...  \n",
       "223                                [56, 681, 693, 709]  \n",
       "224  [59, 59, 59, 81, 77, 137, 187, 233, 233, 344, ...  \n",
       "225      [117, 157, 179, 200, 726, 750, 824, 886, 960]  \n",
       "226                                        [999, 1022]  \n",
       "227  [35, 35, 65, 65, 84, 106, 106, 156, 156, 184, ...  \n",
       "\n",
       "[228 rows x 6 columns]"
      ]
     },
     "execution_count": 848,
     "metadata": {},
     "output_type": "execute_result"
    }
   ],
   "source": [
    "gsc_data"
   ]
  },
  {
   "cell_type": "markdown",
   "metadata": {},
   "source": [
    "### Semantic similarity from the patient-similarity package"
   ]
  },
  {
   "cell_type": "code",
   "execution_count": 849,
   "metadata": {},
   "outputs": [],
   "source": [
    "from patient_similarity.__main__ import compare_side_by_side"
   ]
  },
  {
   "cell_type": "code",
   "execution_count": 850,
   "metadata": {},
   "outputs": [],
   "source": [
    "metrics = lambda hpo_sets1, hpo_sets2: compare_side_by_side(hpo_sets1, hpo_sets2, \n",
    "                     'patient_similarity/hp.obo', 'patient_similarity/phenotype_annotation.tab')"
   ]
  },
  {
   "cell_type": "code",
   "execution_count": 851,
   "metadata": {},
   "outputs": [],
   "source": [
    "def remove_exclusions(l):\n",
    "    l = map(append_hpo_prefix, l)\n",
    "    return list(set(l).difference(HPO_exclusion_set))"
   ]
  },
  {
   "cell_type": "code",
   "execution_count": 852,
   "metadata": {},
   "outputs": [],
   "source": [
    "def create_df_metrics_against_ground_truth(hpo_codes_lists):\n",
    "    # TODO remove codes from the exclusion list\n",
    "    hpo_codes_lists = [remove_exclusions(l) for l in hpo_codes_lists]\n",
    "    gsc_ground_truth = [remove_exclusions(l) for l in gsc_data['HPO_codes']]\n",
    "    \n",
    "    res = metrics(gsc_ground_truth, hpo_codes_lists)\n",
    "    res = [item if item is not None else {} for item in res]\n",
    "    res_df = pd.DataFrame.from_records(res)\n",
    "    res_df = res_df.fillna(0)\n",
    "    return res_df"
   ]
  },
  {
   "cell_type": "code",
   "execution_count": 853,
   "metadata": {},
   "outputs": [
    {
     "name": "stderr",
     "output_type": "stream",
     "text": [
      "WARNING:root:Found conflicting frequencies (None, 0.025) for same disease-phenotype: OMIM:113650 - HP:0000410 (taking larger)\n",
      "WARNING:root:Found conflicting frequencies (None, 0.025) for same disease-phenotype: OMIM:113650 - HP:0000410 (taking larger)\n",
      "WARNING:root:Found conflicting frequencies (None, 0.545) for same disease-phenotype: OMIM:120330 - HP:0003774 (taking larger)\n",
      "WARNING:root:Found conflicting frequencies (None, 0.545) for same disease-phenotype: OMIM:120330 - HP:0003774 (taking larger)\n",
      "WARNING:root:Found conflicting frequencies (0.16999999999999998, 0.025) for same disease-phenotype: OMIM:147250 - HP:0000252 (taking larger)\n",
      "WARNING:root:Found conflicting frequencies (None, 0.025) for same disease-phenotype: OMIM:153640 - HP:0001757 (taking larger)\n",
      "WARNING:root:Found conflicting frequencies (None, 0.025) for same disease-phenotype: OMIM:153640 - HP:0001757 (taking larger)\n",
      "WARNING:root:Found conflicting frequencies (None, 0.025) for same disease-phenotype: OMIM:180700 - HP:0000463 (taking larger)\n",
      "WARNING:root:Found conflicting frequencies (None, 0.025) for same disease-phenotype: OMIM:180700 - HP:0000463 (taking larger)\n",
      "WARNING:root:Found conflicting frequencies (None, 0.025) for same disease-phenotype: OMIM:235730 - HP:0000684 (taking larger)\n",
      "WARNING:root:Found conflicting frequencies (None, 0.025) for same disease-phenotype: OMIM:235730 - HP:0001290 (taking larger)\n",
      "WARNING:root:Found conflicting frequencies (None, 0.025) for same disease-phenotype: OMIM:235730 - HP:0001344 (taking larger)\n",
      "WARNING:root:Found conflicting frequencies (None, 0.025) for same disease-phenotype: OMIM:244850 - HP:0000982 (taking larger)\n",
      "WARNING:root:Found conflicting frequencies (None, 0.025) for same disease-phenotype: OMIM:263210 - HP:0000430 (taking larger)\n",
      "WARNING:root:Found conflicting frequencies (None, 0.025) for same disease-phenotype: OMIM:263210 - HP:0000444 (taking larger)\n",
      "WARNING:root:Found conflicting frequencies (None, 0.025) for same disease-phenotype: OMIM:268310 - HP:0000463 (taking larger)\n",
      "WARNING:root:Found conflicting frequencies (None, 0.025) for same disease-phenotype: OMIM:268310 - HP:0000463 (taking larger)\n",
      "WARNING:root:Found conflicting frequencies (None, 0.025) for same disease-phenotype: OMIM:271640 - HP:0000926 (taking larger)\n",
      "WARNING:root:Found conflicting frequencies (None, 0.025) for same disease-phenotype: OMIM:300867 - HP:0001998 (taking larger)\n",
      "WARNING:root:Found conflicting frequencies (None, 0.025) for same disease-phenotype: OMIM:601214 - HP:0000982 (taking larger)\n",
      "WARNING:root:Found conflicting frequencies (None, 0.025) for same disease-phenotype: OMIM:601321 - HP:0001328 (taking larger)\n",
      "WARNING:root:Found conflicting frequencies (None, 0.025) for same disease-phenotype: OMIM:602342 - HP:0006610 (taking larger)\n",
      "WARNING:root:Found conflicting frequencies (None, 0.16999999999999998) for same disease-phenotype: OMIM:605130 - HP:0001252 (taking larger)\n",
      "WARNING:root:Found conflicting frequencies (None, 0.16999999999999998) for same disease-phenotype: OMIM:605130 - HP:0001252 (taking larger)\n",
      "WARNING:root:Found conflicting frequencies (None, 0.545) for same disease-phenotype: OMIM:606777 - HP:0001250 (taking larger)\n",
      "WARNING:root:Found conflicting frequencies (None, 0.545) for same disease-phenotype: OMIM:606777 - HP:0001250 (taking larger)\n",
      "WARNING:root:Found conflicting frequencies (None, 0.545) for same disease-phenotype: OMIM:607554 - HP:0001727 (taking larger)\n",
      "WARNING:root:Found conflicting frequencies (None, 0.545) for same disease-phenotype: OMIM:607554 - HP:0001727 (taking larger)\n",
      "WARNING:root:Found conflicting frequencies (None, 0.16999999999999998) for same disease-phenotype: OMIM:608149 - HP:0000347 (taking larger)\n",
      "WARNING:root:Found conflicting frequencies (None, 0.16999999999999998) for same disease-phenotype: OMIM:608149 - HP:0000347 (taking larger)\n",
      "WARNING:root:Found conflicting frequencies (None, 0.16999999999999998) for same disease-phenotype: OMIM:610199 - HP:0001409 (taking larger)\n",
      "WARNING:root:Found conflicting frequencies (None, 0.16999999999999998) for same disease-phenotype: OMIM:610199 - HP:0001409 (taking larger)\n",
      "WARNING:root:Found conflicting frequencies (None, 0.025) for same disease-phenotype: OMIM:610842 - HP:0001102 (taking larger)\n",
      "WARNING:root:Found conflicting frequencies (None, 0.025) for same disease-phenotype: OMIM:615273 - HP:0025460 (taking larger)\n",
      "WARNING:root:Found conflicting frequencies (None, 0.025) for same disease-phenotype: OMIM:615355 - HP:0000766 (taking larger)\n",
      "WARNING:root:Found conflicting frequencies (None, 0.025) for same disease-phenotype: OMIM:615355 - HP:0002212 (taking larger)\n",
      "WARNING:root:Found conflicting frequencies (None, 0.025) for same disease-phenotype: OMIM:615355 - HP:0004482 (taking larger)\n",
      "WARNING:root:Found conflicting frequencies (None, 0.025) for same disease-phenotype: OMIM:615873 - HP:0000625 (taking larger)\n",
      "WARNING:root:Found conflicting frequencies (None, 0.16999999999999998) for same disease-phenotype: OMIM:616099 - HP:0040149 (taking larger)\n",
      "WARNING:root:Found conflicting frequencies (None, 0.16999999999999998) for same disease-phenotype: OMIM:616099 - HP:0040149 (taking larger)\n",
      "WARNING:root:Found conflicting frequencies (None, 0.16999999999999998) for same disease-phenotype: OMIM:616494 - HP:0001337 (taking larger)\n",
      "WARNING:root:Found conflicting frequencies (None, 0.16999999999999998) for same disease-phenotype: OMIM:616494 - HP:0001337 (taking larger)\n",
      "WARNING:root:Found conflicting frequencies (None, 0.16999999999999998) for same disease-phenotype: OMIM:616602 - HP:0001252 (taking larger)\n",
      "WARNING:root:Found conflicting frequencies (None, 0.16999999999999998) for same disease-phenotype: OMIM:616602 - HP:0001252 (taking larger)\n",
      "WARNING:root:Found conflicting frequencies (None, 0.025) for same disease-phenotype: OMIM:616795 - HP:0000716 (taking larger)\n",
      "WARNING:root:Found conflicting frequencies (None, 0.025) for same disease-phenotype: OMIM:616795 - HP:0002317 (taking larger)\n",
      "WARNING:root:Found conflicting frequencies (None, 0.025) for same disease-phenotype: OMIM:616843 - HP:0001744 (taking larger)\n",
      "WARNING:root:Found conflicting frequencies (0.545, 0.16999999999999998) for same disease-phenotype: ORPHA:1359 - HP:0003118 (taking larger)\n",
      "WARNING:root:Found conflicting frequencies (1.0, 0.895) for same disease-phenotype: ORPHA:284979 - HP:0001653 (taking larger)\n",
      "WARNING:root:Found conflicting frequencies (1.0, 0.895) for same disease-phenotype: ORPHA:284979 - HP:0002097 (taking larger)\n",
      "WARNING:root:Found conflicting frequencies (1.0, 0.895) for same disease-phenotype: ORPHA:284979 - HP:0005180 (taking larger)\n",
      "WARNING:root:Found conflicting frequencies (1.0, 0.895) for same disease-phenotype: ORPHA:52901 - HP:0000044 (taking larger)\n",
      "WARNING:root:Found conflicting frequencies (0.895, 0.16999999999999998) for same disease-phenotype: ORPHA:786 - HP:0003118 (taking larger)\n",
      "WARNING:patient_similarity.patient:Dropping term not found in HPO: HP:0003813\n",
      "WARNING:patient_similarity.patient:Dropping term not found in HPO: HP:0003813\n",
      "WARNING:patient_similarity.patient:Dropping term not found in HPO: HP:0001420\n",
      "WARNING:patient_similarity.patient:Dropping term not found in HPO: HP:0003822\n",
      "WARNING:patient_similarity.patient:Dropping term not found in HPO: HP:0003822\n",
      "WARNING:patient_similarity.patient:Dropping term not found in HPO: HP:0003813\n",
      "WARNING:patient_similarity.patient:Dropping term not found in HPO: HP:0003822\n",
      "WARNING:patient_similarity.patient:Dropping term not found in HPO: HP:0003822\n",
      "WARNING:patient_similarity.patient:Dropping term not found in HPO: HP:0003576\n",
      "WARNING:patient_similarity.patient:Dropping term not found in HPO: HP:0003813\n",
      "WARNING:patient_similarity.patient:Dropping term not found in HPO: HP:0003822\n",
      "WARNING:patient_similarity.patient:Dropping term not found in HPO: HP:0003813\n",
      "WARNING:patient_similarity.patient:Dropping term not found in HPO: HP:0003813\n",
      "WARNING:patient_similarity.patient:Dropping term not found in HPO: HP:0003822\n",
      "WARNING:patient_similarity.patient:Dropping term not found in HPO: HP:0003813\n",
      "WARNING:patient_similarity.patient:Dropping term not found in HPO: HP:0007757\n",
      "WARNING:patient_similarity.patient:Dropping term not found in HPO: HP:0003813\n"
     ]
    },
    {
     "name": "stderr",
     "output_type": "stream",
     "text": [
      "WARNING:patient_similarity.patient:Dropping term not found in HPO: HP:0003813\n",
      "WARNING:patient_similarity.patient:Dropping term not found in HPO: HP:0001420\n",
      "WARNING:patient_similarity.patient:Dropping term not found in HPO: HP:0003822\n",
      "WARNING:patient_similarity.patient:Dropping term not found in HPO: HP:0003813\n",
      "WARNING:patient_similarity.patient:Dropping term not found in HPO: HP:0003576\n",
      "WARNING:patient_similarity.patient:Dropping term not found in HPO: HP:0003822\n",
      "WARNING:patient_similarity.patient:Dropping term not found in HPO: HP:0003660\n",
      "WARNING:patient_similarity.patient:Dropping term not found in HPO: HP:0003813\n",
      "WARNING:patient_similarity.patient:Dropping term not found in HPO: HP:0003590\n",
      "WARNING:patient_similarity.patient:Dropping term not found in HPO: HP:0001420\n",
      "WARNING:patient_similarity.patient:Dropping term not found in HPO: HP:0003576\n",
      "WARNING:patient_similarity.patient:Dropping term not found in HPO: HP:0003813\n",
      "WARNING:patient_similarity.patient:Dropping term not found in HPO: HP:0003813\n",
      "WARNING:patient_similarity.patient:Dropping term not found in HPO: HP:0003813\n",
      "WARNING:patient_similarity.patient:Dropping term not found in HPO: HP:0003813\n",
      "WARNING:patient_similarity.patient:Dropping term not found in HPO: HP:0001420\n",
      "WARNING:patient_similarity.patient:Dropping term not found in HPO: HP:0003822\n",
      "WARNING:patient_similarity.patient:Dropping term not found in HPO: HP:0003813\n",
      "WARNING:patient_similarity.patient:Dropping term not found in HPO: HP:0003576\n",
      "WARNING:patient_similarity.patient:Dropping term not found in HPO: HP:0003815\n",
      "WARNING:patient_similarity.patient:Dropping term not found in HPO: HP:0003813\n",
      "WARNING:patient_similarity.patient:Dropping term not found in HPO: HP:0003822\n",
      "WARNING:patient_similarity.patient:Dropping term not found in HPO: HP:0003813\n",
      "WARNING:patient_similarity.patient:Dropping term not found in HPO: HP:0003813\n",
      "WARNING:patient_similarity.patient:Dropping term not found in HPO: HP:0003664\n",
      "WARNING:patient_similarity.patient:Dropping term not found in HPO: HP:0003813\n",
      "WARNING:patient_similarity.patient:Dropping term not found in HPO: HP:0003822\n",
      "WARNING:patient_similarity.patient:Dropping term not found in HPO: HP:0003822\n",
      "WARNING:patient_similarity.patient:Dropping term not found in HPO: HP:0003576\n",
      "WARNING:patient_similarity.patient:Dropping term not found in HPO: HP:0003813\n",
      "WARNING:patient_similarity.patient:Dropping term not found in HPO: HP:0003822\n",
      "WARNING:patient_similarity.patient:Dropping term not found in HPO: HP:0003813\n",
      "WARNING:patient_similarity.patient:Dropping term not found in HPO: HP:0003813\n",
      "WARNING:patient_similarity.patient:Dropping term not found in HPO: HP:0003822\n",
      "WARNING:patient_similarity.patient:Dropping term not found in HPO: HP:0003813\n",
      "WARNING:patient_similarity.patient:Dropping term not found in HPO: HP:0004149\n",
      "WARNING:patient_similarity.patient:Dropping term not found in HPO: HP:0001432\n"
     ]
    }
   ],
   "source": [
    "clinphen_scores = create_df_metrics_against_ground_truth(clinphen_df['HPO ID'])"
   ]
  },
  {
   "cell_type": "code",
   "execution_count": 854,
   "metadata": {},
   "outputs": [
    {
     "name": "stderr",
     "output_type": "stream",
     "text": [
      "WARNING:root:Found conflicting frequencies (None, 0.025) for same disease-phenotype: OMIM:113650 - HP:0000410 (taking larger)\n",
      "WARNING:root:Found conflicting frequencies (None, 0.025) for same disease-phenotype: OMIM:113650 - HP:0000410 (taking larger)\n",
      "WARNING:root:Found conflicting frequencies (None, 0.545) for same disease-phenotype: OMIM:120330 - HP:0003774 (taking larger)\n",
      "WARNING:root:Found conflicting frequencies (None, 0.545) for same disease-phenotype: OMIM:120330 - HP:0003774 (taking larger)\n",
      "WARNING:root:Found conflicting frequencies (0.16999999999999998, 0.025) for same disease-phenotype: OMIM:147250 - HP:0000252 (taking larger)\n",
      "WARNING:root:Found conflicting frequencies (None, 0.025) for same disease-phenotype: OMIM:153640 - HP:0001757 (taking larger)\n",
      "WARNING:root:Found conflicting frequencies (None, 0.025) for same disease-phenotype: OMIM:153640 - HP:0001757 (taking larger)\n",
      "WARNING:root:Found conflicting frequencies (None, 0.025) for same disease-phenotype: OMIM:180700 - HP:0000463 (taking larger)\n",
      "WARNING:root:Found conflicting frequencies (None, 0.025) for same disease-phenotype: OMIM:180700 - HP:0000463 (taking larger)\n",
      "WARNING:root:Found conflicting frequencies (None, 0.025) for same disease-phenotype: OMIM:235730 - HP:0000684 (taking larger)\n",
      "WARNING:root:Found conflicting frequencies (None, 0.025) for same disease-phenotype: OMIM:235730 - HP:0001290 (taking larger)\n",
      "WARNING:root:Found conflicting frequencies (None, 0.025) for same disease-phenotype: OMIM:235730 - HP:0001344 (taking larger)\n",
      "WARNING:root:Found conflicting frequencies (None, 0.025) for same disease-phenotype: OMIM:244850 - HP:0000982 (taking larger)\n",
      "WARNING:root:Found conflicting frequencies (None, 0.025) for same disease-phenotype: OMIM:263210 - HP:0000430 (taking larger)\n",
      "WARNING:root:Found conflicting frequencies (None, 0.025) for same disease-phenotype: OMIM:263210 - HP:0000444 (taking larger)\n",
      "WARNING:root:Found conflicting frequencies (None, 0.025) for same disease-phenotype: OMIM:268310 - HP:0000463 (taking larger)\n",
      "WARNING:root:Found conflicting frequencies (None, 0.025) for same disease-phenotype: OMIM:268310 - HP:0000463 (taking larger)\n",
      "WARNING:root:Found conflicting frequencies (None, 0.025) for same disease-phenotype: OMIM:271640 - HP:0000926 (taking larger)\n",
      "WARNING:root:Found conflicting frequencies (None, 0.025) for same disease-phenotype: OMIM:300867 - HP:0001998 (taking larger)\n",
      "WARNING:root:Found conflicting frequencies (None, 0.025) for same disease-phenotype: OMIM:601214 - HP:0000982 (taking larger)\n",
      "WARNING:root:Found conflicting frequencies (None, 0.025) for same disease-phenotype: OMIM:601321 - HP:0001328 (taking larger)\n",
      "WARNING:root:Found conflicting frequencies (None, 0.025) for same disease-phenotype: OMIM:602342 - HP:0006610 (taking larger)\n",
      "WARNING:root:Found conflicting frequencies (None, 0.16999999999999998) for same disease-phenotype: OMIM:605130 - HP:0001252 (taking larger)\n",
      "WARNING:root:Found conflicting frequencies (None, 0.16999999999999998) for same disease-phenotype: OMIM:605130 - HP:0001252 (taking larger)\n",
      "WARNING:root:Found conflicting frequencies (None, 0.545) for same disease-phenotype: OMIM:606777 - HP:0001250 (taking larger)\n",
      "WARNING:root:Found conflicting frequencies (None, 0.545) for same disease-phenotype: OMIM:606777 - HP:0001250 (taking larger)\n",
      "WARNING:root:Found conflicting frequencies (None, 0.545) for same disease-phenotype: OMIM:607554 - HP:0001727 (taking larger)\n",
      "WARNING:root:Found conflicting frequencies (None, 0.545) for same disease-phenotype: OMIM:607554 - HP:0001727 (taking larger)\n",
      "WARNING:root:Found conflicting frequencies (None, 0.16999999999999998) for same disease-phenotype: OMIM:608149 - HP:0000347 (taking larger)\n",
      "WARNING:root:Found conflicting frequencies (None, 0.16999999999999998) for same disease-phenotype: OMIM:608149 - HP:0000347 (taking larger)\n",
      "WARNING:root:Found conflicting frequencies (None, 0.16999999999999998) for same disease-phenotype: OMIM:610199 - HP:0001409 (taking larger)\n",
      "WARNING:root:Found conflicting frequencies (None, 0.16999999999999998) for same disease-phenotype: OMIM:610199 - HP:0001409 (taking larger)\n",
      "WARNING:root:Found conflicting frequencies (None, 0.025) for same disease-phenotype: OMIM:610842 - HP:0001102 (taking larger)\n",
      "WARNING:root:Found conflicting frequencies (None, 0.025) for same disease-phenotype: OMIM:615273 - HP:0025460 (taking larger)\n",
      "WARNING:root:Found conflicting frequencies (None, 0.025) for same disease-phenotype: OMIM:615355 - HP:0000766 (taking larger)\n",
      "WARNING:root:Found conflicting frequencies (None, 0.025) for same disease-phenotype: OMIM:615355 - HP:0002212 (taking larger)\n",
      "WARNING:root:Found conflicting frequencies (None, 0.025) for same disease-phenotype: OMIM:615355 - HP:0004482 (taking larger)\n",
      "WARNING:root:Found conflicting frequencies (None, 0.025) for same disease-phenotype: OMIM:615873 - HP:0000625 (taking larger)\n",
      "WARNING:root:Found conflicting frequencies (None, 0.16999999999999998) for same disease-phenotype: OMIM:616099 - HP:0040149 (taking larger)\n",
      "WARNING:root:Found conflicting frequencies (None, 0.16999999999999998) for same disease-phenotype: OMIM:616099 - HP:0040149 (taking larger)\n",
      "WARNING:root:Found conflicting frequencies (None, 0.16999999999999998) for same disease-phenotype: OMIM:616494 - HP:0001337 (taking larger)\n",
      "WARNING:root:Found conflicting frequencies (None, 0.16999999999999998) for same disease-phenotype: OMIM:616494 - HP:0001337 (taking larger)\n",
      "WARNING:root:Found conflicting frequencies (None, 0.16999999999999998) for same disease-phenotype: OMIM:616602 - HP:0001252 (taking larger)\n",
      "WARNING:root:Found conflicting frequencies (None, 0.16999999999999998) for same disease-phenotype: OMIM:616602 - HP:0001252 (taking larger)\n",
      "WARNING:root:Found conflicting frequencies (None, 0.025) for same disease-phenotype: OMIM:616795 - HP:0000716 (taking larger)\n",
      "WARNING:root:Found conflicting frequencies (None, 0.025) for same disease-phenotype: OMIM:616795 - HP:0002317 (taking larger)\n",
      "WARNING:root:Found conflicting frequencies (None, 0.025) for same disease-phenotype: OMIM:616843 - HP:0001744 (taking larger)\n",
      "WARNING:root:Found conflicting frequencies (0.545, 0.16999999999999998) for same disease-phenotype: ORPHA:1359 - HP:0003118 (taking larger)\n",
      "WARNING:root:Found conflicting frequencies (1.0, 0.895) for same disease-phenotype: ORPHA:284979 - HP:0001653 (taking larger)\n",
      "WARNING:root:Found conflicting frequencies (1.0, 0.895) for same disease-phenotype: ORPHA:284979 - HP:0002097 (taking larger)\n",
      "WARNING:root:Found conflicting frequencies (1.0, 0.895) for same disease-phenotype: ORPHA:284979 - HP:0005180 (taking larger)\n",
      "WARNING:root:Found conflicting frequencies (1.0, 0.895) for same disease-phenotype: ORPHA:52901 - HP:0000044 (taking larger)\n",
      "WARNING:root:Found conflicting frequencies (0.895, 0.16999999999999998) for same disease-phenotype: ORPHA:786 - HP:0003118 (taking larger)\n",
      "WARNING:patient_similarity.patient:Dropping term not found in HPO: HP:0003813\n",
      "WARNING:patient_similarity.patient:Dropping term not found in HPO: HP:0003813\n",
      "WARNING:patient_similarity.patient:Dropping term not found in HPO: HP:0001420\n",
      "WARNING:patient_similarity.patient:Dropping term not found in HPO: HP:0003822\n",
      "WARNING:patient_similarity.patient:Dropping term not found in HPO: HP:0003822\n",
      "WARNING:patient_similarity.patient:Dropping term not found in HPO: HP:0003813\n",
      "WARNING:patient_similarity.patient:Dropping term not found in HPO: HP:0003822\n",
      "WARNING:patient_similarity.patient:Dropping term not found in HPO: HP:0003822\n",
      "WARNING:patient_similarity.patient:Dropping term not found in HPO: HP:0003576\n",
      "WARNING:patient_similarity.patient:Dropping term not found in HPO: HP:0003813\n",
      "WARNING:patient_similarity.patient:Dropping term not found in HPO: HP:0003822\n",
      "WARNING:patient_similarity.patient:Dropping term not found in HPO: HP:0003813\n",
      "WARNING:patient_similarity.patient:Dropping term not found in HPO: HP:0003813\n",
      "WARNING:patient_similarity.patient:Dropping term not found in HPO: HP:0003822\n",
      "WARNING:patient_similarity.patient:Dropping term not found in HPO: HP:0003813\n",
      "WARNING:patient_similarity.patient:Dropping term not found in HPO: HP:0007757\n",
      "WARNING:patient_similarity.patient:Dropping term not found in HPO: HP:0003813\n"
     ]
    },
    {
     "name": "stderr",
     "output_type": "stream",
     "text": [
      "WARNING:patient_similarity.patient:Dropping term not found in HPO: HP:0003813\n",
      "WARNING:patient_similarity.patient:Dropping term not found in HPO: HP:0001420\n",
      "WARNING:patient_similarity.patient:Dropping term not found in HPO: HP:0003822\n",
      "WARNING:patient_similarity.patient:Dropping term not found in HPO: HP:0003813\n",
      "WARNING:patient_similarity.patient:Dropping term not found in HPO: HP:0003576\n",
      "WARNING:patient_similarity.patient:Dropping term not found in HPO: HP:0003822\n",
      "WARNING:patient_similarity.patient:Dropping term not found in HPO: HP:0003660\n",
      "WARNING:patient_similarity.patient:Dropping term not found in HPO: HP:0003813\n",
      "WARNING:patient_similarity.patient:Dropping term not found in HPO: HP:0003590\n",
      "WARNING:patient_similarity.patient:Dropping term not found in HPO: HP:0001420\n",
      "WARNING:patient_similarity.patient:Dropping term not found in HPO: HP:0003576\n",
      "WARNING:patient_similarity.patient:Dropping term not found in HPO: HP:0003813\n",
      "WARNING:patient_similarity.patient:Dropping term not found in HPO: HP:0003813\n",
      "WARNING:patient_similarity.patient:Dropping term not found in HPO: HP:0003813\n",
      "WARNING:patient_similarity.patient:Dropping term not found in HPO: HP:0003813\n",
      "WARNING:patient_similarity.patient:Dropping term not found in HPO: HP:0001420\n",
      "WARNING:patient_similarity.patient:Dropping term not found in HPO: HP:0003822\n",
      "WARNING:patient_similarity.patient:Dropping term not found in HPO: HP:0003813\n",
      "WARNING:patient_similarity.patient:Dropping term not found in HPO: HP:0032445\n",
      "WARNING:patient_similarity.patient:Dropping term not found in HPO: HP:0003576\n",
      "WARNING:patient_similarity.patient:Dropping term not found in HPO: HP:0003815\n",
      "WARNING:patient_similarity.patient:Dropping term not found in HPO: HP:0003813\n",
      "WARNING:patient_similarity.patient:Dropping term not found in HPO: HP:0003822\n",
      "WARNING:patient_similarity.patient:Dropping term not found in HPO: HP:0003813\n",
      "WARNING:patient_similarity.patient:Dropping term not found in HPO: HP:0003813\n",
      "WARNING:patient_similarity.patient:Dropping term not found in HPO: HP:0003664\n",
      "WARNING:patient_similarity.patient:Dropping term not found in HPO: HP:0003813\n",
      "WARNING:patient_similarity.patient:Dropping term not found in HPO: HP:0003822\n",
      "WARNING:patient_similarity.patient:Dropping term not found in HPO: HP:0003822\n",
      "WARNING:patient_similarity.patient:Dropping term not found in HPO: HP:0003576\n",
      "WARNING:patient_similarity.patient:Dropping term not found in HPO: HP:0003813\n",
      "WARNING:patient_similarity.patient:Dropping term not found in HPO: HP:0003822\n",
      "WARNING:patient_similarity.patient:Dropping term not found in HPO: HP:0003813\n",
      "WARNING:patient_similarity.patient:Dropping term not found in HPO: HP:0003813\n",
      "WARNING:patient_similarity.patient:Dropping term not found in HPO: HP:0003822\n",
      "WARNING:patient_similarity.patient:Dropping term not found in HPO: HP:0003813\n",
      "WARNING:patient_similarity.patient:Dropping term not found in HPO: HP:0004149\n",
      "WARNING:patient_similarity.patient:Dropping term not found in HPO: HP:0001432\n"
     ]
    }
   ],
   "source": [
    "ncr_scores = create_df_metrics_against_ground_truth(ncr_df['NCR_HPO_codes'])"
   ]
  },
  {
   "cell_type": "code",
   "execution_count": 855,
   "metadata": {},
   "outputs": [
    {
     "name": "stderr",
     "output_type": "stream",
     "text": [
      "WARNING:root:Found conflicting frequencies (None, 0.025) for same disease-phenotype: OMIM:113650 - HP:0000410 (taking larger)\n",
      "WARNING:root:Found conflicting frequencies (None, 0.025) for same disease-phenotype: OMIM:113650 - HP:0000410 (taking larger)\n",
      "WARNING:root:Found conflicting frequencies (None, 0.545) for same disease-phenotype: OMIM:120330 - HP:0003774 (taking larger)\n",
      "WARNING:root:Found conflicting frequencies (None, 0.545) for same disease-phenotype: OMIM:120330 - HP:0003774 (taking larger)\n",
      "WARNING:root:Found conflicting frequencies (0.16999999999999998, 0.025) for same disease-phenotype: OMIM:147250 - HP:0000252 (taking larger)\n",
      "WARNING:root:Found conflicting frequencies (None, 0.025) for same disease-phenotype: OMIM:153640 - HP:0001757 (taking larger)\n",
      "WARNING:root:Found conflicting frequencies (None, 0.025) for same disease-phenotype: OMIM:153640 - HP:0001757 (taking larger)\n",
      "WARNING:root:Found conflicting frequencies (None, 0.025) for same disease-phenotype: OMIM:180700 - HP:0000463 (taking larger)\n",
      "WARNING:root:Found conflicting frequencies (None, 0.025) for same disease-phenotype: OMIM:180700 - HP:0000463 (taking larger)\n",
      "WARNING:root:Found conflicting frequencies (None, 0.025) for same disease-phenotype: OMIM:235730 - HP:0000684 (taking larger)\n",
      "WARNING:root:Found conflicting frequencies (None, 0.025) for same disease-phenotype: OMIM:235730 - HP:0001290 (taking larger)\n",
      "WARNING:root:Found conflicting frequencies (None, 0.025) for same disease-phenotype: OMIM:235730 - HP:0001344 (taking larger)\n",
      "WARNING:root:Found conflicting frequencies (None, 0.025) for same disease-phenotype: OMIM:244850 - HP:0000982 (taking larger)\n",
      "WARNING:root:Found conflicting frequencies (None, 0.025) for same disease-phenotype: OMIM:263210 - HP:0000430 (taking larger)\n",
      "WARNING:root:Found conflicting frequencies (None, 0.025) for same disease-phenotype: OMIM:263210 - HP:0000444 (taking larger)\n",
      "WARNING:root:Found conflicting frequencies (None, 0.025) for same disease-phenotype: OMIM:268310 - HP:0000463 (taking larger)\n",
      "WARNING:root:Found conflicting frequencies (None, 0.025) for same disease-phenotype: OMIM:268310 - HP:0000463 (taking larger)\n",
      "WARNING:root:Found conflicting frequencies (None, 0.025) for same disease-phenotype: OMIM:271640 - HP:0000926 (taking larger)\n",
      "WARNING:root:Found conflicting frequencies (None, 0.025) for same disease-phenotype: OMIM:300867 - HP:0001998 (taking larger)\n",
      "WARNING:root:Found conflicting frequencies (None, 0.025) for same disease-phenotype: OMIM:601214 - HP:0000982 (taking larger)\n",
      "WARNING:root:Found conflicting frequencies (None, 0.025) for same disease-phenotype: OMIM:601321 - HP:0001328 (taking larger)\n",
      "WARNING:root:Found conflicting frequencies (None, 0.025) for same disease-phenotype: OMIM:602342 - HP:0006610 (taking larger)\n",
      "WARNING:root:Found conflicting frequencies (None, 0.16999999999999998) for same disease-phenotype: OMIM:605130 - HP:0001252 (taking larger)\n",
      "WARNING:root:Found conflicting frequencies (None, 0.16999999999999998) for same disease-phenotype: OMIM:605130 - HP:0001252 (taking larger)\n",
      "WARNING:root:Found conflicting frequencies (None, 0.545) for same disease-phenotype: OMIM:606777 - HP:0001250 (taking larger)\n",
      "WARNING:root:Found conflicting frequencies (None, 0.545) for same disease-phenotype: OMIM:606777 - HP:0001250 (taking larger)\n",
      "WARNING:root:Found conflicting frequencies (None, 0.545) for same disease-phenotype: OMIM:607554 - HP:0001727 (taking larger)\n",
      "WARNING:root:Found conflicting frequencies (None, 0.545) for same disease-phenotype: OMIM:607554 - HP:0001727 (taking larger)\n",
      "WARNING:root:Found conflicting frequencies (None, 0.16999999999999998) for same disease-phenotype: OMIM:608149 - HP:0000347 (taking larger)\n",
      "WARNING:root:Found conflicting frequencies (None, 0.16999999999999998) for same disease-phenotype: OMIM:608149 - HP:0000347 (taking larger)\n",
      "WARNING:root:Found conflicting frequencies (None, 0.16999999999999998) for same disease-phenotype: OMIM:610199 - HP:0001409 (taking larger)\n",
      "WARNING:root:Found conflicting frequencies (None, 0.16999999999999998) for same disease-phenotype: OMIM:610199 - HP:0001409 (taking larger)\n",
      "WARNING:root:Found conflicting frequencies (None, 0.025) for same disease-phenotype: OMIM:610842 - HP:0001102 (taking larger)\n",
      "WARNING:root:Found conflicting frequencies (None, 0.025) for same disease-phenotype: OMIM:615273 - HP:0025460 (taking larger)\n",
      "WARNING:root:Found conflicting frequencies (None, 0.025) for same disease-phenotype: OMIM:615355 - HP:0000766 (taking larger)\n",
      "WARNING:root:Found conflicting frequencies (None, 0.025) for same disease-phenotype: OMIM:615355 - HP:0002212 (taking larger)\n",
      "WARNING:root:Found conflicting frequencies (None, 0.025) for same disease-phenotype: OMIM:615355 - HP:0004482 (taking larger)\n",
      "WARNING:root:Found conflicting frequencies (None, 0.025) for same disease-phenotype: OMIM:615873 - HP:0000625 (taking larger)\n",
      "WARNING:root:Found conflicting frequencies (None, 0.16999999999999998) for same disease-phenotype: OMIM:616099 - HP:0040149 (taking larger)\n",
      "WARNING:root:Found conflicting frequencies (None, 0.16999999999999998) for same disease-phenotype: OMIM:616099 - HP:0040149 (taking larger)\n",
      "WARNING:root:Found conflicting frequencies (None, 0.16999999999999998) for same disease-phenotype: OMIM:616494 - HP:0001337 (taking larger)\n",
      "WARNING:root:Found conflicting frequencies (None, 0.16999999999999998) for same disease-phenotype: OMIM:616494 - HP:0001337 (taking larger)\n",
      "WARNING:root:Found conflicting frequencies (None, 0.16999999999999998) for same disease-phenotype: OMIM:616602 - HP:0001252 (taking larger)\n",
      "WARNING:root:Found conflicting frequencies (None, 0.16999999999999998) for same disease-phenotype: OMIM:616602 - HP:0001252 (taking larger)\n",
      "WARNING:root:Found conflicting frequencies (None, 0.025) for same disease-phenotype: OMIM:616795 - HP:0000716 (taking larger)\n",
      "WARNING:root:Found conflicting frequencies (None, 0.025) for same disease-phenotype: OMIM:616795 - HP:0002317 (taking larger)\n",
      "WARNING:root:Found conflicting frequencies (None, 0.025) for same disease-phenotype: OMIM:616843 - HP:0001744 (taking larger)\n",
      "WARNING:root:Found conflicting frequencies (0.545, 0.16999999999999998) for same disease-phenotype: ORPHA:1359 - HP:0003118 (taking larger)\n",
      "WARNING:root:Found conflicting frequencies (1.0, 0.895) for same disease-phenotype: ORPHA:284979 - HP:0001653 (taking larger)\n",
      "WARNING:root:Found conflicting frequencies (1.0, 0.895) for same disease-phenotype: ORPHA:284979 - HP:0002097 (taking larger)\n",
      "WARNING:root:Found conflicting frequencies (1.0, 0.895) for same disease-phenotype: ORPHA:284979 - HP:0005180 (taking larger)\n",
      "WARNING:root:Found conflicting frequencies (1.0, 0.895) for same disease-phenotype: ORPHA:52901 - HP:0000044 (taking larger)\n",
      "WARNING:root:Found conflicting frequencies (0.895, 0.16999999999999998) for same disease-phenotype: ORPHA:786 - HP:0003118 (taking larger)\n",
      "WARNING:patient_similarity.patient:Dropping term not found in HPO: HP:0003813\n",
      "WARNING:patient_similarity.patient:Dropping term not found in HPO: HP:0003813\n",
      "WARNING:patient_similarity.patient:Dropping term not found in HPO: HP:0001420\n",
      "WARNING:patient_similarity.patient:Dropping term not found in HPO: HP:0003822\n",
      "WARNING:patient_similarity.patient:Dropping term not found in HPO: HP:0003822\n",
      "WARNING:patient_similarity.patient:Dropping term not found in HPO: HP:0003813\n",
      "WARNING:patient_similarity.patient:Dropping term not found in HPO: HP:0003822\n",
      "WARNING:patient_similarity.patient:Dropping term not found in HPO: HP:0003822\n",
      "WARNING:patient_similarity.patient:Dropping term not found in HPO: HP:0003576\n",
      "WARNING:patient_similarity.patient:Dropping term not found in HPO: HP:0003813\n",
      "WARNING:patient_similarity.patient:Dropping term not found in HPO: HP:0003822\n",
      "WARNING:patient_similarity.patient:Dropping term not found in HPO: HP:0003813\n",
      "WARNING:patient_similarity.patient:Dropping term not found in HPO: HP:0003813\n",
      "WARNING:patient_similarity.patient:Dropping term not found in HPO: HP:0003822\n",
      "WARNING:patient_similarity.patient:Dropping term not found in HPO: HP:0003813\n",
      "WARNING:patient_similarity.patient:Dropping term not found in HPO: HP:0007757\n",
      "WARNING:patient_similarity.patient:Dropping term not found in HPO: HP:0003813\n"
     ]
    },
    {
     "name": "stderr",
     "output_type": "stream",
     "text": [
      "WARNING:patient_similarity.patient:Dropping term not found in HPO: HP:0003813\n",
      "WARNING:patient_similarity.patient:Dropping term not found in HPO: HP:0001420\n",
      "WARNING:patient_similarity.patient:Dropping term not found in HPO: HP:0003822\n",
      "WARNING:patient_similarity.patient:Dropping term not found in HPO: HP:0003813\n",
      "WARNING:patient_similarity.patient:Dropping term not found in HPO: HP:0003576\n",
      "WARNING:patient_similarity.patient:Dropping term not found in HPO: HP:0003822\n",
      "WARNING:patient_similarity.patient:Dropping term not found in HPO: HP:0003660\n",
      "WARNING:patient_similarity.patient:Dropping term not found in HPO: HP:0003813\n",
      "WARNING:patient_similarity.patient:Dropping term not found in HPO: HP:0003590\n",
      "WARNING:patient_similarity.patient:Dropping term not found in HPO: HP:0001420\n",
      "WARNING:patient_similarity.patient:Dropping term not found in HPO: HP:0003576\n",
      "WARNING:patient_similarity.patient:Dropping term not found in HPO: HP:0003813\n",
      "WARNING:patient_similarity.patient:Dropping term not found in HPO: HP:0003813\n",
      "WARNING:patient_similarity.patient:Dropping term not found in HPO: HP:0003813\n",
      "WARNING:patient_similarity.patient:Dropping term not found in HPO: HP:0003813\n",
      "WARNING:patient_similarity.patient:Dropping term not found in HPO: HP:0001420\n",
      "WARNING:patient_similarity.patient:Dropping term not found in HPO: HP:0003822\n",
      "WARNING:patient_similarity.patient:Dropping term not found in HPO: HP:0003813\n",
      "WARNING:patient_similarity.patient:Dropping term not found in HPO: HP:0032445\n",
      "WARNING:patient_similarity.patient:Dropping term not found in HPO: HP:0003576\n",
      "WARNING:patient_similarity.patient:Dropping term not found in HPO: HP:0003815\n",
      "WARNING:patient_similarity.patient:Dropping term not found in HPO: HP:0003813\n",
      "WARNING:patient_similarity.patient:Dropping term not found in HPO: HP:0003822\n",
      "WARNING:patient_similarity.patient:Dropping term not found in HPO: HP:0003813\n",
      "WARNING:patient_similarity.patient:Dropping term not found in HPO: HP:0003813\n",
      "WARNING:patient_similarity.patient:Dropping term not found in HPO: HP:0003664\n",
      "WARNING:patient_similarity.patient:Dropping term not found in HPO: HP:0003813\n",
      "WARNING:patient_similarity.patient:Dropping term not found in HPO: HP:0003822\n",
      "WARNING:patient_similarity.patient:Dropping term not found in HPO: HP:0003822\n",
      "WARNING:patient_similarity.patient:Dropping term not found in HPO: HP:0003576\n",
      "WARNING:patient_similarity.patient:Dropping term not found in HPO: HP:0003813\n",
      "WARNING:patient_similarity.patient:Dropping term not found in HPO: HP:0003822\n",
      "WARNING:patient_similarity.patient:Dropping term not found in HPO: HP:0003813\n",
      "WARNING:patient_similarity.patient:Dropping term not found in HPO: HP:0003813\n",
      "WARNING:patient_similarity.patient:Dropping term not found in HPO: HP:0003822\n",
      "WARNING:patient_similarity.patient:Dropping term not found in HPO: HP:0003813\n",
      "WARNING:patient_similarity.patient:Dropping term not found in HPO: HP:0004149\n",
      "WARNING:patient_similarity.patient:Dropping term not found in HPO: HP:0001432\n"
     ]
    }
   ],
   "source": [
    "ta_for_health_scores = create_df_metrics_against_ground_truth(ta_health_df['HPO_codes'])"
   ]
  },
  {
   "cell_type": "code",
   "execution_count": 856,
   "metadata": {},
   "outputs": [
    {
     "name": "stderr",
     "output_type": "stream",
     "text": [
      "WARNING:root:Found conflicting frequencies (None, 0.025) for same disease-phenotype: OMIM:113650 - HP:0000410 (taking larger)\n",
      "WARNING:root:Found conflicting frequencies (None, 0.025) for same disease-phenotype: OMIM:113650 - HP:0000410 (taking larger)\n",
      "WARNING:root:Found conflicting frequencies (None, 0.545) for same disease-phenotype: OMIM:120330 - HP:0003774 (taking larger)\n",
      "WARNING:root:Found conflicting frequencies (None, 0.545) for same disease-phenotype: OMIM:120330 - HP:0003774 (taking larger)\n",
      "WARNING:root:Found conflicting frequencies (0.16999999999999998, 0.025) for same disease-phenotype: OMIM:147250 - HP:0000252 (taking larger)\n",
      "WARNING:root:Found conflicting frequencies (None, 0.025) for same disease-phenotype: OMIM:153640 - HP:0001757 (taking larger)\n",
      "WARNING:root:Found conflicting frequencies (None, 0.025) for same disease-phenotype: OMIM:153640 - HP:0001757 (taking larger)\n",
      "WARNING:root:Found conflicting frequencies (None, 0.025) for same disease-phenotype: OMIM:180700 - HP:0000463 (taking larger)\n",
      "WARNING:root:Found conflicting frequencies (None, 0.025) for same disease-phenotype: OMIM:180700 - HP:0000463 (taking larger)\n",
      "WARNING:root:Found conflicting frequencies (None, 0.025) for same disease-phenotype: OMIM:235730 - HP:0000684 (taking larger)\n",
      "WARNING:root:Found conflicting frequencies (None, 0.025) for same disease-phenotype: OMIM:235730 - HP:0001290 (taking larger)\n",
      "WARNING:root:Found conflicting frequencies (None, 0.025) for same disease-phenotype: OMIM:235730 - HP:0001344 (taking larger)\n",
      "WARNING:root:Found conflicting frequencies (None, 0.025) for same disease-phenotype: OMIM:244850 - HP:0000982 (taking larger)\n",
      "WARNING:root:Found conflicting frequencies (None, 0.025) for same disease-phenotype: OMIM:263210 - HP:0000430 (taking larger)\n",
      "WARNING:root:Found conflicting frequencies (None, 0.025) for same disease-phenotype: OMIM:263210 - HP:0000444 (taking larger)\n",
      "WARNING:root:Found conflicting frequencies (None, 0.025) for same disease-phenotype: OMIM:268310 - HP:0000463 (taking larger)\n",
      "WARNING:root:Found conflicting frequencies (None, 0.025) for same disease-phenotype: OMIM:268310 - HP:0000463 (taking larger)\n",
      "WARNING:root:Found conflicting frequencies (None, 0.025) for same disease-phenotype: OMIM:271640 - HP:0000926 (taking larger)\n",
      "WARNING:root:Found conflicting frequencies (None, 0.025) for same disease-phenotype: OMIM:300867 - HP:0001998 (taking larger)\n",
      "WARNING:root:Found conflicting frequencies (None, 0.025) for same disease-phenotype: OMIM:601214 - HP:0000982 (taking larger)\n",
      "WARNING:root:Found conflicting frequencies (None, 0.025) for same disease-phenotype: OMIM:601321 - HP:0001328 (taking larger)\n",
      "WARNING:root:Found conflicting frequencies (None, 0.025) for same disease-phenotype: OMIM:602342 - HP:0006610 (taking larger)\n",
      "WARNING:root:Found conflicting frequencies (None, 0.16999999999999998) for same disease-phenotype: OMIM:605130 - HP:0001252 (taking larger)\n",
      "WARNING:root:Found conflicting frequencies (None, 0.16999999999999998) for same disease-phenotype: OMIM:605130 - HP:0001252 (taking larger)\n",
      "WARNING:root:Found conflicting frequencies (None, 0.545) for same disease-phenotype: OMIM:606777 - HP:0001250 (taking larger)\n",
      "WARNING:root:Found conflicting frequencies (None, 0.545) for same disease-phenotype: OMIM:606777 - HP:0001250 (taking larger)\n",
      "WARNING:root:Found conflicting frequencies (None, 0.545) for same disease-phenotype: OMIM:607554 - HP:0001727 (taking larger)\n",
      "WARNING:root:Found conflicting frequencies (None, 0.545) for same disease-phenotype: OMIM:607554 - HP:0001727 (taking larger)\n",
      "WARNING:root:Found conflicting frequencies (None, 0.16999999999999998) for same disease-phenotype: OMIM:608149 - HP:0000347 (taking larger)\n",
      "WARNING:root:Found conflicting frequencies (None, 0.16999999999999998) for same disease-phenotype: OMIM:608149 - HP:0000347 (taking larger)\n",
      "WARNING:root:Found conflicting frequencies (None, 0.16999999999999998) for same disease-phenotype: OMIM:610199 - HP:0001409 (taking larger)\n",
      "WARNING:root:Found conflicting frequencies (None, 0.16999999999999998) for same disease-phenotype: OMIM:610199 - HP:0001409 (taking larger)\n",
      "WARNING:root:Found conflicting frequencies (None, 0.025) for same disease-phenotype: OMIM:610842 - HP:0001102 (taking larger)\n",
      "WARNING:root:Found conflicting frequencies (None, 0.025) for same disease-phenotype: OMIM:615273 - HP:0025460 (taking larger)\n",
      "WARNING:root:Found conflicting frequencies (None, 0.025) for same disease-phenotype: OMIM:615355 - HP:0000766 (taking larger)\n",
      "WARNING:root:Found conflicting frequencies (None, 0.025) for same disease-phenotype: OMIM:615355 - HP:0002212 (taking larger)\n",
      "WARNING:root:Found conflicting frequencies (None, 0.025) for same disease-phenotype: OMIM:615355 - HP:0004482 (taking larger)\n",
      "WARNING:root:Found conflicting frequencies (None, 0.025) for same disease-phenotype: OMIM:615873 - HP:0000625 (taking larger)\n",
      "WARNING:root:Found conflicting frequencies (None, 0.16999999999999998) for same disease-phenotype: OMIM:616099 - HP:0040149 (taking larger)\n",
      "WARNING:root:Found conflicting frequencies (None, 0.16999999999999998) for same disease-phenotype: OMIM:616099 - HP:0040149 (taking larger)\n",
      "WARNING:root:Found conflicting frequencies (None, 0.16999999999999998) for same disease-phenotype: OMIM:616494 - HP:0001337 (taking larger)\n",
      "WARNING:root:Found conflicting frequencies (None, 0.16999999999999998) for same disease-phenotype: OMIM:616494 - HP:0001337 (taking larger)\n",
      "WARNING:root:Found conflicting frequencies (None, 0.16999999999999998) for same disease-phenotype: OMIM:616602 - HP:0001252 (taking larger)\n",
      "WARNING:root:Found conflicting frequencies (None, 0.16999999999999998) for same disease-phenotype: OMIM:616602 - HP:0001252 (taking larger)\n",
      "WARNING:root:Found conflicting frequencies (None, 0.025) for same disease-phenotype: OMIM:616795 - HP:0000716 (taking larger)\n",
      "WARNING:root:Found conflicting frequencies (None, 0.025) for same disease-phenotype: OMIM:616795 - HP:0002317 (taking larger)\n",
      "WARNING:root:Found conflicting frequencies (None, 0.025) for same disease-phenotype: OMIM:616843 - HP:0001744 (taking larger)\n",
      "WARNING:root:Found conflicting frequencies (0.545, 0.16999999999999998) for same disease-phenotype: ORPHA:1359 - HP:0003118 (taking larger)\n",
      "WARNING:root:Found conflicting frequencies (1.0, 0.895) for same disease-phenotype: ORPHA:284979 - HP:0001653 (taking larger)\n",
      "WARNING:root:Found conflicting frequencies (1.0, 0.895) for same disease-phenotype: ORPHA:284979 - HP:0002097 (taking larger)\n",
      "WARNING:root:Found conflicting frequencies (1.0, 0.895) for same disease-phenotype: ORPHA:284979 - HP:0005180 (taking larger)\n",
      "WARNING:root:Found conflicting frequencies (1.0, 0.895) for same disease-phenotype: ORPHA:52901 - HP:0000044 (taking larger)\n",
      "WARNING:root:Found conflicting frequencies (0.895, 0.16999999999999998) for same disease-phenotype: ORPHA:786 - HP:0003118 (taking larger)\n",
      "WARNING:patient_similarity.patient:Dropping term not found in HPO: HP:0003813\n",
      "WARNING:patient_similarity.patient:Dropping term not found in HPO: HP:0003813\n",
      "WARNING:patient_similarity.patient:Dropping term not found in HPO: HP:0001420\n",
      "WARNING:patient_similarity.patient:Dropping term not found in HPO: HP:0003822\n",
      "WARNING:patient_similarity.patient:Dropping term not found in HPO: HP:0003822\n",
      "WARNING:patient_similarity.patient:Dropping term not found in HPO: HP:0003813\n",
      "WARNING:patient_similarity.patient:Dropping term not found in HPO: HP:0003822\n",
      "WARNING:patient_similarity.patient:Dropping term not found in HPO: HP:0003822\n",
      "WARNING:patient_similarity.patient:Dropping term not found in HPO: HP:0003576\n",
      "WARNING:patient_similarity.patient:Dropping term not found in HPO: HP:0003813\n",
      "WARNING:patient_similarity.patient:Dropping term not found in HPO: HP:0003822\n",
      "WARNING:patient_similarity.patient:Dropping term not found in HPO: HP:0003813\n",
      "WARNING:patient_similarity.patient:Dropping term not found in HPO: HP:0003813\n",
      "WARNING:patient_similarity.patient:Dropping term not found in HPO: HP:0003822\n",
      "WARNING:patient_similarity.patient:Dropping term not found in HPO: HP:0003813\n",
      "WARNING:patient_similarity.patient:Dropping term not found in HPO: HP:0007757\n",
      "WARNING:patient_similarity.patient:Dropping term not found in HPO: HP:0003813\n"
     ]
    },
    {
     "name": "stderr",
     "output_type": "stream",
     "text": [
      "WARNING:patient_similarity.patient:Dropping term not found in HPO: HP:0003813\n",
      "WARNING:patient_similarity.patient:Dropping term not found in HPO: HP:0001420\n",
      "WARNING:patient_similarity.patient:Dropping term not found in HPO: HP:0003822\n",
      "WARNING:patient_similarity.patient:Dropping term not found in HPO: HP:0003813\n",
      "WARNING:patient_similarity.patient:Dropping term not found in HPO: HP:0003576\n",
      "WARNING:patient_similarity.patient:Dropping term not found in HPO: HP:0003822\n",
      "WARNING:patient_similarity.patient:Dropping term not found in HPO: HP:0003660\n",
      "WARNING:patient_similarity.patient:Dropping term not found in HPO: HP:0003813\n",
      "WARNING:patient_similarity.patient:Dropping term not found in HPO: HP:0003590\n",
      "WARNING:patient_similarity.patient:Dropping term not found in HPO: HP:0001420\n",
      "WARNING:patient_similarity.patient:Dropping term not found in HPO: HP:0003576\n",
      "WARNING:patient_similarity.patient:Dropping term not found in HPO: HP:0003813\n",
      "WARNING:patient_similarity.patient:Dropping term not found in HPO: HP:0003813\n",
      "WARNING:patient_similarity.patient:Dropping term not found in HPO: HP:0003813\n",
      "WARNING:patient_similarity.patient:Dropping term not found in HPO: HP:0003813\n",
      "WARNING:patient_similarity.patient:Dropping term not found in HPO: HP:0001420\n",
      "WARNING:patient_similarity.patient:Dropping term not found in HPO: HP:0003822\n",
      "WARNING:patient_similarity.patient:Dropping term not found in HPO: HP:0003813\n",
      "WARNING:patient_similarity.patient:Dropping term not found in HPO: HP:0032445\n",
      "WARNING:patient_similarity.patient:Dropping term not found in HPO: HP:0003576\n",
      "WARNING:patient_similarity.patient:Dropping term not found in HPO: HP:0003815\n",
      "WARNING:patient_similarity.patient:Dropping term not found in HPO: HP:0003813\n",
      "WARNING:patient_similarity.patient:Dropping term not found in HPO: HP:0003822\n",
      "WARNING:patient_similarity.patient:Dropping term not found in HPO: HP:0003813\n",
      "WARNING:patient_similarity.patient:Dropping term not found in HPO: HP:0032667\n",
      "WARNING:patient_similarity.patient:Dropping term not found in HPO: HP:0003813\n",
      "WARNING:patient_similarity.patient:Dropping term not found in HPO: HP:0003664\n",
      "WARNING:patient_similarity.patient:Dropping term not found in HPO: HP:0003813\n",
      "WARNING:patient_similarity.patient:Dropping term not found in HPO: HP:0003822\n",
      "WARNING:patient_similarity.patient:Dropping term not found in HPO: HP:0003822\n",
      "WARNING:patient_similarity.patient:Dropping term not found in HPO: HP:0003576\n",
      "WARNING:patient_similarity.patient:Dropping term not found in HPO: HP:0003813\n",
      "WARNING:patient_similarity.patient:Dropping term not found in HPO: HP:0003822\n",
      "WARNING:patient_similarity.patient:Dropping term not found in HPO: HP:0003813\n",
      "WARNING:patient_similarity.patient:Dropping term not found in HPO: HP:0003813\n",
      "WARNING:patient_similarity.patient:Dropping term not found in HPO: HP:0003822\n",
      "WARNING:patient_similarity.patient:Dropping term not found in HPO: HP:0003813\n",
      "WARNING:patient_similarity.patient:Dropping term not found in HPO: HP:0004149\n",
      "WARNING:patient_similarity.patient:Dropping term not found in HPO: HP:0001432\n"
     ]
    }
   ],
   "source": [
    "biolink_scores = create_df_metrics_against_ground_truth(biolink_df['Biolink_HPO_codes'])"
   ]
  },
  {
   "cell_type": "code",
   "execution_count": 857,
   "metadata": {},
   "outputs": [
    {
     "name": "stderr",
     "output_type": "stream",
     "text": [
      "WARNING:root:Found conflicting frequencies (None, 0.025) for same disease-phenotype: OMIM:113650 - HP:0000410 (taking larger)\n",
      "WARNING:root:Found conflicting frequencies (None, 0.025) for same disease-phenotype: OMIM:113650 - HP:0000410 (taking larger)\n",
      "WARNING:root:Found conflicting frequencies (None, 0.545) for same disease-phenotype: OMIM:120330 - HP:0003774 (taking larger)\n",
      "WARNING:root:Found conflicting frequencies (None, 0.545) for same disease-phenotype: OMIM:120330 - HP:0003774 (taking larger)\n",
      "WARNING:root:Found conflicting frequencies (0.16999999999999998, 0.025) for same disease-phenotype: OMIM:147250 - HP:0000252 (taking larger)\n",
      "WARNING:root:Found conflicting frequencies (None, 0.025) for same disease-phenotype: OMIM:153640 - HP:0001757 (taking larger)\n",
      "WARNING:root:Found conflicting frequencies (None, 0.025) for same disease-phenotype: OMIM:153640 - HP:0001757 (taking larger)\n",
      "WARNING:root:Found conflicting frequencies (None, 0.025) for same disease-phenotype: OMIM:180700 - HP:0000463 (taking larger)\n",
      "WARNING:root:Found conflicting frequencies (None, 0.025) for same disease-phenotype: OMIM:180700 - HP:0000463 (taking larger)\n",
      "WARNING:root:Found conflicting frequencies (None, 0.025) for same disease-phenotype: OMIM:235730 - HP:0000684 (taking larger)\n",
      "WARNING:root:Found conflicting frequencies (None, 0.025) for same disease-phenotype: OMIM:235730 - HP:0001290 (taking larger)\n",
      "WARNING:root:Found conflicting frequencies (None, 0.025) for same disease-phenotype: OMIM:235730 - HP:0001344 (taking larger)\n",
      "WARNING:root:Found conflicting frequencies (None, 0.025) for same disease-phenotype: OMIM:244850 - HP:0000982 (taking larger)\n",
      "WARNING:root:Found conflicting frequencies (None, 0.025) for same disease-phenotype: OMIM:263210 - HP:0000430 (taking larger)\n",
      "WARNING:root:Found conflicting frequencies (None, 0.025) for same disease-phenotype: OMIM:263210 - HP:0000444 (taking larger)\n",
      "WARNING:root:Found conflicting frequencies (None, 0.025) for same disease-phenotype: OMIM:268310 - HP:0000463 (taking larger)\n",
      "WARNING:root:Found conflicting frequencies (None, 0.025) for same disease-phenotype: OMIM:268310 - HP:0000463 (taking larger)\n",
      "WARNING:root:Found conflicting frequencies (None, 0.025) for same disease-phenotype: OMIM:271640 - HP:0000926 (taking larger)\n",
      "WARNING:root:Found conflicting frequencies (None, 0.025) for same disease-phenotype: OMIM:300867 - HP:0001998 (taking larger)\n",
      "WARNING:root:Found conflicting frequencies (None, 0.025) for same disease-phenotype: OMIM:601214 - HP:0000982 (taking larger)\n",
      "WARNING:root:Found conflicting frequencies (None, 0.025) for same disease-phenotype: OMIM:601321 - HP:0001328 (taking larger)\n",
      "WARNING:root:Found conflicting frequencies (None, 0.025) for same disease-phenotype: OMIM:602342 - HP:0006610 (taking larger)\n",
      "WARNING:root:Found conflicting frequencies (None, 0.16999999999999998) for same disease-phenotype: OMIM:605130 - HP:0001252 (taking larger)\n",
      "WARNING:root:Found conflicting frequencies (None, 0.16999999999999998) for same disease-phenotype: OMIM:605130 - HP:0001252 (taking larger)\n",
      "WARNING:root:Found conflicting frequencies (None, 0.545) for same disease-phenotype: OMIM:606777 - HP:0001250 (taking larger)\n",
      "WARNING:root:Found conflicting frequencies (None, 0.545) for same disease-phenotype: OMIM:606777 - HP:0001250 (taking larger)\n",
      "WARNING:root:Found conflicting frequencies (None, 0.545) for same disease-phenotype: OMIM:607554 - HP:0001727 (taking larger)\n",
      "WARNING:root:Found conflicting frequencies (None, 0.545) for same disease-phenotype: OMIM:607554 - HP:0001727 (taking larger)\n",
      "WARNING:root:Found conflicting frequencies (None, 0.16999999999999998) for same disease-phenotype: OMIM:608149 - HP:0000347 (taking larger)\n",
      "WARNING:root:Found conflicting frequencies (None, 0.16999999999999998) for same disease-phenotype: OMIM:608149 - HP:0000347 (taking larger)\n",
      "WARNING:root:Found conflicting frequencies (None, 0.16999999999999998) for same disease-phenotype: OMIM:610199 - HP:0001409 (taking larger)\n",
      "WARNING:root:Found conflicting frequencies (None, 0.16999999999999998) for same disease-phenotype: OMIM:610199 - HP:0001409 (taking larger)\n",
      "WARNING:root:Found conflicting frequencies (None, 0.025) for same disease-phenotype: OMIM:610842 - HP:0001102 (taking larger)\n",
      "WARNING:root:Found conflicting frequencies (None, 0.025) for same disease-phenotype: OMIM:615273 - HP:0025460 (taking larger)\n",
      "WARNING:root:Found conflicting frequencies (None, 0.025) for same disease-phenotype: OMIM:615355 - HP:0000766 (taking larger)\n",
      "WARNING:root:Found conflicting frequencies (None, 0.025) for same disease-phenotype: OMIM:615355 - HP:0002212 (taking larger)\n",
      "WARNING:root:Found conflicting frequencies (None, 0.025) for same disease-phenotype: OMIM:615355 - HP:0004482 (taking larger)\n",
      "WARNING:root:Found conflicting frequencies (None, 0.025) for same disease-phenotype: OMIM:615873 - HP:0000625 (taking larger)\n",
      "WARNING:root:Found conflicting frequencies (None, 0.16999999999999998) for same disease-phenotype: OMIM:616099 - HP:0040149 (taking larger)\n",
      "WARNING:root:Found conflicting frequencies (None, 0.16999999999999998) for same disease-phenotype: OMIM:616099 - HP:0040149 (taking larger)\n",
      "WARNING:root:Found conflicting frequencies (None, 0.16999999999999998) for same disease-phenotype: OMIM:616494 - HP:0001337 (taking larger)\n",
      "WARNING:root:Found conflicting frequencies (None, 0.16999999999999998) for same disease-phenotype: OMIM:616494 - HP:0001337 (taking larger)\n",
      "WARNING:root:Found conflicting frequencies (None, 0.16999999999999998) for same disease-phenotype: OMIM:616602 - HP:0001252 (taking larger)\n",
      "WARNING:root:Found conflicting frequencies (None, 0.16999999999999998) for same disease-phenotype: OMIM:616602 - HP:0001252 (taking larger)\n",
      "WARNING:root:Found conflicting frequencies (None, 0.025) for same disease-phenotype: OMIM:616795 - HP:0000716 (taking larger)\n",
      "WARNING:root:Found conflicting frequencies (None, 0.025) for same disease-phenotype: OMIM:616795 - HP:0002317 (taking larger)\n",
      "WARNING:root:Found conflicting frequencies (None, 0.025) for same disease-phenotype: OMIM:616843 - HP:0001744 (taking larger)\n",
      "WARNING:root:Found conflicting frequencies (0.545, 0.16999999999999998) for same disease-phenotype: ORPHA:1359 - HP:0003118 (taking larger)\n",
      "WARNING:root:Found conflicting frequencies (1.0, 0.895) for same disease-phenotype: ORPHA:284979 - HP:0001653 (taking larger)\n",
      "WARNING:root:Found conflicting frequencies (1.0, 0.895) for same disease-phenotype: ORPHA:284979 - HP:0002097 (taking larger)\n",
      "WARNING:root:Found conflicting frequencies (1.0, 0.895) for same disease-phenotype: ORPHA:284979 - HP:0005180 (taking larger)\n",
      "WARNING:root:Found conflicting frequencies (1.0, 0.895) for same disease-phenotype: ORPHA:52901 - HP:0000044 (taking larger)\n",
      "WARNING:root:Found conflicting frequencies (0.895, 0.16999999999999998) for same disease-phenotype: ORPHA:786 - HP:0003118 (taking larger)\n",
      "WARNING:patient_similarity.patient:Dropping term not found in HPO: HP:0003813\n",
      "WARNING:patient_similarity.patient:Dropping term not found in HPO: HP:0003813\n",
      "WARNING:patient_similarity.patient:Dropping term not found in HPO: HP:0001420\n",
      "WARNING:patient_similarity.patient:Dropping term not found in HPO: HP:0003822\n",
      "WARNING:patient_similarity.patient:Dropping term not found in HPO: HP:0003822\n",
      "WARNING:patient_similarity.patient:Dropping term not found in HPO: HP:0003813\n",
      "WARNING:patient_similarity.patient:Dropping term not found in HPO: HP:0003822\n",
      "WARNING:patient_similarity.patient:Dropping term not found in HPO: HP:0003822\n",
      "WARNING:patient_similarity.patient:Dropping term not found in HPO: HP:0003576\n",
      "WARNING:patient_similarity.patient:Dropping term not found in HPO: HP:0003813\n",
      "WARNING:patient_similarity.patient:Dropping term not found in HPO: HP:0003822\n",
      "WARNING:patient_similarity.patient:Dropping term not found in HPO: HP:0003813\n",
      "WARNING:patient_similarity.patient:Dropping term not found in HPO: HP:0003813\n",
      "WARNING:patient_similarity.patient:Dropping term not found in HPO: HP:0003822\n",
      "WARNING:patient_similarity.patient:Dropping term not found in HPO: HP:0003813\n",
      "WARNING:patient_similarity.patient:Dropping term not found in HPO: HP:0007757\n",
      "WARNING:patient_similarity.patient:Dropping term not found in HPO: HP:0003813\n"
     ]
    },
    {
     "name": "stderr",
     "output_type": "stream",
     "text": [
      "WARNING:patient_similarity.patient:Dropping term not found in HPO: HP:0003813\n",
      "WARNING:patient_similarity.patient:Dropping term not found in HPO: HP:0001420\n",
      "WARNING:patient_similarity.patient:Dropping term not found in HPO: HP:0003822\n",
      "WARNING:patient_similarity.patient:Dropping term not found in HPO: HP:0003813\n",
      "WARNING:patient_similarity.patient:Dropping term not found in HPO: HP:0003576\n",
      "WARNING:patient_similarity.patient:Dropping term not found in HPO: HP:0003822\n",
      "WARNING:patient_similarity.patient:Dropping term not found in HPO: HP:0003660\n",
      "WARNING:patient_similarity.patient:Dropping term not found in HPO: HP:0003813\n",
      "WARNING:patient_similarity.patient:Dropping term not found in HPO: HP:0003590\n",
      "WARNING:patient_similarity.patient:Dropping term not found in HPO: HP:0001420\n",
      "WARNING:patient_similarity.patient:Dropping term not found in HPO: HP:0003576\n",
      "WARNING:patient_similarity.patient:Dropping term not found in HPO: HP:0003813\n",
      "WARNING:patient_similarity.patient:Dropping term not found in HPO: HP:0003813\n",
      "WARNING:patient_similarity.patient:Dropping term not found in HPO: HP:0003813\n",
      "WARNING:patient_similarity.patient:Dropping term not found in HPO: HP:0003813\n",
      "WARNING:patient_similarity.patient:Dropping term not found in HPO: HP:0001420\n",
      "WARNING:patient_similarity.patient:Dropping term not found in HPO: HP:0003822\n",
      "WARNING:patient_similarity.patient:Dropping term not found in HPO: HP:0003813\n",
      "WARNING:patient_similarity.patient:Dropping term not found in HPO: HP:0003576\n",
      "WARNING:patient_similarity.patient:Dropping term not found in HPO: HP:0003815\n",
      "WARNING:patient_similarity.patient:Dropping term not found in HPO: HP:0003813\n",
      "WARNING:patient_similarity.patient:Dropping term not found in HPO: HP:0003822\n",
      "WARNING:patient_similarity.patient:Dropping term not found in HPO: HP:0003813\n",
      "WARNING:patient_similarity.patient:Dropping term not found in HPO: HP:0003813\n",
      "WARNING:patient_similarity.patient:Dropping term not found in HPO: HP:0003664\n",
      "WARNING:patient_similarity.patient:Dropping term not found in HPO: HP:0003813\n",
      "WARNING:patient_similarity.patient:Dropping term not found in HPO: HP:0003822\n",
      "WARNING:patient_similarity.patient:Dropping term not found in HPO: HP:0003822\n",
      "WARNING:patient_similarity.patient:Dropping term not found in HPO: HP:0003576\n",
      "WARNING:patient_similarity.patient:Dropping term not found in HPO: HP:0003813\n",
      "WARNING:patient_similarity.patient:Dropping term not found in HPO: HP:0003822\n",
      "WARNING:patient_similarity.patient:Dropping term not found in HPO: HP:0003813\n",
      "WARNING:patient_similarity.patient:Dropping term not found in HPO: HP:0003813\n",
      "WARNING:patient_similarity.patient:Dropping term not found in HPO: HP:0003822\n",
      "WARNING:patient_similarity.patient:Dropping term not found in HPO: HP:0003813\n",
      "WARNING:patient_similarity.patient:Dropping term not found in HPO: HP:0004149\n",
      "WARNING:patient_similarity.patient:Dropping term not found in HPO: HP:0001432\n"
     ]
    }
   ],
   "source": [
    "ihp_scores = create_df_metrics_against_ground_truth(ihp_df['HPO_codes'])"
   ]
  },
  {
   "cell_type": "code",
   "execution_count": 858,
   "metadata": {},
   "outputs": [
    {
     "data": {
      "text/html": [
       "<div>\n",
       "<style scoped>\n",
       "    .dataframe tbody tr th:only-of-type {\n",
       "        vertical-align: middle;\n",
       "    }\n",
       "\n",
       "    .dataframe tbody tr th {\n",
       "        vertical-align: top;\n",
       "    }\n",
       "\n",
       "    .dataframe thead th {\n",
       "        text-align: right;\n",
       "    }\n",
       "</style>\n",
       "<table border=\"1\" class=\"dataframe\">\n",
       "  <thead>\n",
       "    <tr style=\"text-align: right;\">\n",
       "      <th></th>\n",
       "      <th>ui</th>\n",
       "      <th>simgic</th>\n",
       "      <th>icca</th>\n",
       "      <th>simgic_jz</th>\n",
       "      <th>nsimgic</th>\n",
       "      <th>jaccard_best_avg</th>\n",
       "      <th>jaccard_avg</th>\n",
       "      <th>resnik_avg</th>\n",
       "      <th>resnik_best_avg</th>\n",
       "      <th>owlsim_max</th>\n",
       "      <th>owlsim_avg</th>\n",
       "      <th>owlsim_combined</th>\n",
       "      <th>lin_avg</th>\n",
       "      <th>lin_best_avg</th>\n",
       "      <th>jc_avg</th>\n",
       "      <th>jc_best_avg</th>\n",
       "    </tr>\n",
       "  </thead>\n",
       "  <tbody>\n",
       "    <tr>\n",
       "      <th>0</th>\n",
       "      <td>0.5873</td>\n",
       "      <td>0.4938</td>\n",
       "      <td>164.4956</td>\n",
       "      <td>0.8701</td>\n",
       "      <td>0.4537</td>\n",
       "      <td>0.6903</td>\n",
       "      <td>0.2470</td>\n",
       "      <td>2.0561</td>\n",
       "      <td>5.6714</td>\n",
       "      <td>66.0642</td>\n",
       "      <td>74.2344</td>\n",
       "      <td>70.1493</td>\n",
       "      <td>0.2791</td>\n",
       "      <td>0.7745</td>\n",
       "      <td>0.1914</td>\n",
       "      <td>0.6070</td>\n",
       "    </tr>\n",
       "    <tr>\n",
       "      <th>1</th>\n",
       "      <td>0.8889</td>\n",
       "      <td>0.8305</td>\n",
       "      <td>162.9390</td>\n",
       "      <td>1.2381</td>\n",
       "      <td>0.7956</td>\n",
       "      <td>0.9517</td>\n",
       "      <td>0.2347</td>\n",
       "      <td>1.2020</td>\n",
       "      <td>5.4098</td>\n",
       "      <td>98.9455</td>\n",
       "      <td>98.5470</td>\n",
       "      <td>98.7463</td>\n",
       "      <td>0.2228</td>\n",
       "      <td>0.9947</td>\n",
       "      <td>0.2219</td>\n",
       "      <td>0.9536</td>\n",
       "    </tr>\n",
       "    <tr>\n",
       "      <th>2</th>\n",
       "      <td>0.8462</td>\n",
       "      <td>0.7969</td>\n",
       "      <td>225.2724</td>\n",
       "      <td>1.3970</td>\n",
       "      <td>0.7738</td>\n",
       "      <td>0.9125</td>\n",
       "      <td>0.2280</td>\n",
       "      <td>2.2644</td>\n",
       "      <td>8.3145</td>\n",
       "      <td>100.0000</td>\n",
       "      <td>97.0172</td>\n",
       "      <td>98.5086</td>\n",
       "      <td>0.2631</td>\n",
       "      <td>0.9767</td>\n",
       "      <td>0.1835</td>\n",
       "      <td>0.9034</td>\n",
       "    </tr>\n",
       "  </tbody>\n",
       "</table>\n",
       "</div>"
      ],
      "text/plain": [
       "       ui  simgic      icca  simgic_jz  nsimgic  jaccard_best_avg  \\\n",
       "0  0.5873  0.4938  164.4956     0.8701   0.4537            0.6903   \n",
       "1  0.8889  0.8305  162.9390     1.2381   0.7956            0.9517   \n",
       "2  0.8462  0.7969  225.2724     1.3970   0.7738            0.9125   \n",
       "\n",
       "   jaccard_avg  resnik_avg  resnik_best_avg  owlsim_max  owlsim_avg  \\\n",
       "0       0.2470      2.0561           5.6714     66.0642     74.2344   \n",
       "1       0.2347      1.2020           5.4098     98.9455     98.5470   \n",
       "2       0.2280      2.2644           8.3145    100.0000     97.0172   \n",
       "\n",
       "   owlsim_combined  lin_avg  lin_best_avg  jc_avg  jc_best_avg  \n",
       "0          70.1493   0.2791        0.7745  0.1914       0.6070  \n",
       "1          98.7463   0.2228        0.9947  0.2219       0.9536  \n",
       "2          98.5086   0.2631        0.9767  0.1835       0.9034  "
      ]
     },
     "execution_count": 858,
     "metadata": {},
     "output_type": "execute_result"
    }
   ],
   "source": [
    "clinphen_scores.head(3)"
   ]
  },
  {
   "cell_type": "code",
   "execution_count": 523,
   "metadata": {},
   "outputs": [
    {
     "data": {
      "text/html": [
       "<div>\n",
       "<style scoped>\n",
       "    .dataframe tbody tr th:only-of-type {\n",
       "        vertical-align: middle;\n",
       "    }\n",
       "\n",
       "    .dataframe tbody tr th {\n",
       "        vertical-align: top;\n",
       "    }\n",
       "\n",
       "    .dataframe thead th {\n",
       "        text-align: right;\n",
       "    }\n",
       "</style>\n",
       "<table border=\"1\" class=\"dataframe\">\n",
       "  <thead>\n",
       "    <tr style=\"text-align: right;\">\n",
       "      <th></th>\n",
       "      <th>ui</th>\n",
       "      <th>simgic</th>\n",
       "      <th>icca</th>\n",
       "      <th>simgic_jz</th>\n",
       "      <th>nsimgic</th>\n",
       "      <th>jaccard_best_avg</th>\n",
       "      <th>jaccard_avg</th>\n",
       "      <th>resnik_avg</th>\n",
       "      <th>resnik_best_avg</th>\n",
       "      <th>owlsim_max</th>\n",
       "      <th>owlsim_avg</th>\n",
       "      <th>owlsim_combined</th>\n",
       "      <th>lin_avg</th>\n",
       "      <th>lin_best_avg</th>\n",
       "      <th>jc_avg</th>\n",
       "      <th>jc_best_avg</th>\n",
       "    </tr>\n",
       "  </thead>\n",
       "  <tbody>\n",
       "    <tr>\n",
       "      <th>0</th>\n",
       "      <td>0.375000</td>\n",
       "      <td>0.264287</td>\n",
       "      <td>89.514971</td>\n",
       "      <td>0.613591</td>\n",
       "      <td>0.259442</td>\n",
       "      <td>0.555409</td>\n",
       "      <td>0.248905</td>\n",
       "      <td>1.921694</td>\n",
       "      <td>4.281849</td>\n",
       "      <td>59.551601</td>\n",
       "      <td>57.136628</td>\n",
       "      <td>58.344114</td>\n",
       "      <td>0.276052</td>\n",
       "      <td>0.623176</td>\n",
       "      <td>0.167231</td>\n",
       "      <td>0.425141</td>\n",
       "    </tr>\n",
       "    <tr>\n",
       "      <th>1</th>\n",
       "      <td>0.755556</td>\n",
       "      <td>0.702826</td>\n",
       "      <td>137.883806</td>\n",
       "      <td>0.996501</td>\n",
       "      <td>0.585448</td>\n",
       "      <td>0.651999</td>\n",
       "      <td>0.214494</td>\n",
       "      <td>1.084525</td>\n",
       "      <td>4.041854</td>\n",
       "      <td>98.945474</td>\n",
       "      <td>87.161575</td>\n",
       "      <td>93.053524</td>\n",
       "      <td>0.166679</td>\n",
       "      <td>0.648859</td>\n",
       "      <td>0.187232</td>\n",
       "      <td>0.590683</td>\n",
       "    </tr>\n",
       "    <tr>\n",
       "      <th>2</th>\n",
       "      <td>0.795918</td>\n",
       "      <td>0.757244</td>\n",
       "      <td>196.295009</td>\n",
       "      <td>1.305638</td>\n",
       "      <td>0.672165</td>\n",
       "      <td>0.846324</td>\n",
       "      <td>0.243135</td>\n",
       "      <td>2.250160</td>\n",
       "      <td>7.941798</td>\n",
       "      <td>100.000000</td>\n",
       "      <td>95.833015</td>\n",
       "      <td>97.916508</td>\n",
       "      <td>0.271941</td>\n",
       "      <td>0.940818</td>\n",
       "      <td>0.198780</td>\n",
       "      <td>0.796377</td>\n",
       "    </tr>\n",
       "  </tbody>\n",
       "</table>\n",
       "</div>"
      ],
      "text/plain": [
       "         ui    simgic        icca  simgic_jz   nsimgic  jaccard_best_avg  \\\n",
       "0  0.375000  0.264287   89.514971   0.613591  0.259442          0.555409   \n",
       "1  0.755556  0.702826  137.883806   0.996501  0.585448          0.651999   \n",
       "2  0.795918  0.757244  196.295009   1.305638  0.672165          0.846324   \n",
       "\n",
       "   jaccard_avg  resnik_avg  resnik_best_avg  owlsim_max  owlsim_avg  \\\n",
       "0     0.248905    1.921694         4.281849   59.551601   57.136628   \n",
       "1     0.214494    1.084525         4.041854   98.945474   87.161575   \n",
       "2     0.243135    2.250160         7.941798  100.000000   95.833015   \n",
       "\n",
       "   owlsim_combined   lin_avg  lin_best_avg    jc_avg  jc_best_avg  \n",
       "0        58.344114  0.276052      0.623176  0.167231     0.425141  \n",
       "1        93.053524  0.166679      0.648859  0.187232     0.590683  \n",
       "2        97.916508  0.271941      0.940818  0.198780     0.796377  "
      ]
     },
     "execution_count": 523,
     "metadata": {},
     "output_type": "execute_result"
    }
   ],
   "source": [
    "ta_for_health_scores.head(3)"
   ]
  },
  {
   "cell_type": "code",
   "execution_count": 524,
   "metadata": {},
   "outputs": [
    {
     "data": {
      "text/html": [
       "<div>\n",
       "<style scoped>\n",
       "    .dataframe tbody tr th:only-of-type {\n",
       "        vertical-align: middle;\n",
       "    }\n",
       "\n",
       "    .dataframe tbody tr th {\n",
       "        vertical-align: top;\n",
       "    }\n",
       "\n",
       "    .dataframe thead th {\n",
       "        text-align: right;\n",
       "    }\n",
       "</style>\n",
       "<table border=\"1\" class=\"dataframe\">\n",
       "  <thead>\n",
       "    <tr style=\"text-align: right;\">\n",
       "      <th></th>\n",
       "      <th>ui</th>\n",
       "      <th>simgic</th>\n",
       "      <th>icca</th>\n",
       "      <th>simgic_jz</th>\n",
       "      <th>nsimgic</th>\n",
       "      <th>jaccard_best_avg</th>\n",
       "      <th>jaccard_avg</th>\n",
       "      <th>resnik_avg</th>\n",
       "      <th>resnik_best_avg</th>\n",
       "      <th>owlsim_max</th>\n",
       "      <th>owlsim_avg</th>\n",
       "      <th>owlsim_combined</th>\n",
       "      <th>lin_avg</th>\n",
       "      <th>lin_best_avg</th>\n",
       "      <th>jc_avg</th>\n",
       "      <th>jc_best_avg</th>\n",
       "    </tr>\n",
       "  </thead>\n",
       "  <tbody>\n",
       "    <tr>\n",
       "      <th>0</th>\n",
       "      <td>0.468750</td>\n",
       "      <td>0.355694</td>\n",
       "      <td>121.483059</td>\n",
       "      <td>0.694896</td>\n",
       "      <td>0.312752</td>\n",
       "      <td>0.704489</td>\n",
       "      <td>0.250647</td>\n",
       "      <td>2.114515</td>\n",
       "      <td>5.926466</td>\n",
       "      <td>65.052646</td>\n",
       "      <td>75.183437</td>\n",
       "      <td>70.118042</td>\n",
       "      <td>0.278102</td>\n",
       "      <td>0.797187</td>\n",
       "      <td>0.155370</td>\n",
       "      <td>0.484144</td>\n",
       "    </tr>\n",
       "    <tr>\n",
       "      <th>1</th>\n",
       "      <td>0.888889</td>\n",
       "      <td>0.830539</td>\n",
       "      <td>162.939005</td>\n",
       "      <td>1.095570</td>\n",
       "      <td>0.692829</td>\n",
       "      <td>0.885024</td>\n",
       "      <td>0.223701</td>\n",
       "      <td>1.138947</td>\n",
       "      <td>5.409750</td>\n",
       "      <td>98.945474</td>\n",
       "      <td>100.261904</td>\n",
       "      <td>99.603689</td>\n",
       "      <td>0.204905</td>\n",
       "      <td>0.972709</td>\n",
       "      <td>0.211589</td>\n",
       "      <td>0.843199</td>\n",
       "    </tr>\n",
       "    <tr>\n",
       "      <th>2</th>\n",
       "      <td>0.780000</td>\n",
       "      <td>0.741620</td>\n",
       "      <td>196.295009</td>\n",
       "      <td>1.302454</td>\n",
       "      <td>0.687289</td>\n",
       "      <td>0.846324</td>\n",
       "      <td>0.236007</td>\n",
       "      <td>2.166598</td>\n",
       "      <td>7.941798</td>\n",
       "      <td>100.000000</td>\n",
       "      <td>92.131364</td>\n",
       "      <td>96.065682</td>\n",
       "      <td>0.265608</td>\n",
       "      <td>0.940818</td>\n",
       "      <td>0.183999</td>\n",
       "      <td>0.796377</td>\n",
       "    </tr>\n",
       "  </tbody>\n",
       "</table>\n",
       "</div>"
      ],
      "text/plain": [
       "         ui    simgic        icca  simgic_jz   nsimgic  jaccard_best_avg  \\\n",
       "0  0.468750  0.355694  121.483059   0.694896  0.312752          0.704489   \n",
       "1  0.888889  0.830539  162.939005   1.095570  0.692829          0.885024   \n",
       "2  0.780000  0.741620  196.295009   1.302454  0.687289          0.846324   \n",
       "\n",
       "   jaccard_avg  resnik_avg  resnik_best_avg  owlsim_max  owlsim_avg  \\\n",
       "0     0.250647    2.114515         5.926466   65.052646   75.183437   \n",
       "1     0.223701    1.138947         5.409750   98.945474  100.261904   \n",
       "2     0.236007    2.166598         7.941798  100.000000   92.131364   \n",
       "\n",
       "   owlsim_combined   lin_avg  lin_best_avg    jc_avg  jc_best_avg  \n",
       "0        70.118042  0.278102      0.797187  0.155370     0.484144  \n",
       "1        99.603689  0.204905      0.972709  0.211589     0.843199  \n",
       "2        96.065682  0.265608      0.940818  0.183999     0.796377  "
      ]
     },
     "execution_count": 524,
     "metadata": {},
     "output_type": "execute_result"
    }
   ],
   "source": [
    "ncr_scores.head(3)"
   ]
  },
  {
   "cell_type": "code",
   "execution_count": 544,
   "metadata": {},
   "outputs": [
    {
     "data": {
      "text/html": [
       "<div>\n",
       "<style scoped>\n",
       "    .dataframe tbody tr th:only-of-type {\n",
       "        vertical-align: middle;\n",
       "    }\n",
       "\n",
       "    .dataframe tbody tr th {\n",
       "        vertical-align: top;\n",
       "    }\n",
       "\n",
       "    .dataframe thead th {\n",
       "        text-align: right;\n",
       "    }\n",
       "</style>\n",
       "<table border=\"1\" class=\"dataframe\">\n",
       "  <thead>\n",
       "    <tr style=\"text-align: right;\">\n",
       "      <th></th>\n",
       "      <th>ui</th>\n",
       "      <th>simgic</th>\n",
       "      <th>icca</th>\n",
       "      <th>simgic_jz</th>\n",
       "      <th>nsimgic</th>\n",
       "      <th>jaccard_best_avg</th>\n",
       "      <th>jaccard_avg</th>\n",
       "      <th>resnik_avg</th>\n",
       "      <th>resnik_best_avg</th>\n",
       "      <th>owlsim_max</th>\n",
       "      <th>owlsim_avg</th>\n",
       "      <th>owlsim_combined</th>\n",
       "      <th>lin_avg</th>\n",
       "      <th>lin_best_avg</th>\n",
       "      <th>jc_avg</th>\n",
       "      <th>jc_best_avg</th>\n",
       "    </tr>\n",
       "  </thead>\n",
       "  <tbody>\n",
       "    <tr>\n",
       "      <th>0</th>\n",
       "      <td>0.545455</td>\n",
       "      <td>0.431865</td>\n",
       "      <td>154.909641</td>\n",
       "      <td>0.827364</td>\n",
       "      <td>0.393794</td>\n",
       "      <td>0.597096</td>\n",
       "      <td>0.239147</td>\n",
       "      <td>2.337207</td>\n",
       "      <td>5.943902</td>\n",
       "      <td>78.307458</td>\n",
       "      <td>76.417321</td>\n",
       "      <td>77.362389</td>\n",
       "      <td>0.305953</td>\n",
       "      <td>0.776520</td>\n",
       "      <td>0.189328</td>\n",
       "      <td>0.532794</td>\n",
       "    </tr>\n",
       "    <tr>\n",
       "      <th>1</th>\n",
       "      <td>0.888889</td>\n",
       "      <td>0.830539</td>\n",
       "      <td>162.939005</td>\n",
       "      <td>1.238132</td>\n",
       "      <td>0.795573</td>\n",
       "      <td>0.951691</td>\n",
       "      <td>0.234715</td>\n",
       "      <td>1.202005</td>\n",
       "      <td>5.409750</td>\n",
       "      <td>98.945474</td>\n",
       "      <td>98.547048</td>\n",
       "      <td>98.746261</td>\n",
       "      <td>0.222758</td>\n",
       "      <td>0.994750</td>\n",
       "      <td>0.221895</td>\n",
       "      <td>0.953570</td>\n",
       "    </tr>\n",
       "    <tr>\n",
       "      <th>2</th>\n",
       "      <td>0.661017</td>\n",
       "      <td>0.610989</td>\n",
       "      <td>196.295009</td>\n",
       "      <td>1.108264</td>\n",
       "      <td>0.544911</td>\n",
       "      <td>0.846324</td>\n",
       "      <td>0.201449</td>\n",
       "      <td>1.825792</td>\n",
       "      <td>7.941798</td>\n",
       "      <td>100.000000</td>\n",
       "      <td>87.164711</td>\n",
       "      <td>93.582356</td>\n",
       "      <td>0.222440</td>\n",
       "      <td>0.940818</td>\n",
       "      <td>0.159593</td>\n",
       "      <td>0.796377</td>\n",
       "    </tr>\n",
       "  </tbody>\n",
       "</table>\n",
       "</div>"
      ],
      "text/plain": [
       "         ui    simgic        icca  simgic_jz   nsimgic  jaccard_best_avg  \\\n",
       "0  0.545455  0.431865  154.909641   0.827364  0.393794          0.597096   \n",
       "1  0.888889  0.830539  162.939005   1.238132  0.795573          0.951691   \n",
       "2  0.661017  0.610989  196.295009   1.108264  0.544911          0.846324   \n",
       "\n",
       "   jaccard_avg  resnik_avg  resnik_best_avg  owlsim_max  owlsim_avg  \\\n",
       "0     0.239147    2.337207         5.943902   78.307458   76.417321   \n",
       "1     0.234715    1.202005         5.409750   98.945474   98.547048   \n",
       "2     0.201449    1.825792         7.941798  100.000000   87.164711   \n",
       "\n",
       "   owlsim_combined   lin_avg  lin_best_avg    jc_avg  jc_best_avg  \n",
       "0        77.362389  0.305953      0.776520  0.189328     0.532794  \n",
       "1        98.746261  0.222758      0.994750  0.221895     0.953570  \n",
       "2        93.582356  0.222440      0.940818  0.159593     0.796377  "
      ]
     },
     "execution_count": 544,
     "metadata": {},
     "output_type": "execute_result"
    }
   ],
   "source": [
    "biolink_scores.head(3)"
   ]
  },
  {
   "cell_type": "code",
   "execution_count": 859,
   "metadata": {},
   "outputs": [
    {
     "data": {
      "text/html": [
       "<div>\n",
       "<style scoped>\n",
       "    .dataframe tbody tr th:only-of-type {\n",
       "        vertical-align: middle;\n",
       "    }\n",
       "\n",
       "    .dataframe tbody tr th {\n",
       "        vertical-align: top;\n",
       "    }\n",
       "\n",
       "    .dataframe thead th {\n",
       "        text-align: right;\n",
       "    }\n",
       "</style>\n",
       "<table border=\"1\" class=\"dataframe\">\n",
       "  <thead>\n",
       "    <tr style=\"text-align: right;\">\n",
       "      <th></th>\n",
       "      <th>ui</th>\n",
       "      <th>simgic</th>\n",
       "      <th>icca</th>\n",
       "      <th>simgic_jz</th>\n",
       "      <th>nsimgic</th>\n",
       "      <th>jaccard_best_avg</th>\n",
       "      <th>jaccard_avg</th>\n",
       "      <th>resnik_avg</th>\n",
       "      <th>resnik_best_avg</th>\n",
       "      <th>owlsim_max</th>\n",
       "      <th>owlsim_avg</th>\n",
       "      <th>owlsim_combined</th>\n",
       "      <th>lin_avg</th>\n",
       "      <th>lin_best_avg</th>\n",
       "      <th>jc_avg</th>\n",
       "      <th>jc_best_avg</th>\n",
       "    </tr>\n",
       "  </thead>\n",
       "  <tbody>\n",
       "    <tr>\n",
       "      <th>0</th>\n",
       "      <td>0.0952</td>\n",
       "      <td>0.0741</td>\n",
       "      <td>24.6705</td>\n",
       "      <td>0.1711</td>\n",
       "      <td>0.0584</td>\n",
       "      <td>0.2380</td>\n",
       "      <td>0.2380</td>\n",
       "      <td>1.4814</td>\n",
       "      <td>1.4814</td>\n",
       "      <td>59.5516</td>\n",
       "      <td>24.6109</td>\n",
       "      <td>42.0813</td>\n",
       "      <td>0.2083</td>\n",
       "      <td>0.2083</td>\n",
       "      <td>0.1985</td>\n",
       "      <td>0.1985</td>\n",
       "    </tr>\n",
       "    <tr>\n",
       "      <th>1</th>\n",
       "      <td>0.6444</td>\n",
       "      <td>0.6136</td>\n",
       "      <td>120.3848</td>\n",
       "      <td>0.8235</td>\n",
       "      <td>0.4653</td>\n",
       "      <td>0.6413</td>\n",
       "      <td>0.2324</td>\n",
       "      <td>1.2985</td>\n",
       "      <td>4.0118</td>\n",
       "      <td>98.9455</td>\n",
       "      <td>83.6218</td>\n",
       "      <td>91.2837</td>\n",
       "      <td>0.2393</td>\n",
       "      <td>0.6801</td>\n",
       "      <td>0.2297</td>\n",
       "      <td>0.5685</td>\n",
       "    </tr>\n",
       "    <tr>\n",
       "      <th>2</th>\n",
       "      <td>0.3265</td>\n",
       "      <td>0.2386</td>\n",
       "      <td>61.8495</td>\n",
       "      <td>0.5724</td>\n",
       "      <td>0.1744</td>\n",
       "      <td>0.5527</td>\n",
       "      <td>0.2441</td>\n",
       "      <td>1.8018</td>\n",
       "      <td>4.7588</td>\n",
       "      <td>76.7535</td>\n",
       "      <td>59.9670</td>\n",
       "      <td>68.3603</td>\n",
       "      <td>0.2673</td>\n",
       "      <td>0.6671</td>\n",
       "      <td>0.2035</td>\n",
       "      <td>0.4459</td>\n",
       "    </tr>\n",
       "  </tbody>\n",
       "</table>\n",
       "</div>"
      ],
      "text/plain": [
       "       ui  simgic      icca  simgic_jz  nsimgic  jaccard_best_avg  \\\n",
       "0  0.0952  0.0741   24.6705     0.1711   0.0584            0.2380   \n",
       "1  0.6444  0.6136  120.3848     0.8235   0.4653            0.6413   \n",
       "2  0.3265  0.2386   61.8495     0.5724   0.1744            0.5527   \n",
       "\n",
       "   jaccard_avg  resnik_avg  resnik_best_avg  owlsim_max  owlsim_avg  \\\n",
       "0       0.2380      1.4814           1.4814     59.5516     24.6109   \n",
       "1       0.2324      1.2985           4.0118     98.9455     83.6218   \n",
       "2       0.2441      1.8018           4.7588     76.7535     59.9670   \n",
       "\n",
       "   owlsim_combined  lin_avg  lin_best_avg  jc_avg  jc_best_avg  \n",
       "0          42.0813   0.2083        0.2083  0.1985       0.1985  \n",
       "1          91.2837   0.2393        0.6801  0.2297       0.5685  \n",
       "2          68.3603   0.2673        0.6671  0.2035       0.4459  "
      ]
     },
     "execution_count": 859,
     "metadata": {},
     "output_type": "execute_result"
    }
   ],
   "source": [
    "ihp_scores.head(3)"
   ]
  },
  {
   "cell_type": "code",
   "execution_count": 525,
   "metadata": {},
   "outputs": [
    {
     "data": {
      "text/plain": [
       "0.693562506210187"
      ]
     },
     "execution_count": 525,
     "metadata": {},
     "output_type": "execute_result"
    }
   ],
   "source": [
    "ncr_scores['simgic'].mean()"
   ]
  },
  {
   "cell_type": "code",
   "execution_count": 526,
   "metadata": {},
   "outputs": [
    {
     "data": {
      "text/plain": [
       "0.49857214200264005"
      ]
     },
     "execution_count": 526,
     "metadata": {},
     "output_type": "execute_result"
    }
   ],
   "source": [
    "ta_for_health_scores['simgic'].mean()"
   ]
  },
  {
   "cell_type": "code",
   "execution_count": 538,
   "metadata": {},
   "outputs": [
    {
     "data": {
      "text/plain": [
       "0.6669753253588804"
      ]
     },
     "execution_count": 538,
     "metadata": {},
     "output_type": "execute_result"
    }
   ],
   "source": [
    "clinphen_scores['simgic'].mean()"
   ]
  },
  {
   "cell_type": "code",
   "execution_count": 545,
   "metadata": {},
   "outputs": [
    {
     "data": {
      "text/plain": [
       "0.5982300193540105"
      ]
     },
     "execution_count": 545,
     "metadata": {},
     "output_type": "execute_result"
    }
   ],
   "source": [
    "biolink_scores['simgic'].mean()"
   ]
  },
  {
   "cell_type": "code",
   "execution_count": 860,
   "metadata": {},
   "outputs": [
    {
     "data": {
      "text/plain": [
       "0.27588536554855614"
      ]
     },
     "execution_count": 860,
     "metadata": {},
     "output_type": "execute_result"
    }
   ],
   "source": [
    "ihp_scores['simgic'].mean()"
   ]
  },
  {
   "cell_type": "code",
   "execution_count": 861,
   "metadata": {},
   "outputs": [],
   "source": [
    "algorithm_gsc_scores = {\n",
    "    'NCR': ncr_scores.to_dict(orient='list'),\n",
    "    'TextAnalyticsForHealth': ta_for_health_scores.to_dict(orient='list'),\n",
    "    'ClinPhen': clinphen_scores.to_dict(orient='list'),\n",
    "    'BioLink': biolink_scores.to_dict(orient='list'),\n",
    "    'IHP': ihp_scores.to_dict(orient='list'),\n",
    "}"
   ]
  },
  {
   "cell_type": "code",
   "execution_count": 862,
   "metadata": {},
   "outputs": [],
   "source": [
    "with open('gsc_scores.json', 'w') as f:\n",
    "    json.dump(algorithm_gsc_scores, f, indent=2)"
   ]
  },
  {
   "cell_type": "code",
   "execution_count": 863,
   "metadata": {},
   "outputs": [],
   "source": [
    "def highlight_max(s):\n",
    "    is_max = s == s.max()\n",
    "    return ['background-color: lightblue' if v else '' for v in is_max]\n"
   ]
  },
  {
   "cell_type": "code",
   "execution_count": 864,
   "metadata": {},
   "outputs": [],
   "source": [
    "results_matrix_df = pd.DataFrame([ncr_scores.mean(), ta_for_health_scores.mean(), \n",
    "                                  clinphen_scores.mean(), biolink_scores.mean(),\n",
    "                                 ihp_scores.mean()], \n",
    "             index=['NCR', 'TextAnalytics', 'ClinPhen', 'BioLink', 'IHP'])"
   ]
  },
  {
   "cell_type": "code",
   "execution_count": 865,
   "metadata": {},
   "outputs": [],
   "source": [
    "styled_results = results_matrix_df.style.apply(highlight_max)"
   ]
  },
  {
   "cell_type": "code",
   "execution_count": 866,
   "metadata": {},
   "outputs": [],
   "source": [
    "results_matrix_df.to_csv('GSC_results_average.csv')"
   ]
  },
  {
   "cell_type": "code",
   "execution_count": 867,
   "metadata": {},
   "outputs": [],
   "source": [
    "results_matrix_df.to_html('GSC_results_average.html')"
   ]
  },
  {
   "cell_type": "code",
   "execution_count": 868,
   "metadata": {},
   "outputs": [
    {
     "data": {
      "text/html": [
       "<div>\n",
       "<style scoped>\n",
       "    .dataframe tbody tr th:only-of-type {\n",
       "        vertical-align: middle;\n",
       "    }\n",
       "\n",
       "    .dataframe tbody tr th {\n",
       "        vertical-align: top;\n",
       "    }\n",
       "\n",
       "    .dataframe thead th {\n",
       "        text-align: right;\n",
       "    }\n",
       "</style>\n",
       "<table border=\"1\" class=\"dataframe\">\n",
       "  <thead>\n",
       "    <tr style=\"text-align: right;\">\n",
       "      <th></th>\n",
       "      <th>ui</th>\n",
       "      <th>simgic</th>\n",
       "      <th>icca</th>\n",
       "      <th>simgic_jz</th>\n",
       "      <th>nsimgic</th>\n",
       "      <th>jaccard_best_avg</th>\n",
       "      <th>jaccard_avg</th>\n",
       "      <th>resnik_avg</th>\n",
       "      <th>resnik_best_avg</th>\n",
       "      <th>owlsim_max</th>\n",
       "      <th>owlsim_avg</th>\n",
       "      <th>owlsim_combined</th>\n",
       "      <th>lin_avg</th>\n",
       "      <th>lin_best_avg</th>\n",
       "      <th>jc_avg</th>\n",
       "      <th>jc_best_avg</th>\n",
       "    </tr>\n",
       "  </thead>\n",
       "  <tbody>\n",
       "    <tr>\n",
       "      <th>NCR</th>\n",
       "      <td>0.7360</td>\n",
       "      <td>0.6936</td>\n",
       "      <td>112.0238</td>\n",
       "      <td>1.0371</td>\n",
       "      <td>0.6179</td>\n",
       "      <td>0.7901</td>\n",
       "      <td>0.3910</td>\n",
       "      <td>3.2268</td>\n",
       "      <td>5.9745</td>\n",
       "      <td>88.4585</td>\n",
       "      <td>82.8007</td>\n",
       "      <td>85.6296</td>\n",
       "      <td>0.4218</td>\n",
       "      <td>0.8048</td>\n",
       "      <td>0.2880</td>\n",
       "      <td>0.6910</td>\n",
       "    </tr>\n",
       "    <tr>\n",
       "      <th>TextAnalytics</th>\n",
       "      <td>0.5397</td>\n",
       "      <td>0.4986</td>\n",
       "      <td>78.7535</td>\n",
       "      <td>0.7721</td>\n",
       "      <td>0.4248</td>\n",
       "      <td>0.6059</td>\n",
       "      <td>0.3700</td>\n",
       "      <td>3.0357</td>\n",
       "      <td>4.6337</td>\n",
       "      <td>74.9930</td>\n",
       "      <td>69.3732</td>\n",
       "      <td>72.1831</td>\n",
       "      <td>0.4046</td>\n",
       "      <td>0.6345</td>\n",
       "      <td>0.2828</td>\n",
       "      <td>0.5132</td>\n",
       "    </tr>\n",
       "    <tr>\n",
       "      <th>ClinPhen</th>\n",
       "      <td>0.7140</td>\n",
       "      <td>0.6670</td>\n",
       "      <td>107.9373</td>\n",
       "      <td>1.0487</td>\n",
       "      <td>0.6209</td>\n",
       "      <td>0.7803</td>\n",
       "      <td>0.4080</td>\n",
       "      <td>3.3569</td>\n",
       "      <td>5.7676</td>\n",
       "      <td>85.6077</td>\n",
       "      <td>81.8638</td>\n",
       "      <td>83.7357</td>\n",
       "      <td>0.4554</td>\n",
       "      <td>0.8009</td>\n",
       "      <td>0.3011</td>\n",
       "      <td>0.7230</td>\n",
       "    </tr>\n",
       "    <tr>\n",
       "      <th>BioLink</th>\n",
       "      <td>0.6494</td>\n",
       "      <td>0.5982</td>\n",
       "      <td>99.0927</td>\n",
       "      <td>0.9735</td>\n",
       "      <td>0.5565</td>\n",
       "      <td>0.7300</td>\n",
       "      <td>0.3900</td>\n",
       "      <td>3.1616</td>\n",
       "      <td>5.3090</td>\n",
       "      <td>80.8300</td>\n",
       "      <td>76.3791</td>\n",
       "      <td>78.6045</td>\n",
       "      <td>0.4374</td>\n",
       "      <td>0.7470</td>\n",
       "      <td>0.2863</td>\n",
       "      <td>0.6483</td>\n",
       "    </tr>\n",
       "    <tr>\n",
       "      <th>IHP</th>\n",
       "      <td>0.3168</td>\n",
       "      <td>0.2759</td>\n",
       "      <td>40.4415</td>\n",
       "      <td>0.4602</td>\n",
       "      <td>0.2203</td>\n",
       "      <td>0.3727</td>\n",
       "      <td>0.2654</td>\n",
       "      <td>2.1412</td>\n",
       "      <td>2.8533</td>\n",
       "      <td>50.4780</td>\n",
       "      <td>43.8475</td>\n",
       "      <td>47.1628</td>\n",
       "      <td>0.3073</td>\n",
       "      <td>0.4179</td>\n",
       "      <td>0.2158</td>\n",
       "      <td>0.3111</td>\n",
       "    </tr>\n",
       "  </tbody>\n",
       "</table>\n",
       "</div>"
      ],
      "text/plain": [
       "                   ui  simgic      icca  simgic_jz  nsimgic  jaccard_best_avg  \\\n",
       "NCR            0.7360  0.6936  112.0238     1.0371   0.6179            0.7901   \n",
       "TextAnalytics  0.5397  0.4986   78.7535     0.7721   0.4248            0.6059   \n",
       "ClinPhen       0.7140  0.6670  107.9373     1.0487   0.6209            0.7803   \n",
       "BioLink        0.6494  0.5982   99.0927     0.9735   0.5565            0.7300   \n",
       "IHP            0.3168  0.2759   40.4415     0.4602   0.2203            0.3727   \n",
       "\n",
       "               jaccard_avg  resnik_avg  resnik_best_avg  owlsim_max  \\\n",
       "NCR                 0.3910      3.2268           5.9745     88.4585   \n",
       "TextAnalytics       0.3700      3.0357           4.6337     74.9930   \n",
       "ClinPhen            0.4080      3.3569           5.7676     85.6077   \n",
       "BioLink             0.3900      3.1616           5.3090     80.8300   \n",
       "IHP                 0.2654      2.1412           2.8533     50.4780   \n",
       "\n",
       "               owlsim_avg  owlsim_combined  lin_avg  lin_best_avg  jc_avg  \\\n",
       "NCR               82.8007          85.6296   0.4218        0.8048  0.2880   \n",
       "TextAnalytics     69.3732          72.1831   0.4046        0.6345  0.2828   \n",
       "ClinPhen          81.8638          83.7357   0.4554        0.8009  0.3011   \n",
       "BioLink           76.3791          78.6045   0.4374        0.7470  0.2863   \n",
       "IHP               43.8475          47.1628   0.3073        0.4179  0.2158   \n",
       "\n",
       "               jc_best_avg  \n",
       "NCR                 0.6910  \n",
       "TextAnalytics       0.5132  \n",
       "ClinPhen            0.7230  \n",
       "BioLink             0.6483  \n",
       "IHP                 0.3111  "
      ]
     },
     "execution_count": 868,
     "metadata": {},
     "output_type": "execute_result"
    }
   ],
   "source": [
    "results_matrix_df"
   ]
  },
  {
   "cell_type": "code",
   "execution_count": 869,
   "metadata": {},
   "outputs": [
    {
     "data": {
      "text/html": [
       "<style  type=\"text/css\" >\n",
       "    #T_1858389c_d1f6_11ea_8cde_c8348e51a88brow0_col0 {\n",
       "            background-color:  lightblue;\n",
       "        }    #T_1858389c_d1f6_11ea_8cde_c8348e51a88brow0_col1 {\n",
       "            background-color:  lightblue;\n",
       "        }    #T_1858389c_d1f6_11ea_8cde_c8348e51a88brow0_col2 {\n",
       "            background-color:  lightblue;\n",
       "        }    #T_1858389c_d1f6_11ea_8cde_c8348e51a88brow0_col5 {\n",
       "            background-color:  lightblue;\n",
       "        }    #T_1858389c_d1f6_11ea_8cde_c8348e51a88brow2_col3 {\n",
       "            background-color:  lightblue;\n",
       "        }    #T_1858389c_d1f6_11ea_8cde_c8348e51a88brow2_col4 {\n",
       "            background-color:  lightblue;\n",
       "        }    #T_1858389c_d1f6_11ea_8cde_c8348e51a88brow2_col6 {\n",
       "            background-color:  lightblue;\n",
       "        }    #T_1858389c_d1f6_11ea_8cde_c8348e51a88brow2_col7 {\n",
       "            background-color:  lightblue;\n",
       "        }</style><table id=\"T_1858389c_d1f6_11ea_8cde_c8348e51a88b\" ><thead>    <tr>        <th class=\"blank level0\" ></th>        <th class=\"col_heading level0 col0\" >ui</th>        <th class=\"col_heading level0 col1\" >simgic</th>        <th class=\"col_heading level0 col2\" >icca</th>        <th class=\"col_heading level0 col3\" >simgic_jz</th>        <th class=\"col_heading level0 col4\" >nsimgic</th>        <th class=\"col_heading level0 col5\" >jaccard_best_avg</th>        <th class=\"col_heading level0 col6\" >jaccard_avg</th>        <th class=\"col_heading level0 col7\" >resnik_avg</th>    </tr></thead><tbody>\n",
       "                <tr>\n",
       "                        <th id=\"T_1858389c_d1f6_11ea_8cde_c8348e51a88blevel0_row0\" class=\"row_heading level0 row0\" >NCR</th>\n",
       "                        <td id=\"T_1858389c_d1f6_11ea_8cde_c8348e51a88brow0_col0\" class=\"data row0 col0\" >0.7360</td>\n",
       "                        <td id=\"T_1858389c_d1f6_11ea_8cde_c8348e51a88brow0_col1\" class=\"data row0 col1\" >0.6936</td>\n",
       "                        <td id=\"T_1858389c_d1f6_11ea_8cde_c8348e51a88brow0_col2\" class=\"data row0 col2\" >112.0238</td>\n",
       "                        <td id=\"T_1858389c_d1f6_11ea_8cde_c8348e51a88brow0_col3\" class=\"data row0 col3\" >1.0371</td>\n",
       "                        <td id=\"T_1858389c_d1f6_11ea_8cde_c8348e51a88brow0_col4\" class=\"data row0 col4\" >0.6179</td>\n",
       "                        <td id=\"T_1858389c_d1f6_11ea_8cde_c8348e51a88brow0_col5\" class=\"data row0 col5\" >0.7901</td>\n",
       "                        <td id=\"T_1858389c_d1f6_11ea_8cde_c8348e51a88brow0_col6\" class=\"data row0 col6\" >0.3910</td>\n",
       "                        <td id=\"T_1858389c_d1f6_11ea_8cde_c8348e51a88brow0_col7\" class=\"data row0 col7\" >3.2268</td>\n",
       "            </tr>\n",
       "            <tr>\n",
       "                        <th id=\"T_1858389c_d1f6_11ea_8cde_c8348e51a88blevel0_row1\" class=\"row_heading level0 row1\" >TextAnalytics</th>\n",
       "                        <td id=\"T_1858389c_d1f6_11ea_8cde_c8348e51a88brow1_col0\" class=\"data row1 col0\" >0.5397</td>\n",
       "                        <td id=\"T_1858389c_d1f6_11ea_8cde_c8348e51a88brow1_col1\" class=\"data row1 col1\" >0.4986</td>\n",
       "                        <td id=\"T_1858389c_d1f6_11ea_8cde_c8348e51a88brow1_col2\" class=\"data row1 col2\" >78.7535</td>\n",
       "                        <td id=\"T_1858389c_d1f6_11ea_8cde_c8348e51a88brow1_col3\" class=\"data row1 col3\" >0.7721</td>\n",
       "                        <td id=\"T_1858389c_d1f6_11ea_8cde_c8348e51a88brow1_col4\" class=\"data row1 col4\" >0.4248</td>\n",
       "                        <td id=\"T_1858389c_d1f6_11ea_8cde_c8348e51a88brow1_col5\" class=\"data row1 col5\" >0.6059</td>\n",
       "                        <td id=\"T_1858389c_d1f6_11ea_8cde_c8348e51a88brow1_col6\" class=\"data row1 col6\" >0.3700</td>\n",
       "                        <td id=\"T_1858389c_d1f6_11ea_8cde_c8348e51a88brow1_col7\" class=\"data row1 col7\" >3.0357</td>\n",
       "            </tr>\n",
       "            <tr>\n",
       "                        <th id=\"T_1858389c_d1f6_11ea_8cde_c8348e51a88blevel0_row2\" class=\"row_heading level0 row2\" >ClinPhen</th>\n",
       "                        <td id=\"T_1858389c_d1f6_11ea_8cde_c8348e51a88brow2_col0\" class=\"data row2 col0\" >0.7140</td>\n",
       "                        <td id=\"T_1858389c_d1f6_11ea_8cde_c8348e51a88brow2_col1\" class=\"data row2 col1\" >0.6670</td>\n",
       "                        <td id=\"T_1858389c_d1f6_11ea_8cde_c8348e51a88brow2_col2\" class=\"data row2 col2\" >107.9373</td>\n",
       "                        <td id=\"T_1858389c_d1f6_11ea_8cde_c8348e51a88brow2_col3\" class=\"data row2 col3\" >1.0487</td>\n",
       "                        <td id=\"T_1858389c_d1f6_11ea_8cde_c8348e51a88brow2_col4\" class=\"data row2 col4\" >0.6209</td>\n",
       "                        <td id=\"T_1858389c_d1f6_11ea_8cde_c8348e51a88brow2_col5\" class=\"data row2 col5\" >0.7803</td>\n",
       "                        <td id=\"T_1858389c_d1f6_11ea_8cde_c8348e51a88brow2_col6\" class=\"data row2 col6\" >0.4080</td>\n",
       "                        <td id=\"T_1858389c_d1f6_11ea_8cde_c8348e51a88brow2_col7\" class=\"data row2 col7\" >3.3569</td>\n",
       "            </tr>\n",
       "            <tr>\n",
       "                        <th id=\"T_1858389c_d1f6_11ea_8cde_c8348e51a88blevel0_row3\" class=\"row_heading level0 row3\" >BioLink</th>\n",
       "                        <td id=\"T_1858389c_d1f6_11ea_8cde_c8348e51a88brow3_col0\" class=\"data row3 col0\" >0.6494</td>\n",
       "                        <td id=\"T_1858389c_d1f6_11ea_8cde_c8348e51a88brow3_col1\" class=\"data row3 col1\" >0.5982</td>\n",
       "                        <td id=\"T_1858389c_d1f6_11ea_8cde_c8348e51a88brow3_col2\" class=\"data row3 col2\" >99.0927</td>\n",
       "                        <td id=\"T_1858389c_d1f6_11ea_8cde_c8348e51a88brow3_col3\" class=\"data row3 col3\" >0.9735</td>\n",
       "                        <td id=\"T_1858389c_d1f6_11ea_8cde_c8348e51a88brow3_col4\" class=\"data row3 col4\" >0.5565</td>\n",
       "                        <td id=\"T_1858389c_d1f6_11ea_8cde_c8348e51a88brow3_col5\" class=\"data row3 col5\" >0.7300</td>\n",
       "                        <td id=\"T_1858389c_d1f6_11ea_8cde_c8348e51a88brow3_col6\" class=\"data row3 col6\" >0.3900</td>\n",
       "                        <td id=\"T_1858389c_d1f6_11ea_8cde_c8348e51a88brow3_col7\" class=\"data row3 col7\" >3.1616</td>\n",
       "            </tr>\n",
       "            <tr>\n",
       "                        <th id=\"T_1858389c_d1f6_11ea_8cde_c8348e51a88blevel0_row4\" class=\"row_heading level0 row4\" >IHP</th>\n",
       "                        <td id=\"T_1858389c_d1f6_11ea_8cde_c8348e51a88brow4_col0\" class=\"data row4 col0\" >0.3168</td>\n",
       "                        <td id=\"T_1858389c_d1f6_11ea_8cde_c8348e51a88brow4_col1\" class=\"data row4 col1\" >0.2759</td>\n",
       "                        <td id=\"T_1858389c_d1f6_11ea_8cde_c8348e51a88brow4_col2\" class=\"data row4 col2\" >40.4415</td>\n",
       "                        <td id=\"T_1858389c_d1f6_11ea_8cde_c8348e51a88brow4_col3\" class=\"data row4 col3\" >0.4602</td>\n",
       "                        <td id=\"T_1858389c_d1f6_11ea_8cde_c8348e51a88brow4_col4\" class=\"data row4 col4\" >0.2203</td>\n",
       "                        <td id=\"T_1858389c_d1f6_11ea_8cde_c8348e51a88brow4_col5\" class=\"data row4 col5\" >0.3727</td>\n",
       "                        <td id=\"T_1858389c_d1f6_11ea_8cde_c8348e51a88brow4_col6\" class=\"data row4 col6\" >0.2654</td>\n",
       "                        <td id=\"T_1858389c_d1f6_11ea_8cde_c8348e51a88brow4_col7\" class=\"data row4 col7\" >2.1412</td>\n",
       "            </tr>\n",
       "    </tbody></table>"
      ],
      "text/plain": [
       "<pandas.io.formats.style.Styler at 0x23268d032c8>"
      ]
     },
     "execution_count": 869,
     "metadata": {},
     "output_type": "execute_result"
    }
   ],
   "source": [
    "results_matrix_df.iloc[::,:8].style.apply(highlight_max)"
   ]
  },
  {
   "cell_type": "code",
   "execution_count": 870,
   "metadata": {},
   "outputs": [
    {
     "data": {
      "text/html": [
       "<style  type=\"text/css\" >\n",
       "    #T_18b27c76_d1f6_11ea_9176_c8348e51a88brow0_col0 {\n",
       "            background-color:  lightblue;\n",
       "        }    #T_18b27c76_d1f6_11ea_9176_c8348e51a88brow2_col1 {\n",
       "            background-color:  lightblue;\n",
       "        }</style><table id=\"T_18b27c76_d1f6_11ea_9176_c8348e51a88b\" ><thead>    <tr>        <th class=\"blank level0\" ></th>        <th class=\"col_heading level0 col0\" >simgic</th>        <th class=\"col_heading level0 col1\" >jaccard_avg</th>    </tr></thead><tbody>\n",
       "                <tr>\n",
       "                        <th id=\"T_18b27c76_d1f6_11ea_9176_c8348e51a88blevel0_row0\" class=\"row_heading level0 row0\" >NCR</th>\n",
       "                        <td id=\"T_18b27c76_d1f6_11ea_9176_c8348e51a88brow0_col0\" class=\"data row0 col0\" >0.6936</td>\n",
       "                        <td id=\"T_18b27c76_d1f6_11ea_9176_c8348e51a88brow0_col1\" class=\"data row0 col1\" >0.3910</td>\n",
       "            </tr>\n",
       "            <tr>\n",
       "                        <th id=\"T_18b27c76_d1f6_11ea_9176_c8348e51a88blevel0_row1\" class=\"row_heading level0 row1\" >TextAnalytics</th>\n",
       "                        <td id=\"T_18b27c76_d1f6_11ea_9176_c8348e51a88brow1_col0\" class=\"data row1 col0\" >0.4986</td>\n",
       "                        <td id=\"T_18b27c76_d1f6_11ea_9176_c8348e51a88brow1_col1\" class=\"data row1 col1\" >0.3700</td>\n",
       "            </tr>\n",
       "            <tr>\n",
       "                        <th id=\"T_18b27c76_d1f6_11ea_9176_c8348e51a88blevel0_row2\" class=\"row_heading level0 row2\" >ClinPhen</th>\n",
       "                        <td id=\"T_18b27c76_d1f6_11ea_9176_c8348e51a88brow2_col0\" class=\"data row2 col0\" >0.6670</td>\n",
       "                        <td id=\"T_18b27c76_d1f6_11ea_9176_c8348e51a88brow2_col1\" class=\"data row2 col1\" >0.4080</td>\n",
       "            </tr>\n",
       "            <tr>\n",
       "                        <th id=\"T_18b27c76_d1f6_11ea_9176_c8348e51a88blevel0_row3\" class=\"row_heading level0 row3\" >BioLink</th>\n",
       "                        <td id=\"T_18b27c76_d1f6_11ea_9176_c8348e51a88brow3_col0\" class=\"data row3 col0\" >0.5982</td>\n",
       "                        <td id=\"T_18b27c76_d1f6_11ea_9176_c8348e51a88brow3_col1\" class=\"data row3 col1\" >0.3900</td>\n",
       "            </tr>\n",
       "            <tr>\n",
       "                        <th id=\"T_18b27c76_d1f6_11ea_9176_c8348e51a88blevel0_row4\" class=\"row_heading level0 row4\" >IHP</th>\n",
       "                        <td id=\"T_18b27c76_d1f6_11ea_9176_c8348e51a88brow4_col0\" class=\"data row4 col0\" >0.2759</td>\n",
       "                        <td id=\"T_18b27c76_d1f6_11ea_9176_c8348e51a88brow4_col1\" class=\"data row4 col1\" >0.2654</td>\n",
       "            </tr>\n",
       "    </tbody></table>"
      ],
      "text/plain": [
       "<pandas.io.formats.style.Styler at 0x23268d00bc8>"
      ]
     },
     "execution_count": 870,
     "metadata": {},
     "output_type": "execute_result"
    }
   ],
   "source": [
    "results_matrix_df[['simgic', 'jaccard_avg']].style.apply(highlight_max)"
   ]
  },
  {
   "cell_type": "markdown",
   "metadata": {},
   "source": [
    "### Next steps\n",
    "* weighted average\n",
    "* scatter plot score (which?) vs symptoms (length?)\n",
    "* are the warnings ok?\n",
    "* which metric makes sense - (simgic)"
   ]
  },
  {
   "cell_type": "code",
   "execution_count": 871,
   "metadata": {},
   "outputs": [],
   "source": [
    "import seaborn as sns\n",
    "import matplotlib.pyplot as plt\n",
    "%matplotlib inline"
   ]
  },
  {
   "cell_type": "code",
   "execution_count": 872,
   "metadata": {},
   "outputs": [],
   "source": [
    "import numpy as np"
   ]
  },
  {
   "cell_type": "code",
   "execution_count": 873,
   "metadata": {},
   "outputs": [],
   "source": [
    "def scatter_plot_gsc(scores, hpo_lists):\n",
    "    #x = [len(hpo_list) for hpo_list in hpo_lists]\n",
    "    x = [len(set(hpo_list)) for hpo_list in gsc_data['HPO_codes']]\n",
    "    y = list(scores)\n",
    "    plt.figure(figsize=(16,8))\n",
    "    sns.scatterplot(x, y, alpha=0.6, x_jitter=1)\n",
    "    plt.plot([0, max(x)], [np.mean(scores), np.mean(scores)], 'r')\n",
    "    plt.plot()"
   ]
  },
  {
   "cell_type": "code",
   "execution_count": 874,
   "metadata": {},
   "outputs": [],
   "source": [
    "# draw an average line\n",
    "# add legend\n",
    "# make the plot bigger\n",
    "# avoid overlapping"
   ]
  },
  {
   "cell_type": "code",
   "execution_count": 875,
   "metadata": {},
   "outputs": [
    {
     "data": {
      "image/png": "[encoded data removed]",
      "text/plain": [
       "<Figure size 1152x576 with 1 Axes>"
      ]
     },
     "metadata": {
      "needs_background": "light"
     },
     "output_type": "display_data"
    }
   ],
   "source": [
    "scatter_plot_gsc(ncr_scores['simgic'], ncr_df['NCR_HPO_codes'])"
   ]
  },
  {
   "cell_type": "code",
   "execution_count": 876,
   "metadata": {},
   "outputs": [
    {
     "data": {
      "image/png": "[encoded data removed]",
      "text/plain": [
       "<Figure size 1152x576 with 1 Axes>"
      ]
     },
     "metadata": {
      "needs_background": "light"
     },
     "output_type": "display_data"
    }
   ],
   "source": [
    "scatter_plot_gsc(clinphen_scores['simgic'], clinphen_df['HPO ID'])"
   ]
  },
  {
   "cell_type": "code",
   "execution_count": 877,
   "metadata": {},
   "outputs": [
    {
     "data": {
      "image/png": "[encoded data removed]",
      "text/plain": [
       "<Figure size 1152x576 with 1 Axes>"
      ]
     },
     "metadata": {
      "needs_background": "light"
     },
     "output_type": "display_data"
    }
   ],
   "source": [
    "scatter_plot_gsc(biolink_scores['simgic'], biolink_df['Biolink_HPO_codes'])"
   ]
  },
  {
   "cell_type": "code",
   "execution_count": 878,
   "metadata": {},
   "outputs": [
    {
     "data": {
      "image/png": "[encoded data removed]",
      "text/plain": [
       "<Figure size 1152x576 with 1 Axes>"
      ]
     },
     "metadata": {
      "needs_background": "light"
     },
     "output_type": "display_data"
    }
   ],
   "source": [
    "scatter_plot_gsc(ta_for_health_scores['simgic'], ta_health_df['HPO_codes'])"
   ]
  },
  {
   "cell_type": "code",
   "execution_count": 879,
   "metadata": {},
   "outputs": [
    {
     "data": {
      "text/plain": [
       "<matplotlib.axes._subplots.AxesSubplot at 0x23265d79908>"
      ]
     },
     "execution_count": 879,
     "metadata": {},
     "output_type": "execute_result"
    },
    {
     "data": {
      "image/png": "[encoded data removed]",
      "text/plain": [
       "<Figure size 1152x648 with 1 Axes>"
      ]
     },
     "metadata": {
      "needs_background": "light"
     },
     "output_type": "display_data"
    }
   ],
   "source": [
    "plt.figure(figsize=(16,9))\n",
    "sns.scatterplot([len(set(l)) for l in gsc_data['HPO_codes']], [len(set(l)) for l in ncr_df['NCR_HPO_codes']])\n",
    "sns.scatterplot([len(set(l)) for l in gsc_data['HPO_codes']], [len(set(l)) for l in ta_health_df['HPO_codes']])\n",
    "sns.scatterplot([len(set(l)) for l in gsc_data['HPO_codes']], [len(set(l)) for l in clinphen_df['HPO ID']])\n",
    "sns.scatterplot([len(set(l)) for l in gsc_data['HPO_codes']], [len(set(l)) for l in biolink_df['Biolink_HPO_codes']])"
   ]
  },
  {
   "cell_type": "code",
   "execution_count": 743,
   "metadata": {},
   "outputs": [
    {
     "data": {
      "text/plain": [
       "<matplotlib.axes._subplots.AxesSubplot at 0x2325f8ed648>"
      ]
     },
     "execution_count": 743,
     "metadata": {},
     "output_type": "execute_result"
    },
    {
     "data": {
      "image/png": "[encoded data removed]",
      "text/plain": [
       "<Figure size 432x288 with 1 Axes>"
      ]
     },
     "metadata": {
      "needs_background": "light"
     },
     "output_type": "display_data"
    }
   ],
   "source": []
  },
  {
   "cell_type": "code",
   "execution_count": 741,
   "metadata": {},
   "outputs": [
    {
     "data": {
      "text/plain": [
       "<matplotlib.axes._subplots.AxesSubplot at 0x232627d30c8>"
      ]
     },
     "execution_count": 741,
     "metadata": {},
     "output_type": "execute_result"
    },
    {
     "data": {
      "image/png": "[encoded data removed]",
      "text/plain": [
       "<Figure size 432x288 with 1 Axes>"
      ]
     },
     "metadata": {
      "needs_background": "light"
     },
     "output_type": "display_data"
    }
   ],
   "source": []
  },
  {
   "cell_type": "markdown",
   "metadata": {},
   "source": [
    "### Weighted average"
   ]
  },
  {
   "cell_type": "code",
   "execution_count": 880,
   "metadata": {},
   "outputs": [],
   "source": [
    "def weighted_average(scores, hpo_lists, weigh_by_ground_truth_count=True):\n",
    "    if weigh_by_ground_truth_count:\n",
    "        x = [len(set(hpo_list)) for hpo_list in gsc_data['HPO_codes']]\n",
    "    else:\n",
    "        x = [len(set(hpo_list)) for hpo_list in hpo_lists]\n",
    "    y = list(scores)\n",
    "    return np.average(y, weights=x)"
   ]
  },
  {
   "cell_type": "code",
   "execution_count": 881,
   "metadata": {},
   "outputs": [
    {
     "data": {
      "text/plain": [
       "0.7240738685056423"
      ]
     },
     "execution_count": 881,
     "metadata": {},
     "output_type": "execute_result"
    }
   ],
   "source": [
    "weighted_average(ncr_scores['simgic'], ncr_df['NCR_HPO_codes'])"
   ]
  },
  {
   "cell_type": "code",
   "execution_count": 882,
   "metadata": {},
   "outputs": [
    {
     "data": {
      "text/plain": [
       "0.5293408575785705"
      ]
     },
     "execution_count": 882,
     "metadata": {},
     "output_type": "execute_result"
    }
   ],
   "source": [
    "weighted_average(ta_for_health_scores['simgic'], ta_health_df['HPO_codes'])"
   ]
  },
  {
   "cell_type": "code",
   "execution_count": 883,
   "metadata": {},
   "outputs": [],
   "source": [
    "results_matrix = results_matrix_df[['simgic', 'jaccard_avg']]"
   ]
  },
  {
   "cell_type": "code",
   "execution_count": 884,
   "metadata": {},
   "outputs": [
    {
     "data": {
      "text/html": [
       "<div>\n",
       "<style scoped>\n",
       "    .dataframe tbody tr th:only-of-type {\n",
       "        vertical-align: middle;\n",
       "    }\n",
       "\n",
       "    .dataframe tbody tr th {\n",
       "        vertical-align: top;\n",
       "    }\n",
       "\n",
       "    .dataframe thead th {\n",
       "        text-align: right;\n",
       "    }\n",
       "</style>\n",
       "<table border=\"1\" class=\"dataframe\">\n",
       "  <thead>\n",
       "    <tr style=\"text-align: right;\">\n",
       "      <th></th>\n",
       "      <th>simgic</th>\n",
       "      <th>jaccard_avg</th>\n",
       "    </tr>\n",
       "  </thead>\n",
       "  <tbody>\n",
       "    <tr>\n",
       "      <th>NCR</th>\n",
       "      <td>0.6936</td>\n",
       "      <td>0.3910</td>\n",
       "    </tr>\n",
       "    <tr>\n",
       "      <th>TextAnalytics</th>\n",
       "      <td>0.4986</td>\n",
       "      <td>0.3700</td>\n",
       "    </tr>\n",
       "    <tr>\n",
       "      <th>ClinPhen</th>\n",
       "      <td>0.6670</td>\n",
       "      <td>0.4080</td>\n",
       "    </tr>\n",
       "    <tr>\n",
       "      <th>BioLink</th>\n",
       "      <td>0.5982</td>\n",
       "      <td>0.3900</td>\n",
       "    </tr>\n",
       "    <tr>\n",
       "      <th>IHP</th>\n",
       "      <td>0.2759</td>\n",
       "      <td>0.2654</td>\n",
       "    </tr>\n",
       "  </tbody>\n",
       "</table>\n",
       "</div>"
      ],
      "text/plain": [
       "               simgic  jaccard_avg\n",
       "NCR            0.6936       0.3910\n",
       "TextAnalytics  0.4986       0.3700\n",
       "ClinPhen       0.6670       0.4080\n",
       "BioLink        0.5982       0.3900\n",
       "IHP            0.2759       0.2654"
      ]
     },
     "execution_count": 884,
     "metadata": {},
     "output_type": "execute_result"
    }
   ],
   "source": [
    "results_matrix"
   ]
  },
  {
   "cell_type": "code",
   "execution_count": 885,
   "metadata": {},
   "outputs": [
    {
     "name": "stderr",
     "output_type": "stream",
     "text": [
      "C:\\Users\\t-mikuzb\\Anaconda3\\lib\\site-packages\\ipykernel_launcher.py:6: SettingWithCopyWarning: \n",
      "A value is trying to be set on a copy of a slice from a DataFrame.\n",
      "Try using .loc[row_indexer,col_indexer] = value instead\n",
      "\n",
      "See the caveats in the documentation: https://pandas.pydata.org/pandas-docs/stable/user_guide/indexing.html#returning-a-view-versus-a-copy\n",
      "  \n"
     ]
    }
   ],
   "source": [
    "results_matrix['weighted_simgic'] = [\n",
    "    weighted_average(ncr_scores['simgic'], ncr_df['NCR_HPO_codes']),\n",
    "    weighted_average(ta_for_health_scores['simgic'], ta_health_df['HPO_codes']),\n",
    "    weighted_average(clinphen_scores['simgic'], clinphen_df['HPO ID']),\n",
    "    weighted_average(biolink_scores['simgic'], biolink_df['Biolink_HPO_codes']),\n",
    "    weighted_average(ihp_scores['simgic'], ihp_df['HPO_codes'])\n",
    "]"
   ]
  },
  {
   "cell_type": "code",
   "execution_count": 886,
   "metadata": {},
   "outputs": [
    {
     "name": "stderr",
     "output_type": "stream",
     "text": [
      "C:\\Users\\t-mikuzb\\Anaconda3\\lib\\site-packages\\ipykernel_launcher.py:6: SettingWithCopyWarning: \n",
      "A value is trying to be set on a copy of a slice from a DataFrame.\n",
      "Try using .loc[row_indexer,col_indexer] = value instead\n",
      "\n",
      "See the caveats in the documentation: https://pandas.pydata.org/pandas-docs/stable/user_guide/indexing.html#returning-a-view-versus-a-copy\n",
      "  \n"
     ]
    }
   ],
   "source": [
    "results_matrix['weighted_jaccard'] = [\n",
    "    weighted_average(ncr_scores['jaccard_avg'], ncr_df['NCR_HPO_codes']),\n",
    "    weighted_average(ta_for_health_scores['jaccard_avg'], ta_health_df['HPO_codes']),\n",
    "    weighted_average(clinphen_scores['jaccard_avg'], clinphen_df['HPO ID']),\n",
    "    weighted_average(biolink_scores['jaccard_avg'], biolink_df['Biolink_HPO_codes']),\n",
    "    weighted_average(ihp_scores['jaccard_avg'], ihp_df['HPO_codes'])\n",
    "]"
   ]
  },
  {
   "cell_type": "code",
   "execution_count": 887,
   "metadata": {},
   "outputs": [],
   "source": [
    "pd.set_option(\"display.precision\", 4)"
   ]
  },
  {
   "cell_type": "code",
   "execution_count": 888,
   "metadata": {},
   "outputs": [
    {
     "data": {
      "text/html": [
       "<style  type=\"text/css\" >\n",
       "    #T_21415edc_d1f6_11ea_9348_c8348e51a88brow0_col0 {\n",
       "            background-color:  lightblue;\n",
       "        }    #T_21415edc_d1f6_11ea_9348_c8348e51a88brow0_col1 {\n",
       "            background-color:  lightblue;\n",
       "        }    #T_21415edc_d1f6_11ea_9348_c8348e51a88brow2_col2 {\n",
       "            background-color:  lightblue;\n",
       "        }    #T_21415edc_d1f6_11ea_9348_c8348e51a88brow2_col3 {\n",
       "            background-color:  lightblue;\n",
       "        }</style><table id=\"T_21415edc_d1f6_11ea_9348_c8348e51a88b\" ><thead>    <tr>        <th class=\"blank level0\" ></th>        <th class=\"col_heading level0 col0\" >simgic</th>        <th class=\"col_heading level0 col1\" >weighted_simgic</th>        <th class=\"col_heading level0 col2\" >jaccard_avg</th>        <th class=\"col_heading level0 col3\" >weighted_jaccard</th>    </tr></thead><tbody>\n",
       "                <tr>\n",
       "                        <th id=\"T_21415edc_d1f6_11ea_9348_c8348e51a88blevel0_row0\" class=\"row_heading level0 row0\" >NCR</th>\n",
       "                        <td id=\"T_21415edc_d1f6_11ea_9348_c8348e51a88brow0_col0\" class=\"data row0 col0\" >0.6936</td>\n",
       "                        <td id=\"T_21415edc_d1f6_11ea_9348_c8348e51a88brow0_col1\" class=\"data row0 col1\" >0.7241</td>\n",
       "                        <td id=\"T_21415edc_d1f6_11ea_9348_c8348e51a88brow0_col2\" class=\"data row0 col2\" >0.3910</td>\n",
       "                        <td id=\"T_21415edc_d1f6_11ea_9348_c8348e51a88brow0_col3\" class=\"data row0 col3\" >0.3287</td>\n",
       "            </tr>\n",
       "            <tr>\n",
       "                        <th id=\"T_21415edc_d1f6_11ea_9348_c8348e51a88blevel0_row1\" class=\"row_heading level0 row1\" >TextAnalytics</th>\n",
       "                        <td id=\"T_21415edc_d1f6_11ea_9348_c8348e51a88brow1_col0\" class=\"data row1 col0\" >0.4986</td>\n",
       "                        <td id=\"T_21415edc_d1f6_11ea_9348_c8348e51a88brow1_col1\" class=\"data row1 col1\" >0.5293</td>\n",
       "                        <td id=\"T_21415edc_d1f6_11ea_9348_c8348e51a88brow1_col2\" class=\"data row1 col2\" >0.3700</td>\n",
       "                        <td id=\"T_21415edc_d1f6_11ea_9348_c8348e51a88brow1_col3\" class=\"data row1 col3\" >0.3245</td>\n",
       "            </tr>\n",
       "            <tr>\n",
       "                        <th id=\"T_21415edc_d1f6_11ea_9348_c8348e51a88blevel0_row2\" class=\"row_heading level0 row2\" >ClinPhen</th>\n",
       "                        <td id=\"T_21415edc_d1f6_11ea_9348_c8348e51a88brow2_col0\" class=\"data row2 col0\" >0.6670</td>\n",
       "                        <td id=\"T_21415edc_d1f6_11ea_9348_c8348e51a88brow2_col1\" class=\"data row2 col1\" >0.6835</td>\n",
       "                        <td id=\"T_21415edc_d1f6_11ea_9348_c8348e51a88brow2_col2\" class=\"data row2 col2\" >0.4080</td>\n",
       "                        <td id=\"T_21415edc_d1f6_11ea_9348_c8348e51a88brow2_col3\" class=\"data row2 col3\" >0.3354</td>\n",
       "            </tr>\n",
       "            <tr>\n",
       "                        <th id=\"T_21415edc_d1f6_11ea_9348_c8348e51a88blevel0_row3\" class=\"row_heading level0 row3\" >BioLink</th>\n",
       "                        <td id=\"T_21415edc_d1f6_11ea_9348_c8348e51a88brow3_col0\" class=\"data row3 col0\" >0.5982</td>\n",
       "                        <td id=\"T_21415edc_d1f6_11ea_9348_c8348e51a88brow3_col1\" class=\"data row3 col1\" >0.6301</td>\n",
       "                        <td id=\"T_21415edc_d1f6_11ea_9348_c8348e51a88brow3_col2\" class=\"data row3 col2\" >0.3900</td>\n",
       "                        <td id=\"T_21415edc_d1f6_11ea_9348_c8348e51a88brow3_col3\" class=\"data row3 col3\" >0.3287</td>\n",
       "            </tr>\n",
       "            <tr>\n",
       "                        <th id=\"T_21415edc_d1f6_11ea_9348_c8348e51a88blevel0_row4\" class=\"row_heading level0 row4\" >IHP</th>\n",
       "                        <td id=\"T_21415edc_d1f6_11ea_9348_c8348e51a88brow4_col0\" class=\"data row4 col0\" >0.2759</td>\n",
       "                        <td id=\"T_21415edc_d1f6_11ea_9348_c8348e51a88brow4_col1\" class=\"data row4 col1\" >0.2782</td>\n",
       "                        <td id=\"T_21415edc_d1f6_11ea_9348_c8348e51a88brow4_col2\" class=\"data row4 col2\" >0.2654</td>\n",
       "                        <td id=\"T_21415edc_d1f6_11ea_9348_c8348e51a88brow4_col3\" class=\"data row4 col3\" >0.2573</td>\n",
       "            </tr>\n",
       "    </tbody></table>"
      ],
      "text/plain": [
       "<pandas.io.formats.style.Styler at 0x23265d414c8>"
      ]
     },
     "execution_count": 888,
     "metadata": {},
     "output_type": "execute_result"
    }
   ],
   "source": [
    "results_matrix[['simgic', 'weighted_simgic', 'jaccard_avg', 'weighted_jaccard']].style.apply(highlight_max)"
   ]
  },
  {
   "cell_type": "code",
   "execution_count": null,
   "metadata": {},
   "outputs": [],
   "source": []
  },
  {
   "cell_type": "code",
   "execution_count": null,
   "metadata": {},
   "outputs": [],
   "source": []
  }
 ],
 "metadata": {
  "kernelspec": {
   "display_name": "Python 3",
   "language": "python",
   "name": "python3"
  },
  "language_info": {
   "codemirror_mode": {
    "name": "ipython",
    "version": 3
   },
   "file_extension": ".py",
   "mimetype": "text/x-python",
   "name": "python",
   "nbconvert_exporter": "python",
   "pygments_lexer": "ipython3",
   "version": "3.7.6"
  }
 },
 "nbformat": 4,
 "nbformat_minor": 4
}
