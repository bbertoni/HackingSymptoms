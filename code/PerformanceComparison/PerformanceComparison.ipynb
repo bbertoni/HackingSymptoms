{
 "cells": [
  {
   "cell_type": "code",
   "execution_count": 117,
   "metadata": {},
   "outputs": [],
   "source": [
    "import pandas as pd\n",
    "gsc_data = pd.read_csv('GSC+.csv', converters={'HPO_codes': eval, 'starts': eval, 'ends': eval, 'HPO_symptoms': eval})"
   ]
  },
  {
   "cell_type": "code",
   "execution_count": 141,
   "metadata": {},
   "outputs": [
    {
     "data": {
      "text/plain": [
       "(228, 6)"
      ]
     },
     "execution_count": 141,
     "metadata": {},
     "output_type": "execute_result"
    }
   ],
   "source": [
    "gsc_data.shape"
   ]
  },
  {
   "cell_type": "code",
   "execution_count": 142,
   "metadata": {},
   "outputs": [
    {
     "data": {
      "text/plain": [
       "'A syndrome of brachydactyly (absence of some middle or distal phalanges), aplastic or hypoplastic nails, symphalangism (ankylois of proximal interphalangeal joints), synostosis of some carpal and tarsal bones, craniosynostosis, and dysplastic hip joints is reported in five members of an Italian family. It may represent a previously undescribed autosomal dominant trait.'"
      ]
     },
     "execution_count": 142,
     "metadata": {},
     "output_type": "execute_result"
    }
   ],
   "source": [
    "gsc_data.iloc[0]['text']"
   ]
  },
  {
   "cell_type": "code",
   "execution_count": 143,
   "metadata": {},
   "outputs": [
    {
     "data": {
      "text/plain": [
       "['brachydactyly',\n",
       " 'absence of some middle or distal phalanges',\n",
       " 'aplastic or hypoplastic nails',\n",
       " 'hypoplastic nails',\n",
       " 'symphalangism',\n",
       " 'ankylois of proximal interphalangeal joints',\n",
       " 'synostosis of some carpal and tarsal bones',\n",
       " 'craniosynostosis',\n",
       " 'dysplastic hip joints',\n",
       " 'autosomal dominant trait',\n",
       " 'autosomal dominant',\n",
       " 'dominant',\n",
       " 'dominant trait']"
      ]
     },
     "execution_count": 143,
     "metadata": {},
     "output_type": "execute_result"
    }
   ],
   "source": [
    "gsc_data.iloc[0]['HPO_symptoms']"
   ]
  },
  {
   "cell_type": "code",
   "execution_count": 118,
   "metadata": {},
   "outputs": [
    {
     "data": {
      "text/html": [
       "<div>\n",
       "<style scoped>\n",
       "    .dataframe tbody tr th:only-of-type {\n",
       "        vertical-align: middle;\n",
       "    }\n",
       "\n",
       "    .dataframe tbody tr th {\n",
       "        vertical-align: top;\n",
       "    }\n",
       "\n",
       "    .dataframe thead th {\n",
       "        text-align: right;\n",
       "    }\n",
       "</style>\n",
       "<table border=\"1\" class=\"dataframe\">\n",
       "  <thead>\n",
       "    <tr style=\"text-align: right;\">\n",
       "      <th></th>\n",
       "      <th>file</th>\n",
       "      <th>text</th>\n",
       "      <th>HPO_symptoms</th>\n",
       "      <th>HPO_codes</th>\n",
       "      <th>starts</th>\n",
       "      <th>ends</th>\n",
       "    </tr>\n",
       "  </thead>\n",
       "  <tbody>\n",
       "    <tr>\n",
       "      <th>0</th>\n",
       "      <td>1003450</td>\n",
       "      <td>A syndrome of brachydactyly (absence of some m...</td>\n",
       "      <td>[brachydactyly, absence of some middle or dist...</td>\n",
       "      <td>[0001156, 0009881, 0001798, 0001792, 0100264, ...</td>\n",
       "      <td>[14, 29, 74, 86, 105, 120, 166, 210, 232, 346,...</td>\n",
       "      <td>[27, 71, 103, 103, 118, 163, 208, 226, 253, 37...</td>\n",
       "    </tr>\n",
       "    <tr>\n",
       "      <th>1</th>\n",
       "      <td>10051003</td>\n",
       "      <td>Townes-Brocks syndrome (TBS) is an autosomal d...</td>\n",
       "      <td>[autosomal dominant disorder, autosomal domina...</td>\n",
       "      <td>[0000006, 0000006, 0000006, 0003828, 0003813, ...</td>\n",
       "      <td>[35, 35, 45, 95, 95, 139, 148, 163, 177, 186, ...</td>\n",
       "      <td>[62, 53, 53, 114, 103, 161, 161, 175, 197, 197...</td>\n",
       "    </tr>\n",
       "    <tr>\n",
       "      <th>2</th>\n",
       "      <td>10066029</td>\n",
       "      <td>Nevoid basal cell carcinoma syndrome (NBCCS) i...</td>\n",
       "      <td>[basal cell carcinoma, autosomal dominant, aut...</td>\n",
       "      <td>[0002671, 0000006, 0000006, 0000006, 0000006, ...</td>\n",
       "      <td>[7, 89, 89, 99, 99, 143, 143, 208, 238, 250, 2...</td>\n",
       "      <td>[27, 107, 113, 113, 107, 164, 151, 229, 261, 2...</td>\n",
       "    </tr>\n",
       "    <tr>\n",
       "      <th>3</th>\n",
       "      <td>10196695</td>\n",
       "      <td>Angelman syndrome (AS) is a neurodevelopmental...</td>\n",
       "      <td>[neurodevelopmental disorder, contiguous gene ...</td>\n",
       "      <td>[0000707, 0001466]</td>\n",
       "      <td>[28, 839]</td>\n",
       "      <td>[55, 863]</td>\n",
       "    </tr>\n",
       "    <tr>\n",
       "      <th>4</th>\n",
       "      <td>10417280</td>\n",
       "      <td>Prader-Willi syndrome (PWS) and Angelman syndr...</td>\n",
       "      <td>[neurobehavioral disorders, de novo]</td>\n",
       "      <td>[0000708, 0003745]</td>\n",
       "      <td>[68, 223]</td>\n",
       "      <td>[93, 230]</td>\n",
       "    </tr>\n",
       "  </tbody>\n",
       "</table>\n",
       "</div>"
      ],
      "text/plain": [
       "       file                                               text  \\\n",
       "0   1003450  A syndrome of brachydactyly (absence of some m...   \n",
       "1  10051003  Townes-Brocks syndrome (TBS) is an autosomal d...   \n",
       "2  10066029  Nevoid basal cell carcinoma syndrome (NBCCS) i...   \n",
       "3  10196695  Angelman syndrome (AS) is a neurodevelopmental...   \n",
       "4  10417280  Prader-Willi syndrome (PWS) and Angelman syndr...   \n",
       "\n",
       "                                        HPO_symptoms  \\\n",
       "0  [brachydactyly, absence of some middle or dist...   \n",
       "1  [autosomal dominant disorder, autosomal domina...   \n",
       "2  [basal cell carcinoma, autosomal dominant, aut...   \n",
       "3  [neurodevelopmental disorder, contiguous gene ...   \n",
       "4               [neurobehavioral disorders, de novo]   \n",
       "\n",
       "                                           HPO_codes  \\\n",
       "0  [0001156, 0009881, 0001798, 0001792, 0100264, ...   \n",
       "1  [0000006, 0000006, 0000006, 0003828, 0003813, ...   \n",
       "2  [0002671, 0000006, 0000006, 0000006, 0000006, ...   \n",
       "3                                 [0000707, 0001466]   \n",
       "4                                 [0000708, 0003745]   \n",
       "\n",
       "                                              starts  \\\n",
       "0  [14, 29, 74, 86, 105, 120, 166, 210, 232, 346,...   \n",
       "1  [35, 35, 45, 95, 95, 139, 148, 163, 177, 186, ...   \n",
       "2  [7, 89, 89, 99, 99, 143, 143, 208, 238, 250, 2...   \n",
       "3                                          [28, 839]   \n",
       "4                                          [68, 223]   \n",
       "\n",
       "                                                ends  \n",
       "0  [27, 71, 103, 103, 118, 163, 208, 226, 253, 37...  \n",
       "1  [62, 53, 53, 114, 103, 161, 161, 175, 197, 197...  \n",
       "2  [27, 107, 113, 113, 107, 164, 151, 229, 261, 2...  \n",
       "3                                          [55, 863]  \n",
       "4                                          [93, 230]  "
      ]
     },
     "execution_count": 118,
     "metadata": {},
     "output_type": "execute_result"
    }
   ],
   "source": [
    "gsc_data.head()"
   ]
  },
  {
   "cell_type": "code",
   "execution_count": 119,
   "metadata": {},
   "outputs": [],
   "source": [
    "# Create a similar columns for NCR output and MTA output "
   ]
  },
  {
   "cell_type": "code",
   "execution_count": 47,
   "metadata": {},
   "outputs": [],
   "source": [
    "import requests\n",
    "def call_ncr(text):\n",
    "    endpoint = 'https://ncr.ccm.sickkids.ca/curr/annotate/'\n",
    "    r = requests.get(endpoint, params={'text': text})\n",
    "    if r.status_code == 200:\n",
    "        output = r.json()\n",
    "        starts = [entry['start'] for entry in output['matches']]\n",
    "        ends = [entry['end'] for entry in output['matches']]\n",
    "        names = [entry['names'][0] for entry in output['matches']] # TODO should we stick with 0?\n",
    "        hp_id = [entry['hp_id'][3:] for entry in output['matches']]\n",
    "        scores = [entry['score'] for entry in output['matches']]\n",
    "        return {\n",
    "            'NCR_start': starts,\n",
    "            'NCR_end': ends,\n",
    "            'NCR_symptoms': names,\n",
    "            'NCR_HPO_codes': hp_id,\n",
    "            'NCR_confidence_score': scores,\n",
    "        }\n",
    "    else:\n",
    "        print(r.text)\n",
    "        return {}"
   ]
  },
  {
   "cell_type": "code",
   "execution_count": 48,
   "metadata": {},
   "outputs": [],
   "source": [
    "sample_text = gsc_data.iloc[0]['text']"
   ]
  },
  {
   "cell_type": "code",
   "execution_count": 330,
   "metadata": {},
   "outputs": [],
   "source": [
    "#Function to call Biolink Entity Annotator\n",
    "def call_biolink(text):\n",
    "    endpoint = 'https://api.monarchinitiative.org/api/nlp/annotate/entities/'\n",
    "    r = requests.get(endpoint, params={'content': text})\n",
    "    if r.status_code == 200:\n",
    "        \n",
    "        output = r.json()\n",
    "        starts = []\n",
    "        ends = []\n",
    "        names = []\n",
    "        hp_id = []\n",
    "        \n",
    "        for entry in output['spans']:\n",
    "            \n",
    "            if ('HP' not in entry['token'][0]['id']):\n",
    "                continue; #Skip none HP entries\n",
    "                \n",
    "            if len(entry['token'][0]['terms'])==0:\n",
    "                continue; #Skip if entry has no terms\n",
    "                \n",
    "            starts.append(entry['start'])\n",
    "            ends.append(entry['end'])\n",
    "            names.append(entry['token'][0]['terms'][0]) \n",
    "            hp_id.append(entry['token'][0]['id'][3:])\n",
    "            \n",
    "        return {\n",
    "            'Biolink_start': starts,\n",
    "            'Biolink_end': ends,\n",
    "            'Biolink_symptoms': names,\n",
    "            'Biolink_HPO_codes': hp_id,\n",
    "        }\n",
    "    else:\n",
    "        print(r.text)\n",
    "        return {}"
   ]
  },
  {
   "cell_type": "code",
   "execution_count": 52,
   "metadata": {},
   "outputs": [
    {
     "name": "stdout",
     "output_type": "stream",
     "text": [
      "Fetched 10 rows\n",
      "Fetched 20 rows\n",
      "Fetched 30 rows\n",
      "Fetched 40 rows\n",
      "Fetched 50 rows\n",
      "Fetched 60 rows\n",
      "Fetched 70 rows\n",
      "Fetched 80 rows\n",
      "Fetched 90 rows\n",
      "Fetched 100 rows\n",
      "Fetched 110 rows\n",
      "Fetched 120 rows\n",
      "Fetched 130 rows\n",
      "Fetched 140 rows\n",
      "Fetched 150 rows\n",
      "Fetched 160 rows\n",
      "Fetched 170 rows\n",
      "Fetched 180 rows\n",
      "Fetched 190 rows\n",
      "Fetched 200 rows\n",
      "Fetched 210 rows\n",
      "Fetched 220 rows\n"
     ]
    }
   ],
   "source": [
    "import time\n",
    "ncr_rows = []\n",
    "for ind, text in enumerate(gsc_data['text']):\n",
    "    ncr_output = call_ncr(text)\n",
    "    ncr_rows.append(ncr_output)\n",
    "    if (ind + 1) % 10 == 0:\n",
    "        print('Fetched {} rows'.format(ind + 1))\n",
    "    time.sleep(1)\n",
    "ncr_df = pd.DataFrame(ncr_rows)"
   ]
  },
  {
   "cell_type": "code",
   "execution_count": 54,
   "metadata": {},
   "outputs": [
    {
     "data": {
      "text/html": [
       "<div>\n",
       "<style scoped>\n",
       "    .dataframe tbody tr th:only-of-type {\n",
       "        vertical-align: middle;\n",
       "    }\n",
       "\n",
       "    .dataframe tbody tr th {\n",
       "        vertical-align: top;\n",
       "    }\n",
       "\n",
       "    .dataframe thead th {\n",
       "        text-align: right;\n",
       "    }\n",
       "</style>\n",
       "<table border=\"1\" class=\"dataframe\">\n",
       "  <thead>\n",
       "    <tr style=\"text-align: right;\">\n",
       "      <th></th>\n",
       "      <th>NCR_start</th>\n",
       "      <th>NCR_end</th>\n",
       "      <th>NCR_symptoms</th>\n",
       "      <th>NCR_HPO_codes</th>\n",
       "      <th>NCR_confidence_score</th>\n",
       "    </tr>\n",
       "  </thead>\n",
       "  <tbody>\n",
       "    <tr>\n",
       "      <th>0</th>\n",
       "      <td>[0, 210, 74, 232, 166]</td>\n",
       "      <td>[27, 226, 103, 246, 208]</td>\n",
       "      <td>[Type A brachydactyly, Craniosynostosis, Aplas...</td>\n",
       "      <td>[0009370, 0001363, 0008386, 0001385, 0100266]</td>\n",
       "      <td>[0.854373, 0.9803171, 0.97019005, 0.9812449, 0...</td>\n",
       "    </tr>\n",
       "    <tr>\n",
       "      <th>1</th>\n",
       "      <td>[139, 163, 177, 202, 224, 246, 314, 344]</td>\n",
       "      <td>[161, 175, 197, 222, 240, 265, 333, 362]</td>\n",
       "      <td>[Abnormality of the outer ear, Hearing impairm...</td>\n",
       "      <td>[0000356, 0000365, 0100258, 0001199, 0002023, ...</td>\n",
       "      <td>[0.9629303, 0.9879309, 0.9797104, 0.9904183, 0...</td>\n",
       "    </tr>\n",
       "    <tr>\n",
       "      <th>2</th>\n",
       "      <td>[7, 704, 208, 238, 289, 330, 303, 447, 550]</td>\n",
       "      <td>[27, 716, 229, 273, 301, 357, 325, 476, 562]</td>\n",
       "      <td>[Basal cell carcinoma, Abnormality of skin pig...</td>\n",
       "      <td>[0002671, 0001000, 0002671, 0010603, 0010612, ...</td>\n",
       "      <td>[0.99626815, 0.8976064, 0.9970914, 0.98232365,...</td>\n",
       "    </tr>\n",
       "    <tr>\n",
       "      <th>3</th>\n",
       "      <td>[83, 205]</td>\n",
       "      <td>[104, 213]</td>\n",
       "      <td>[Prenatal maternal abnormality, Prenatal mater...</td>\n",
       "      <td>[0002686, 0002686]</td>\n",
       "      <td>[0.9450763, 0.93650734]</td>\n",
       "    </tr>\n",
       "    <tr>\n",
       "      <th>4</th>\n",
       "      <td>[180]</td>\n",
       "      <td>[188]</td>\n",
       "      <td>[Prenatal maternal abnormality]</td>\n",
       "      <td>[0002686]</td>\n",
       "      <td>[0.93650734]</td>\n",
       "    </tr>\n",
       "    <tr>\n",
       "      <th>5</th>\n",
       "      <td>[439, 376, 421, 504, 546, 77, 59, 138, 164, 298]</td>\n",
       "      <td>[468, 389, 434, 506, 559, 106, 72, 147, 183, 317]</td>\n",
       "      <td>[Abnormality of the seventh cranial nerve, Cho...</td>\n",
       "      <td>[0010827, 0009797, 0009797, 0500001, 0009797, ...</td>\n",
       "      <td>[0.95614415, 0.9940772, 0.9940772, 0.9919378, ...</td>\n",
       "    </tr>\n",
       "    <tr>\n",
       "      <th>6</th>\n",
       "      <td>[57, 84, 108, 124, 136, 155, 169, 268, 300, 27...</td>\n",
       "      <td>[82, 106, 119, 134, 153, 161, 186, 275, 323, 2...</td>\n",
       "      <td>[Intellectual disability, severe, Postnatal mi...</td>\n",
       "      <td>[0010864, 0005484, 0000154, 0000303, 0001344, ...</td>\n",
       "      <td>[0.99669075, 0.99157083, 0.9878103, 0.9828453,...</td>\n",
       "    </tr>\n",
       "    <tr>\n",
       "      <th>7</th>\n",
       "      <td>[0, 796, 119, 135, 191, 205, 928, 968, 1092, 1...</td>\n",
       "      <td>[17, 802, 130, 146, 201, 215, 938, 974, 1102, ...</td>\n",
       "      <td>[Neurofibromas, Neoplasm, Schwannoma, Meningio...</td>\n",
       "      <td>[0001067, 0002664, 0100008, 0002858, 0002858, ...</td>\n",
       "      <td>[0.995176, 0.98074406, 0.994758, 0.8937297, 0....</td>\n",
       "    </tr>\n",
       "    <tr>\n",
       "      <th>8</th>\n",
       "      <td>[0, 277, 265, 583, 625, 208, 219, 233, 249]</td>\n",
       "      <td>[19, 291, 272, 599, 639, 217, 231, 247, 259]</td>\n",
       "      <td>[Popliteal pterygium, Abnormality of the nail,...</td>\n",
       "      <td>[0009756, 0001597, 0000078, 0000202, 0000196, ...</td>\n",
       "      <td>[0.98863715, 0.9172121, 0.9366641, 0.9634072, ...</td>\n",
       "    </tr>\n",
       "    <tr>\n",
       "      <th>9</th>\n",
       "      <td>[136, 154, 178, 209, 1084, 312, 433, 486, 746,...</td>\n",
       "      <td>[152, 173, 191, 217, 1090, 317, 447, 505, 759,...</td>\n",
       "      <td>[Anal atresia, Triphalangeal thumb, Abnormalit...</td>\n",
       "      <td>[0002023, 0001199, 0000356, 0000365, 0001167, ...</td>\n",
       "      <td>[0.9931391, 0.9913281, 0.92845136, 0.98989284,...</td>\n",
       "    </tr>\n",
       "  </tbody>\n",
       "</table>\n",
       "</div>"
      ],
      "text/plain": [
       "                                           NCR_start  \\\n",
       "0                             [0, 210, 74, 232, 166]   \n",
       "1           [139, 163, 177, 202, 224, 246, 314, 344]   \n",
       "2        [7, 704, 208, 238, 289, 330, 303, 447, 550]   \n",
       "3                                          [83, 205]   \n",
       "4                                              [180]   \n",
       "5   [439, 376, 421, 504, 546, 77, 59, 138, 164, 298]   \n",
       "6  [57, 84, 108, 124, 136, 155, 169, 268, 300, 27...   \n",
       "7  [0, 796, 119, 135, 191, 205, 928, 968, 1092, 1...   \n",
       "8        [0, 277, 265, 583, 625, 208, 219, 233, 249]   \n",
       "9  [136, 154, 178, 209, 1084, 312, 433, 486, 746,...   \n",
       "\n",
       "                                             NCR_end  \\\n",
       "0                           [27, 226, 103, 246, 208]   \n",
       "1           [161, 175, 197, 222, 240, 265, 333, 362]   \n",
       "2       [27, 716, 229, 273, 301, 357, 325, 476, 562]   \n",
       "3                                         [104, 213]   \n",
       "4                                              [188]   \n",
       "5  [468, 389, 434, 506, 559, 106, 72, 147, 183, 317]   \n",
       "6  [82, 106, 119, 134, 153, 161, 186, 275, 323, 2...   \n",
       "7  [17, 802, 130, 146, 201, 215, 938, 974, 1102, ...   \n",
       "8       [19, 291, 272, 599, 639, 217, 231, 247, 259]   \n",
       "9  [152, 173, 191, 217, 1090, 317, 447, 505, 759,...   \n",
       "\n",
       "                                        NCR_symptoms  \\\n",
       "0  [Type A brachydactyly, Craniosynostosis, Aplas...   \n",
       "1  [Abnormality of the outer ear, Hearing impairm...   \n",
       "2  [Basal cell carcinoma, Abnormality of skin pig...   \n",
       "3  [Prenatal maternal abnormality, Prenatal mater...   \n",
       "4                    [Prenatal maternal abnormality]   \n",
       "5  [Abnormality of the seventh cranial nerve, Cho...   \n",
       "6  [Intellectual disability, severe, Postnatal mi...   \n",
       "7  [Neurofibromas, Neoplasm, Schwannoma, Meningio...   \n",
       "8  [Popliteal pterygium, Abnormality of the nail,...   \n",
       "9  [Anal atresia, Triphalangeal thumb, Abnormalit...   \n",
       "\n",
       "                                       NCR_HPO_codes  \\\n",
       "0      [0009370, 0001363, 0008386, 0001385, 0100266]   \n",
       "1  [0000356, 0000365, 0100258, 0001199, 0002023, ...   \n",
       "2  [0002671, 0001000, 0002671, 0010603, 0010612, ...   \n",
       "3                                 [0002686, 0002686]   \n",
       "4                                          [0002686]   \n",
       "5  [0010827, 0009797, 0009797, 0500001, 0009797, ...   \n",
       "6  [0010864, 0005484, 0000154, 0000303, 0001344, ...   \n",
       "7  [0001067, 0002664, 0100008, 0002858, 0002858, ...   \n",
       "8  [0009756, 0001597, 0000078, 0000202, 0000196, ...   \n",
       "9  [0002023, 0001199, 0000356, 0000365, 0001167, ...   \n",
       "\n",
       "                                NCR_confidence_score  \n",
       "0  [0.854373, 0.9803171, 0.97019005, 0.9812449, 0...  \n",
       "1  [0.9629303, 0.9879309, 0.9797104, 0.9904183, 0...  \n",
       "2  [0.99626815, 0.8976064, 0.9970914, 0.98232365,...  \n",
       "3                            [0.9450763, 0.93650734]  \n",
       "4                                       [0.93650734]  \n",
       "5  [0.95614415, 0.9940772, 0.9940772, 0.9919378, ...  \n",
       "6  [0.99669075, 0.99157083, 0.9878103, 0.9828453,...  \n",
       "7  [0.995176, 0.98074406, 0.994758, 0.8937297, 0....  \n",
       "8  [0.98863715, 0.9172121, 0.9366641, 0.9634072, ...  \n",
       "9  [0.9931391, 0.9913281, 0.92845136, 0.98989284,...  "
      ]
     },
     "execution_count": 54,
     "metadata": {},
     "output_type": "execute_result"
    }
   ],
   "source": [
    "ncr_df.head(10)"
   ]
  },
  {
   "cell_type": "code",
   "execution_count": 55,
   "metadata": {},
   "outputs": [],
   "source": [
    "ncr_df.to_csv('ncr_output.csv')"
   ]
  },
  {
   "cell_type": "code",
   "execution_count": 56,
   "metadata": {},
   "outputs": [],
   "source": [
    "# we have multisets here, how to do the overlap exactly?\n",
    "# this could be sorted by positions"
   ]
  },
  {
   "cell_type": "code",
   "execution_count": 121,
   "metadata": {},
   "outputs": [
    {
     "data": {
      "text/plain": [
       "file             int64\n",
       "text            object\n",
       "HPO_symptoms    object\n",
       "HPO_codes       object\n",
       "starts          object\n",
       "ends            object\n",
       "dtype: object"
      ]
     },
     "execution_count": 121,
     "metadata": {},
     "output_type": "execute_result"
    }
   ],
   "source": [
    "gsc_data.dtypes"
   ]
  },
  {
   "cell_type": "code",
   "execution_count": 125,
   "metadata": {},
   "outputs": [],
   "source": [
    "def jaccard_score(a, b):\n",
    "    return len(set(a).intersection(set(b))) / len(set(a).union(set(b)))"
   ]
  },
  {
   "cell_type": "code",
   "execution_count": 131,
   "metadata": {},
   "outputs": [],
   "source": [
    "from sklearn import metrics\n",
    "\n",
    "def jaccard_evaluation():\n",
    "    jaccard_scores = []\n",
    "    for i, row in ncr_df.iterrows():\n",
    "        gsc_row = gsc_data.iloc[i]\n",
    "        gsc_codes = gsc_row['HPO_codes']\n",
    "        ncr_codes = row['NCR_HPO_codes']\n",
    "        score = jaccard_score(gsc_codes, ncr_codes)\n",
    "        jaccard_scores.append(score)\n",
    "    return jaccard_scores"
   ]
  },
  {
   "cell_type": "code",
   "execution_count": 132,
   "metadata": {},
   "outputs": [],
   "source": [
    "jaccard_scores = jaccard_evaluation()"
   ]
  },
  {
   "cell_type": "code",
   "execution_count": 133,
   "metadata": {},
   "outputs": [],
   "source": [
    "ncr_df['jaccard_overlap'] = jaccard_scores"
   ]
  },
  {
   "cell_type": "code",
   "execution_count": 136,
   "metadata": {},
   "outputs": [
    {
     "data": {
      "text/plain": [
       "array([[<matplotlib.axes._subplots.AxesSubplot object at 0x0000023254C5F8C8>]],\n",
       "      dtype=object)"
      ]
     },
     "execution_count": 136,
     "metadata": {},
     "output_type": "execute_result"
    },
    {
     "data": {
      "image/png": "[encoded data removed]",
      "text/plain": [
       "<Figure size 432x288 with 1 Axes>"
      ]
     },
     "metadata": {
      "needs_background": "light"
     },
     "output_type": "display_data"
    }
   ],
   "source": [
    "ncr_df.hist('jaccard_overlap')"
   ]
  },
  {
   "cell_type": "code",
   "execution_count": 144,
   "metadata": {},
   "outputs": [
    {
     "data": {
      "text/plain": [
       "0.36920936284125916"
      ]
     },
     "execution_count": 144,
     "metadata": {},
     "output_type": "execute_result"
    }
   ],
   "source": [
    "ncr_df['jaccard_overlap'].mean()"
   ]
  },
  {
   "cell_type": "code",
   "execution_count": 146,
   "metadata": {},
   "outputs": [
    {
     "data": {
      "text/plain": [
       "['0001156',\n",
       " '0009881',\n",
       " '0001798',\n",
       " '0001792',\n",
       " '0100264',\n",
       " '0008090',\n",
       " '0009702',\n",
       " '0001363',\n",
       " '0001385',\n",
       " '0000006',\n",
       " '0000006',\n",
       " '0000006',\n",
       " '0000006']"
      ]
     },
     "execution_count": 146,
     "metadata": {},
     "output_type": "execute_result"
    }
   ],
   "source": [
    "gsc_data.iloc[0]['HPO_codes']"
   ]
  },
  {
   "cell_type": "code",
   "execution_count": 147,
   "metadata": {},
   "outputs": [
    {
     "data": {
      "text/plain": [
       "['0009370', '0001363', '0008386', '0001385', '0100266']"
      ]
     },
     "execution_count": 147,
     "metadata": {},
     "output_type": "execute_result"
    }
   ],
   "source": [
    "ncr_df.iloc[0]['NCR_HPO_codes']"
   ]
  },
  {
   "cell_type": "code",
   "execution_count": 139,
   "metadata": {},
   "outputs": [
    {
     "data": {
      "text/html": [
       "<div>\n",
       "<style scoped>\n",
       "    .dataframe tbody tr th:only-of-type {\n",
       "        vertical-align: middle;\n",
       "    }\n",
       "\n",
       "    .dataframe tbody tr th {\n",
       "        vertical-align: top;\n",
       "    }\n",
       "\n",
       "    .dataframe thead th {\n",
       "        text-align: right;\n",
       "    }\n",
       "</style>\n",
       "<table border=\"1\" class=\"dataframe\">\n",
       "  <thead>\n",
       "    <tr style=\"text-align: right;\">\n",
       "      <th></th>\n",
       "      <th>NCR_start</th>\n",
       "      <th>NCR_end</th>\n",
       "      <th>NCR_symptoms</th>\n",
       "      <th>NCR_HPO_codes</th>\n",
       "      <th>NCR_confidence_score</th>\n",
       "      <th>jaccard_overlap</th>\n",
       "    </tr>\n",
       "  </thead>\n",
       "  <tbody>\n",
       "    <tr>\n",
       "      <th>0</th>\n",
       "      <td>[0, 210, 74, 232, 166]</td>\n",
       "      <td>[27, 226, 103, 246, 208]</td>\n",
       "      <td>[Type A brachydactyly, Craniosynostosis, Aplas...</td>\n",
       "      <td>[0009370, 0001363, 0008386, 0001385, 0100266]</td>\n",
       "      <td>[0.854373, 0.9803171, 0.97019005, 0.9812449, 0...</td>\n",
       "      <td>0.153846</td>\n",
       "    </tr>\n",
       "    <tr>\n",
       "      <th>1</th>\n",
       "      <td>[139, 163, 177, 202, 224, 246, 314, 344]</td>\n",
       "      <td>[161, 175, 197, 222, 240, 265, 333, 362]</td>\n",
       "      <td>[Abnormality of the outer ear, Hearing impairm...</td>\n",
       "      <td>[0000356, 0000365, 0100258, 0001199, 0002023, ...</td>\n",
       "      <td>[0.9629303, 0.9879309, 0.9797104, 0.9904183, 0...</td>\n",
       "      <td>0.357143</td>\n",
       "    </tr>\n",
       "    <tr>\n",
       "      <th>2</th>\n",
       "      <td>[7, 704, 208, 238, 289, 330, 303, 447, 550]</td>\n",
       "      <td>[27, 716, 229, 273, 301, 357, 325, 476, 562]</td>\n",
       "      <td>[Basal cell carcinoma, Abnormality of skin pig...</td>\n",
       "      <td>[0002671, 0001000, 0002671, 0010603, 0010612, ...</td>\n",
       "      <td>[0.99626815, 0.8976064, 0.9970914, 0.98232365,...</td>\n",
       "      <td>0.500000</td>\n",
       "    </tr>\n",
       "    <tr>\n",
       "      <th>3</th>\n",
       "      <td>[83, 205]</td>\n",
       "      <td>[104, 213]</td>\n",
       "      <td>[Prenatal maternal abnormality, Prenatal mater...</td>\n",
       "      <td>[0002686, 0002686]</td>\n",
       "      <td>[0.9450763, 0.93650734]</td>\n",
       "      <td>0.000000</td>\n",
       "    </tr>\n",
       "    <tr>\n",
       "      <th>4</th>\n",
       "      <td>[180]</td>\n",
       "      <td>[188]</td>\n",
       "      <td>[Prenatal maternal abnormality]</td>\n",
       "      <td>[0002686]</td>\n",
       "      <td>[0.93650734]</td>\n",
       "      <td>0.000000</td>\n",
       "    </tr>\n",
       "    <tr>\n",
       "      <th>...</th>\n",
       "      <td>...</td>\n",
       "      <td>...</td>\n",
       "      <td>...</td>\n",
       "      <td>...</td>\n",
       "      <td>...</td>\n",
       "      <td>...</td>\n",
       "    </tr>\n",
       "    <tr>\n",
       "      <th>223</th>\n",
       "      <td>[46, 670, 699, 686]</td>\n",
       "      <td>[56, 681, 709, 693]</td>\n",
       "      <td>[Overgrowth, Polyphagia, Overgrowth, Obesity]</td>\n",
       "      <td>[0001548, 0002591, 0001548, 0001513]</td>\n",
       "      <td>[0.99701005, 0.9962139, 0.99701005, 0.98880225]</td>\n",
       "      <td>1.000000</td>\n",
       "    </tr>\n",
       "    <tr>\n",
       "      <th>224</th>\n",
       "      <td>[26, 120, 548, 226, 971, 810, 872, 469, 311, 394]</td>\n",
       "      <td>[59, 137, 554, 233, 1003, 816, 879, 476, 344, ...</td>\n",
       "      <td>[Unilateral vestibular Schwannoma, Neurofibrom...</td>\n",
       "      <td>[0009590, 0001067, 0002664, 0002664, 0009590, ...</td>\n",
       "      <td>[0.8733457, 0.995176, 0.98074406, 0.96545285, ...</td>\n",
       "      <td>0.181818</td>\n",
       "    </tr>\n",
       "    <tr>\n",
       "      <th>225</th>\n",
       "      <td>[97, 705, 734, 158, 184, 286, 239, 953, 866, 809]</td>\n",
       "      <td>[117, 726, 750, 179, 200, 295, 245, 960, 886, ...</td>\n",
       "      <td>[Basal cell carcinoma, Basal cell carcinoma, M...</td>\n",
       "      <td>[0002671, 0002671, 0002885, 0002671, 0002885, ...</td>\n",
       "      <td>[0.99626815, 0.9970914, 0.8956474, 0.9970914, ...</td>\n",
       "      <td>0.600000</td>\n",
       "    </tr>\n",
       "    <tr>\n",
       "      <th>226</th>\n",
       "      <td>[]</td>\n",
       "      <td>[]</td>\n",
       "      <td>[]</td>\n",
       "      <td>[]</td>\n",
       "      <td>[]</td>\n",
       "      <td>0.000000</td>\n",
       "    </tr>\n",
       "    <tr>\n",
       "      <th>227</th>\n",
       "      <td>[48, 139, 98, 239, 222, 190, 298, 343, 428, 48...</td>\n",
       "      <td>[65, 156, 106, 253, 235, 196, 310, 348, 445, 5...</td>\n",
       "      <td>[Preauricular pit, Preauricular pit, Hearing i...</td>\n",
       "      <td>[0004467, 0004467, 0000365, 0000104, 0002009, ...</td>\n",
       "      <td>[0.9901764, 0.9901764, 0.98989284, 0.9822874, ...</td>\n",
       "      <td>0.538462</td>\n",
       "    </tr>\n",
       "  </tbody>\n",
       "</table>\n",
       "<p>228 rows × 6 columns</p>\n",
       "</div>"
      ],
      "text/plain": [
       "                                             NCR_start  \\\n",
       "0                               [0, 210, 74, 232, 166]   \n",
       "1             [139, 163, 177, 202, 224, 246, 314, 344]   \n",
       "2          [7, 704, 208, 238, 289, 330, 303, 447, 550]   \n",
       "3                                            [83, 205]   \n",
       "4                                                [180]   \n",
       "..                                                 ...   \n",
       "223                                [46, 670, 699, 686]   \n",
       "224  [26, 120, 548, 226, 971, 810, 872, 469, 311, 394]   \n",
       "225  [97, 705, 734, 158, 184, 286, 239, 953, 866, 809]   \n",
       "226                                                 []   \n",
       "227  [48, 139, 98, 239, 222, 190, 298, 343, 428, 48...   \n",
       "\n",
       "                                               NCR_end  \\\n",
       "0                             [27, 226, 103, 246, 208]   \n",
       "1             [161, 175, 197, 222, 240, 265, 333, 362]   \n",
       "2         [27, 716, 229, 273, 301, 357, 325, 476, 562]   \n",
       "3                                           [104, 213]   \n",
       "4                                                [188]   \n",
       "..                                                 ...   \n",
       "223                                [56, 681, 709, 693]   \n",
       "224  [59, 137, 554, 233, 1003, 816, 879, 476, 344, ...   \n",
       "225  [117, 726, 750, 179, 200, 295, 245, 960, 886, ...   \n",
       "226                                                 []   \n",
       "227  [65, 156, 106, 253, 235, 196, 310, 348, 445, 5...   \n",
       "\n",
       "                                          NCR_symptoms  \\\n",
       "0    [Type A brachydactyly, Craniosynostosis, Aplas...   \n",
       "1    [Abnormality of the outer ear, Hearing impairm...   \n",
       "2    [Basal cell carcinoma, Abnormality of skin pig...   \n",
       "3    [Prenatal maternal abnormality, Prenatal mater...   \n",
       "4                      [Prenatal maternal abnormality]   \n",
       "..                                                 ...   \n",
       "223      [Overgrowth, Polyphagia, Overgrowth, Obesity]   \n",
       "224  [Unilateral vestibular Schwannoma, Neurofibrom...   \n",
       "225  [Basal cell carcinoma, Basal cell carcinoma, M...   \n",
       "226                                                 []   \n",
       "227  [Preauricular pit, Preauricular pit, Hearing i...   \n",
       "\n",
       "                                         NCR_HPO_codes  \\\n",
       "0        [0009370, 0001363, 0008386, 0001385, 0100266]   \n",
       "1    [0000356, 0000365, 0100258, 0001199, 0002023, ...   \n",
       "2    [0002671, 0001000, 0002671, 0010603, 0010612, ...   \n",
       "3                                   [0002686, 0002686]   \n",
       "4                                            [0002686]   \n",
       "..                                                 ...   \n",
       "223               [0001548, 0002591, 0001548, 0001513]   \n",
       "224  [0009590, 0001067, 0002664, 0002664, 0009590, ...   \n",
       "225  [0002671, 0002671, 0002885, 0002671, 0002885, ...   \n",
       "226                                                 []   \n",
       "227  [0004467, 0004467, 0000365, 0000104, 0002009, ...   \n",
       "\n",
       "                                  NCR_confidence_score  jaccard_overlap  \n",
       "0    [0.854373, 0.9803171, 0.97019005, 0.9812449, 0...         0.153846  \n",
       "1    [0.9629303, 0.9879309, 0.9797104, 0.9904183, 0...         0.357143  \n",
       "2    [0.99626815, 0.8976064, 0.9970914, 0.98232365,...         0.500000  \n",
       "3                              [0.9450763, 0.93650734]         0.000000  \n",
       "4                                         [0.93650734]         0.000000  \n",
       "..                                                 ...              ...  \n",
       "223    [0.99701005, 0.9962139, 0.99701005, 0.98880225]         1.000000  \n",
       "224  [0.8733457, 0.995176, 0.98074406, 0.96545285, ...         0.181818  \n",
       "225  [0.99626815, 0.9970914, 0.8956474, 0.9970914, ...         0.600000  \n",
       "226                                                 []         0.000000  \n",
       "227  [0.9901764, 0.9901764, 0.98989284, 0.9822874, ...         0.538462  \n",
       "\n",
       "[228 rows x 6 columns]"
      ]
     },
     "execution_count": 139,
     "metadata": {},
     "output_type": "execute_result"
    }
   ],
   "source": [
    "ncr_df"
   ]
  },
  {
   "cell_type": "markdown",
   "metadata": {},
   "source": [
    "Slides\n",
    "* answer the question which algorithm is better on average\n",
    "* how often one is better than the other and vice versa\n",
    "* when the one is better than the other? (try to find some categories)\n",
    "* how many HPO we have here\n",
    "* report metrics for both algorithms\n",
    "* briefly describe the work done\n",
    "* briefly describe the data"
   ]
  },
  {
   "cell_type": "markdown",
   "metadata": {},
   "source": [
    "Tasks for now\n",
    "* pull the CliPhen and Text Analytics data\n",
    "* double check we're doing it right and aggregate the results\n",
    "* what to do with the negated????\n",
    "* filter out non-symptoms (from where)\n",
    "* calculate jaccard over that\n",
    "* run the BioLink similiarity\n",
    "* compare and visualize the results"
   ]
  },
  {
   "cell_type": "markdown",
   "metadata": {},
   "source": [
    "### Text Analytics for Health"
   ]
  },
  {
   "cell_type": "code",
   "execution_count": 152,
   "metadata": {},
   "outputs": [],
   "source": [
    "ta_health_df = pd.read_csv('TAforHealth_results.csv', \n",
    "                           converters={'offset_list': eval, 'length_list': eval,\n",
    "                                       'text_list': eval, 'score_list': eval,\n",
    "                                      'isNegated_list': eval, 'HPO_codes': eval})"
   ]
  },
  {
   "cell_type": "code",
   "execution_count": 153,
   "metadata": {},
   "outputs": [
    {
     "data": {
      "text/html": [
       "<div>\n",
       "<style scoped>\n",
       "    .dataframe tbody tr th:only-of-type {\n",
       "        vertical-align: middle;\n",
       "    }\n",
       "\n",
       "    .dataframe tbody tr th {\n",
       "        vertical-align: top;\n",
       "    }\n",
       "\n",
       "    .dataframe thead th {\n",
       "        text-align: right;\n",
       "    }\n",
       "</style>\n",
       "<table border=\"1\" class=\"dataframe\">\n",
       "  <thead>\n",
       "    <tr style=\"text-align: right;\">\n",
       "      <th></th>\n",
       "      <th>file</th>\n",
       "      <th>offset_list</th>\n",
       "      <th>length_list</th>\n",
       "      <th>text_list</th>\n",
       "      <th>score_list</th>\n",
       "      <th>isNegated_list</th>\n",
       "      <th>HPO_codes</th>\n",
       "    </tr>\n",
       "  </thead>\n",
       "  <tbody>\n",
       "    <tr>\n",
       "      <th>0</th>\n",
       "      <td>1003450</td>\n",
       "      <td>[14, 86, 105, 210]</td>\n",
       "      <td>[13, 17, 13, 16]</td>\n",
       "      <td>[brachydactyly, hypoplastic nails, symphalangi...</td>\n",
       "      <td>[0.89, 0.67, 0.94, 0.99]</td>\n",
       "      <td>[False, True, True, True]</td>\n",
       "      <td>[0001156, 0001792, 0001159, 0001363]</td>\n",
       "    </tr>\n",
       "    <tr>\n",
       "      <th>1</th>\n",
       "      <td>10051003</td>\n",
       "      <td>[177, 202, 224, 246, 344]</td>\n",
       "      <td>[20, 20, 16, 19, 18]</td>\n",
       "      <td>[preaxial polydactyly, triphalangeal thumbs, i...</td>\n",
       "      <td>[0.89, 0.84, 0.76, 0.94, 0.97]</td>\n",
       "      <td>[False, False, False, False, False]</td>\n",
       "      <td>[0100258, 0001199, 0002023, 0012210, 0001249]</td>\n",
       "    </tr>\n",
       "    <tr>\n",
       "      <th>2</th>\n",
       "      <td>10066029</td>\n",
       "      <td>[208, 231, 238, 289, 303, 330, 447, 534, 550, ...</td>\n",
       "      <td>[21, 4, 35, 12, 22, 27, 29, 4, 12, 4]</td>\n",
       "      <td>[basal cell carcinomas, BCCs, odontogenic kera...</td>\n",
       "      <td>[0.99, 0.99, 0.9, 0.62, 1.0, 0.65, 0.68, 0.99,...</td>\n",
       "      <td>[False, False, False, False, False, False, Fal...</td>\n",
       "      <td>[0002671, 0002671, 0010603, 0010612, 0000924, ...</td>\n",
       "    </tr>\n",
       "    <tr>\n",
       "      <th>3</th>\n",
       "      <td>10196695</td>\n",
       "      <td>[277, 297, 839]</td>\n",
       "      <td>[18, 3, 24]</td>\n",
       "      <td>[uniparental disomy, UPD, contiguous gene synd...</td>\n",
       "      <td>[0.99, 0.99, 0.99]</td>\n",
       "      <td>[False, False, False]</td>\n",
       "      <td>[0032382, 0032382, 0001466]</td>\n",
       "    </tr>\n",
       "    <tr>\n",
       "      <th>4</th>\n",
       "      <td>10417280</td>\n",
       "      <td>[]</td>\n",
       "      <td>[]</td>\n",
       "      <td>[]</td>\n",
       "      <td>[]</td>\n",
       "      <td>[]</td>\n",
       "      <td>[]</td>\n",
       "    </tr>\n",
       "  </tbody>\n",
       "</table>\n",
       "</div>"
      ],
      "text/plain": [
       "       file                                        offset_list  \\\n",
       "0   1003450                                 [14, 86, 105, 210]   \n",
       "1  10051003                          [177, 202, 224, 246, 344]   \n",
       "2  10066029  [208, 231, 238, 289, 303, 330, 447, 534, 550, ...   \n",
       "3  10196695                                    [277, 297, 839]   \n",
       "4  10417280                                                 []   \n",
       "\n",
       "                             length_list  \\\n",
       "0                       [13, 17, 13, 16]   \n",
       "1                   [20, 20, 16, 19, 18]   \n",
       "2  [21, 4, 35, 12, 22, 27, 29, 4, 12, 4]   \n",
       "3                            [18, 3, 24]   \n",
       "4                                     []   \n",
       "\n",
       "                                           text_list  \\\n",
       "0  [brachydactyly, hypoplastic nails, symphalangi...   \n",
       "1  [preaxial polydactyly, triphalangeal thumbs, i...   \n",
       "2  [basal cell carcinomas, BCCs, odontogenic kera...   \n",
       "3  [uniparental disomy, UPD, contiguous gene synd...   \n",
       "4                                                 []   \n",
       "\n",
       "                                          score_list  \\\n",
       "0                           [0.89, 0.67, 0.94, 0.99]   \n",
       "1                     [0.89, 0.84, 0.76, 0.94, 0.97]   \n",
       "2  [0.99, 0.99, 0.9, 0.62, 1.0, 0.65, 0.68, 0.99,...   \n",
       "3                                 [0.99, 0.99, 0.99]   \n",
       "4                                                 []   \n",
       "\n",
       "                                      isNegated_list  \\\n",
       "0                          [False, True, True, True]   \n",
       "1                [False, False, False, False, False]   \n",
       "2  [False, False, False, False, False, False, Fal...   \n",
       "3                              [False, False, False]   \n",
       "4                                                 []   \n",
       "\n",
       "                                           HPO_codes  \n",
       "0               [0001156, 0001792, 0001159, 0001363]  \n",
       "1      [0100258, 0001199, 0002023, 0012210, 0001249]  \n",
       "2  [0002671, 0002671, 0010603, 0010612, 0000924, ...  \n",
       "3                        [0032382, 0032382, 0001466]  \n",
       "4                                                 []  "
      ]
     },
     "execution_count": 153,
     "metadata": {},
     "output_type": "execute_result"
    }
   ],
   "source": [
    "ta_health_df.head()"
   ]
  },
  {
   "cell_type": "code",
   "execution_count": 154,
   "metadata": {},
   "outputs": [
    {
     "data": {
      "text/plain": [
       "(228, 7)"
      ]
     },
     "execution_count": 154,
     "metadata": {},
     "output_type": "execute_result"
    }
   ],
   "source": [
    "ta_health_df.shape"
   ]
  },
  {
   "cell_type": "code",
   "execution_count": 156,
   "metadata": {},
   "outputs": [],
   "source": [
    "ta_health_jaccard_scores = []\n",
    "for i, row in ta_health_df.iterrows():\n",
    "    gsc_row = gsc_data.iloc[i]\n",
    "    gsc_codes = gsc_row['HPO_codes']\n",
    "    ta_health_codes = row['HPO_codes']\n",
    "    score = jaccard_score(gsc_codes, ta_health_codes)\n",
    "    ta_health_jaccard_scores.append(score)"
   ]
  },
  {
   "cell_type": "code",
   "execution_count": 166,
   "metadata": {},
   "outputs": [
    {
     "data": {
      "text/plain": [
       "[0.2727272727272727,\n",
       " 0.21428571428571427,\n",
       " 0.5454545454545454,\n",
       " 0.3333333333333333,\n",
       " 0.0,\n",
       " 0.14285714285714285,\n",
       " 0.26666666666666666,\n",
       " 0.4,\n",
       " 0.23076923076923078,\n",
       " 0.30434782608695654]"
      ]
     },
     "execution_count": 166,
     "metadata": {},
     "output_type": "execute_result"
    }
   ],
   "source": [
    "ta_health_jaccard_scores[:10]"
   ]
  },
  {
   "cell_type": "code",
   "execution_count": 158,
   "metadata": {},
   "outputs": [],
   "source": [
    "ta_health_df['jaccard_score'] = ta_health_jaccard_scores"
   ]
  },
  {
   "cell_type": "code",
   "execution_count": 159,
   "metadata": {},
   "outputs": [
    {
     "data": {
      "text/html": [
       "<div>\n",
       "<style scoped>\n",
       "    .dataframe tbody tr th:only-of-type {\n",
       "        vertical-align: middle;\n",
       "    }\n",
       "\n",
       "    .dataframe tbody tr th {\n",
       "        vertical-align: top;\n",
       "    }\n",
       "\n",
       "    .dataframe thead th {\n",
       "        text-align: right;\n",
       "    }\n",
       "</style>\n",
       "<table border=\"1\" class=\"dataframe\">\n",
       "  <thead>\n",
       "    <tr style=\"text-align: right;\">\n",
       "      <th></th>\n",
       "      <th>file</th>\n",
       "      <th>offset_list</th>\n",
       "      <th>length_list</th>\n",
       "      <th>text_list</th>\n",
       "      <th>score_list</th>\n",
       "      <th>isNegated_list</th>\n",
       "      <th>HPO_codes</th>\n",
       "      <th>jaccard_score</th>\n",
       "    </tr>\n",
       "  </thead>\n",
       "  <tbody>\n",
       "    <tr>\n",
       "      <th>0</th>\n",
       "      <td>1003450</td>\n",
       "      <td>[14, 86, 105, 210]</td>\n",
       "      <td>[13, 17, 13, 16]</td>\n",
       "      <td>[brachydactyly, hypoplastic nails, symphalangi...</td>\n",
       "      <td>[0.89, 0.67, 0.94, 0.99]</td>\n",
       "      <td>[False, True, True, True]</td>\n",
       "      <td>[0001156, 0001792, 0001159, 0001363]</td>\n",
       "      <td>0.272727</td>\n",
       "    </tr>\n",
       "    <tr>\n",
       "      <th>1</th>\n",
       "      <td>10051003</td>\n",
       "      <td>[177, 202, 224, 246, 344]</td>\n",
       "      <td>[20, 20, 16, 19, 18]</td>\n",
       "      <td>[preaxial polydactyly, triphalangeal thumbs, i...</td>\n",
       "      <td>[0.89, 0.84, 0.76, 0.94, 0.97]</td>\n",
       "      <td>[False, False, False, False, False]</td>\n",
       "      <td>[0100258, 0001199, 0002023, 0012210, 0001249]</td>\n",
       "      <td>0.214286</td>\n",
       "    </tr>\n",
       "    <tr>\n",
       "      <th>2</th>\n",
       "      <td>10066029</td>\n",
       "      <td>[208, 231, 238, 289, 303, 330, 447, 534, 550, ...</td>\n",
       "      <td>[21, 4, 35, 12, 22, 27, 29, 4, 12, 4]</td>\n",
       "      <td>[basal cell carcinomas, BCCs, odontogenic kera...</td>\n",
       "      <td>[0.99, 0.99, 0.9, 0.62, 1.0, 0.65, 0.68, 0.99,...</td>\n",
       "      <td>[False, False, False, False, False, False, Fal...</td>\n",
       "      <td>[0002671, 0002671, 0010603, 0010612, 0000924, ...</td>\n",
       "      <td>0.545455</td>\n",
       "    </tr>\n",
       "    <tr>\n",
       "      <th>3</th>\n",
       "      <td>10196695</td>\n",
       "      <td>[277, 297, 839]</td>\n",
       "      <td>[18, 3, 24]</td>\n",
       "      <td>[uniparental disomy, UPD, contiguous gene synd...</td>\n",
       "      <td>[0.99, 0.99, 0.99]</td>\n",
       "      <td>[False, False, False]</td>\n",
       "      <td>[0032382, 0032382, 0001466]</td>\n",
       "      <td>0.333333</td>\n",
       "    </tr>\n",
       "    <tr>\n",
       "      <th>4</th>\n",
       "      <td>10417280</td>\n",
       "      <td>[]</td>\n",
       "      <td>[]</td>\n",
       "      <td>[]</td>\n",
       "      <td>[]</td>\n",
       "      <td>[]</td>\n",
       "      <td>[]</td>\n",
       "      <td>0.000000</td>\n",
       "    </tr>\n",
       "  </tbody>\n",
       "</table>\n",
       "</div>"
      ],
      "text/plain": [
       "       file                                        offset_list  \\\n",
       "0   1003450                                 [14, 86, 105, 210]   \n",
       "1  10051003                          [177, 202, 224, 246, 344]   \n",
       "2  10066029  [208, 231, 238, 289, 303, 330, 447, 534, 550, ...   \n",
       "3  10196695                                    [277, 297, 839]   \n",
       "4  10417280                                                 []   \n",
       "\n",
       "                             length_list  \\\n",
       "0                       [13, 17, 13, 16]   \n",
       "1                   [20, 20, 16, 19, 18]   \n",
       "2  [21, 4, 35, 12, 22, 27, 29, 4, 12, 4]   \n",
       "3                            [18, 3, 24]   \n",
       "4                                     []   \n",
       "\n",
       "                                           text_list  \\\n",
       "0  [brachydactyly, hypoplastic nails, symphalangi...   \n",
       "1  [preaxial polydactyly, triphalangeal thumbs, i...   \n",
       "2  [basal cell carcinomas, BCCs, odontogenic kera...   \n",
       "3  [uniparental disomy, UPD, contiguous gene synd...   \n",
       "4                                                 []   \n",
       "\n",
       "                                          score_list  \\\n",
       "0                           [0.89, 0.67, 0.94, 0.99]   \n",
       "1                     [0.89, 0.84, 0.76, 0.94, 0.97]   \n",
       "2  [0.99, 0.99, 0.9, 0.62, 1.0, 0.65, 0.68, 0.99,...   \n",
       "3                                 [0.99, 0.99, 0.99]   \n",
       "4                                                 []   \n",
       "\n",
       "                                      isNegated_list  \\\n",
       "0                          [False, True, True, True]   \n",
       "1                [False, False, False, False, False]   \n",
       "2  [False, False, False, False, False, False, Fal...   \n",
       "3                              [False, False, False]   \n",
       "4                                                 []   \n",
       "\n",
       "                                           HPO_codes  jaccard_score  \n",
       "0               [0001156, 0001792, 0001159, 0001363]       0.272727  \n",
       "1      [0100258, 0001199, 0002023, 0012210, 0001249]       0.214286  \n",
       "2  [0002671, 0002671, 0010603, 0010612, 0000924, ...       0.545455  \n",
       "3                        [0032382, 0032382, 0001466]       0.333333  \n",
       "4                                                 []       0.000000  "
      ]
     },
     "execution_count": 159,
     "metadata": {},
     "output_type": "execute_result"
    }
   ],
   "source": [
    "ta_health_df.head()"
   ]
  },
  {
   "cell_type": "code",
   "execution_count": 160,
   "metadata": {},
   "outputs": [
    {
     "data": {
      "text/html": [
       "<div>\n",
       "<style scoped>\n",
       "    .dataframe tbody tr th:only-of-type {\n",
       "        vertical-align: middle;\n",
       "    }\n",
       "\n",
       "    .dataframe tbody tr th {\n",
       "        vertical-align: top;\n",
       "    }\n",
       "\n",
       "    .dataframe thead th {\n",
       "        text-align: right;\n",
       "    }\n",
       "</style>\n",
       "<table border=\"1\" class=\"dataframe\">\n",
       "  <thead>\n",
       "    <tr style=\"text-align: right;\">\n",
       "      <th></th>\n",
       "      <th>NCR_start</th>\n",
       "      <th>NCR_end</th>\n",
       "      <th>NCR_symptoms</th>\n",
       "      <th>NCR_HPO_codes</th>\n",
       "      <th>NCR_confidence_score</th>\n",
       "      <th>jaccard_overlap</th>\n",
       "    </tr>\n",
       "  </thead>\n",
       "  <tbody>\n",
       "    <tr>\n",
       "      <th>0</th>\n",
       "      <td>[0, 210, 74, 232, 166]</td>\n",
       "      <td>[27, 226, 103, 246, 208]</td>\n",
       "      <td>[Type A brachydactyly, Craniosynostosis, Aplas...</td>\n",
       "      <td>[0009370, 0001363, 0008386, 0001385, 0100266]</td>\n",
       "      <td>[0.854373, 0.9803171, 0.97019005, 0.9812449, 0...</td>\n",
       "      <td>0.153846</td>\n",
       "    </tr>\n",
       "    <tr>\n",
       "      <th>1</th>\n",
       "      <td>[139, 163, 177, 202, 224, 246, 314, 344]</td>\n",
       "      <td>[161, 175, 197, 222, 240, 265, 333, 362]</td>\n",
       "      <td>[Abnormality of the outer ear, Hearing impairm...</td>\n",
       "      <td>[0000356, 0000365, 0100258, 0001199, 0002023, ...</td>\n",
       "      <td>[0.9629303, 0.9879309, 0.9797104, 0.9904183, 0...</td>\n",
       "      <td>0.357143</td>\n",
       "    </tr>\n",
       "    <tr>\n",
       "      <th>2</th>\n",
       "      <td>[7, 704, 208, 238, 289, 330, 303, 447, 550]</td>\n",
       "      <td>[27, 716, 229, 273, 301, 357, 325, 476, 562]</td>\n",
       "      <td>[Basal cell carcinoma, Abnormality of skin pig...</td>\n",
       "      <td>[0002671, 0001000, 0002671, 0010603, 0010612, ...</td>\n",
       "      <td>[0.99626815, 0.8976064, 0.9970914, 0.98232365,...</td>\n",
       "      <td>0.500000</td>\n",
       "    </tr>\n",
       "    <tr>\n",
       "      <th>3</th>\n",
       "      <td>[83, 205]</td>\n",
       "      <td>[104, 213]</td>\n",
       "      <td>[Prenatal maternal abnormality, Prenatal mater...</td>\n",
       "      <td>[0002686, 0002686]</td>\n",
       "      <td>[0.9450763, 0.93650734]</td>\n",
       "      <td>0.000000</td>\n",
       "    </tr>\n",
       "    <tr>\n",
       "      <th>4</th>\n",
       "      <td>[180]</td>\n",
       "      <td>[188]</td>\n",
       "      <td>[Prenatal maternal abnormality]</td>\n",
       "      <td>[0002686]</td>\n",
       "      <td>[0.93650734]</td>\n",
       "      <td>0.000000</td>\n",
       "    </tr>\n",
       "  </tbody>\n",
       "</table>\n",
       "</div>"
      ],
      "text/plain": [
       "                                     NCR_start  \\\n",
       "0                       [0, 210, 74, 232, 166]   \n",
       "1     [139, 163, 177, 202, 224, 246, 314, 344]   \n",
       "2  [7, 704, 208, 238, 289, 330, 303, 447, 550]   \n",
       "3                                    [83, 205]   \n",
       "4                                        [180]   \n",
       "\n",
       "                                        NCR_end  \\\n",
       "0                      [27, 226, 103, 246, 208]   \n",
       "1      [161, 175, 197, 222, 240, 265, 333, 362]   \n",
       "2  [27, 716, 229, 273, 301, 357, 325, 476, 562]   \n",
       "3                                    [104, 213]   \n",
       "4                                         [188]   \n",
       "\n",
       "                                        NCR_symptoms  \\\n",
       "0  [Type A brachydactyly, Craniosynostosis, Aplas...   \n",
       "1  [Abnormality of the outer ear, Hearing impairm...   \n",
       "2  [Basal cell carcinoma, Abnormality of skin pig...   \n",
       "3  [Prenatal maternal abnormality, Prenatal mater...   \n",
       "4                    [Prenatal maternal abnormality]   \n",
       "\n",
       "                                       NCR_HPO_codes  \\\n",
       "0      [0009370, 0001363, 0008386, 0001385, 0100266]   \n",
       "1  [0000356, 0000365, 0100258, 0001199, 0002023, ...   \n",
       "2  [0002671, 0001000, 0002671, 0010603, 0010612, ...   \n",
       "3                                 [0002686, 0002686]   \n",
       "4                                          [0002686]   \n",
       "\n",
       "                                NCR_confidence_score  jaccard_overlap  \n",
       "0  [0.854373, 0.9803171, 0.97019005, 0.9812449, 0...         0.153846  \n",
       "1  [0.9629303, 0.9879309, 0.9797104, 0.9904183, 0...         0.357143  \n",
       "2  [0.99626815, 0.8976064, 0.9970914, 0.98232365,...         0.500000  \n",
       "3                            [0.9450763, 0.93650734]         0.000000  \n",
       "4                                       [0.93650734]         0.000000  "
      ]
     },
     "execution_count": 160,
     "metadata": {},
     "output_type": "execute_result"
    }
   ],
   "source": [
    "ncr_df.head()"
   ]
  },
  {
   "cell_type": "code",
   "execution_count": 161,
   "metadata": {},
   "outputs": [
    {
     "data": {
      "text/plain": [
       "0.30369589038727574"
      ]
     },
     "execution_count": 161,
     "metadata": {},
     "output_type": "execute_result"
    }
   ],
   "source": [
    "ta_health_df['jaccard_score'].mean()"
   ]
  },
  {
   "cell_type": "code",
   "execution_count": 162,
   "metadata": {},
   "outputs": [
    {
     "data": {
      "text/plain": [
       "0.36920936284125916"
      ]
     },
     "execution_count": 162,
     "metadata": {},
     "output_type": "execute_result"
    }
   ],
   "source": [
    "ncr_df['jaccard_overlap'].mean()"
   ]
  },
  {
   "cell_type": "markdown",
   "metadata": {},
   "source": [
    "### ClinPhen"
   ]
  },
  {
   "cell_type": "code",
   "execution_count": 221,
   "metadata": {},
   "outputs": [],
   "source": [
    "clinphen_df = pd.read_csv('ClinPhen_Output2.csv', converters={'HPO ID': eval})"
   ]
  },
  {
   "cell_type": "code",
   "execution_count": 222,
   "metadata": {},
   "outputs": [
    {
     "data": {
      "text/plain": [
       "0      [HP:0001792, HP:0001156, HP:0001798, HP:000970...\n",
       "1      [HP:0000356, HP:0000598, HP:0010442, HP:000036...\n",
       "2      [HP:0010612, HP:0002671, HP:0030731, HP:001061...\n",
       "3                                                     []\n",
       "4                                                     []\n",
       "                             ...                        \n",
       "223                 [HP:0001548, HP:0001513, HP:0002591]\n",
       "224    [HP:0100008, HP:0002664, HP:0009588, HP:000959...\n",
       "225     [HP:0002671, HP:0030731, HP:0002885, HP:0002664]\n",
       "226                                                   []\n",
       "227    [HP:0004467, HP:0000104, HP:0000365, HP:000200...\n",
       "Name: HPO ID, Length: 228, dtype: object"
      ]
     },
     "execution_count": 222,
     "metadata": {},
     "output_type": "execute_result"
    }
   ],
   "source": [
    "clinphen_df['HPO ID']"
   ]
  },
  {
   "cell_type": "code",
   "execution_count": 223,
   "metadata": {},
   "outputs": [
    {
     "data": {
      "text/plain": [
       "(228, 7)"
      ]
     },
     "execution_count": 223,
     "metadata": {},
     "output_type": "execute_result"
    }
   ],
   "source": [
    "clinphen_df.shape"
   ]
  },
  {
   "cell_type": "code",
   "execution_count": 224,
   "metadata": {},
   "outputs": [
    {
     "data": {
      "text/plain": [
       "(228, 6)"
      ]
     },
     "execution_count": 224,
     "metadata": {},
     "output_type": "execute_result"
    }
   ],
   "source": [
    "gsc_data.shape"
   ]
  },
  {
   "cell_type": "code",
   "execution_count": 225,
   "metadata": {},
   "outputs": [],
   "source": [
    "# There's a mismatch in data (one row too many in cliphen)\n",
    "# Understand why"
   ]
  },
  {
   "cell_type": "code",
   "execution_count": 226,
   "metadata": {},
   "outputs": [
    {
     "data": {
      "text/html": [
       "<div>\n",
       "<style scoped>\n",
       "    .dataframe tbody tr th:only-of-type {\n",
       "        vertical-align: middle;\n",
       "    }\n",
       "\n",
       "    .dataframe tbody tr th {\n",
       "        vertical-align: top;\n",
       "    }\n",
       "\n",
       "    .dataframe thead th {\n",
       "        text-align: right;\n",
       "    }\n",
       "</style>\n",
       "<table border=\"1\" class=\"dataframe\">\n",
       "  <thead>\n",
       "    <tr style=\"text-align: right;\">\n",
       "      <th></th>\n",
       "      <th>file</th>\n",
       "      <th>text</th>\n",
       "      <th>HPO_symptoms</th>\n",
       "      <th>HPO_codes</th>\n",
       "      <th>starts</th>\n",
       "      <th>ends</th>\n",
       "    </tr>\n",
       "  </thead>\n",
       "  <tbody>\n",
       "    <tr>\n",
       "      <th>125</th>\n",
       "      <td>3547011</td>\n",
       "      <td>The nevoid basal-cell carcinoma syndrome is ch...</td>\n",
       "      <td>[basal-cell carcinoma, basal-cell carcinomata,...</td>\n",
       "      <td>[0002671, 0002671, 0010603, 0000924, 0000772, ...</td>\n",
       "      <td>[11, 100, 124, 147, 171, 319, 357, 372, 436, 4...</td>\n",
       "      <td>[31, 122, 141, 169, 189, 341, 383, 383, 447, 4...</td>\n",
       "    </tr>\n",
       "    <tr>\n",
       "      <th>126</th>\n",
       "      <td>3585943</td>\n",
       "      <td>We report a girl aged 11 and her brother aged ...</td>\n",
       "      <td>[isolated cases, autosomal recessive inheritan...</td>\n",
       "      <td>[0001420, 0000007, 0000007]</td>\n",
       "      <td>[115, 475, 475]</td>\n",
       "      <td>[129, 506, 494]</td>\n",
       "    </tr>\n",
       "    <tr>\n",
       "      <th>127</th>\n",
       "      <td>3674117</td>\n",
       "      <td>Deletions, duplications, and rearrangements of...</td>\n",
       "      <td>[clinical heterogeneity, heterogeneity, hypoto...</td>\n",
       "      <td>[0003812, 0001425, 0001319, 0001252, 0003576, ...</td>\n",
       "      <td>[297, 306, 741, 741, 754, 763, 776]</td>\n",
       "      <td>[319, 319, 761, 750, 761, 770, 795]</td>\n",
       "    </tr>\n",
       "    <tr>\n",
       "      <th>128</th>\n",
       "      <td>3688021</td>\n",
       "      <td>Two unrelated females, age 15 and 5 years resp...</td>\n",
       "      <td>[severe mental retardation, mental retardation...</td>\n",
       "      <td>[0002187, 0001249, 0001250, 0001251, 0002311, ...</td>\n",
       "      <td>[96, 103, 123, 136, 148, 277, 299, 353, 464, 5...</td>\n",
       "      <td>[121, 121, 131, 142, 162, 295, 306, 362, 481, ...</td>\n",
       "    </tr>\n",
       "  </tbody>\n",
       "</table>\n",
       "</div>"
      ],
      "text/plain": [
       "        file                                               text  \\\n",
       "125  3547011  The nevoid basal-cell carcinoma syndrome is ch...   \n",
       "126  3585943  We report a girl aged 11 and her brother aged ...   \n",
       "127  3674117  Deletions, duplications, and rearrangements of...   \n",
       "128  3688021  Two unrelated females, age 15 and 5 years resp...   \n",
       "\n",
       "                                          HPO_symptoms  \\\n",
       "125  [basal-cell carcinoma, basal-cell carcinomata,...   \n",
       "126  [isolated cases, autosomal recessive inheritan...   \n",
       "127  [clinical heterogeneity, heterogeneity, hypoto...   \n",
       "128  [severe mental retardation, mental retardation...   \n",
       "\n",
       "                                             HPO_codes  \\\n",
       "125  [0002671, 0002671, 0010603, 0000924, 0000772, ...   \n",
       "126                        [0001420, 0000007, 0000007]   \n",
       "127  [0003812, 0001425, 0001319, 0001252, 0003576, ...   \n",
       "128  [0002187, 0001249, 0001250, 0001251, 0002311, ...   \n",
       "\n",
       "                                                starts  \\\n",
       "125  [11, 100, 124, 147, 171, 319, 357, 372, 436, 4...   \n",
       "126                                    [115, 475, 475]   \n",
       "127                [297, 306, 741, 741, 754, 763, 776]   \n",
       "128  [96, 103, 123, 136, 148, 277, 299, 353, 464, 5...   \n",
       "\n",
       "                                                  ends  \n",
       "125  [31, 122, 141, 169, 189, 341, 383, 383, 447, 4...  \n",
       "126                                    [129, 506, 494]  \n",
       "127                [319, 319, 761, 750, 761, 770, 795]  \n",
       "128  [121, 121, 131, 142, 162, 295, 306, 362, 481, ...  "
      ]
     },
     "execution_count": 226,
     "metadata": {},
     "output_type": "execute_result"
    }
   ],
   "source": [
    "gsc_data[125:129]"
   ]
  },
  {
   "cell_type": "code",
   "execution_count": 227,
   "metadata": {},
   "outputs": [
    {
     "data": {
      "text/html": [
       "<div>\n",
       "<style scoped>\n",
       "    .dataframe tbody tr th:only-of-type {\n",
       "        vertical-align: middle;\n",
       "    }\n",
       "\n",
       "    .dataframe tbody tr th {\n",
       "        vertical-align: top;\n",
       "    }\n",
       "\n",
       "    .dataframe thead th {\n",
       "        text-align: right;\n",
       "    }\n",
       "</style>\n",
       "<table border=\"1\" class=\"dataframe\">\n",
       "  <thead>\n",
       "    <tr style=\"text-align: right;\">\n",
       "      <th></th>\n",
       "      <th>FileName</th>\n",
       "      <th>Actual Text</th>\n",
       "      <th>HPO ID</th>\n",
       "      <th>Phenotype name</th>\n",
       "      <th>No. occurrences</th>\n",
       "      <th>Earliness (lower = earlier)</th>\n",
       "      <th>Example sentence</th>\n",
       "    </tr>\n",
       "  </thead>\n",
       "  <tbody>\n",
       "    <tr>\n",
       "      <th>0</th>\n",
       "      <td>1003450</td>\n",
       "      <td>['A syndrome of brachydactyly (absence of some...</td>\n",
       "      <td>[HP:0001792, HP:0001156, HP:0001798, HP:000970...</td>\n",
       "      <td>['Small nail', 'Brachydactyly', 'Anonychia', '...</td>\n",
       "      <td>[2, 1, 1, 1, 1]</td>\n",
       "      <td>[4, 2, 4, 8, 10]</td>\n",
       "      <td>[' 74 103 hp 0001798 aplastic or hypoplastic n...</td>\n",
       "    </tr>\n",
       "    <tr>\n",
       "      <th>1</th>\n",
       "      <td>10051003</td>\n",
       "      <td>['Townes-Brocks syndrome (TBS) is an autosomal...</td>\n",
       "      <td>[HP:0000356, HP:0000598, HP:0010442, HP:000036...</td>\n",
       "      <td>['Abnormality of the outer ear', 'Abnormality ...</td>\n",
       "      <td>[2, 2, 2, 1, 1, 1, 1, 1, 1]</td>\n",
       "      <td>[6, 6, 9, 8, 9, 11, 12, 13, 14]</td>\n",
       "      <td>[' 139 161 hp 0000356 external ear anomalies',...</td>\n",
       "    </tr>\n",
       "  </tbody>\n",
       "</table>\n",
       "</div>"
      ],
      "text/plain": [
       "   FileName                                        Actual Text  \\\n",
       "0   1003450  ['A syndrome of brachydactyly (absence of some...   \n",
       "1  10051003  ['Townes-Brocks syndrome (TBS) is an autosomal...   \n",
       "\n",
       "                                              HPO ID  \\\n",
       "0  [HP:0001792, HP:0001156, HP:0001798, HP:000970...   \n",
       "1  [HP:0000356, HP:0000598, HP:0010442, HP:000036...   \n",
       "\n",
       "                                      Phenotype name  \\\n",
       "0  ['Small nail', 'Brachydactyly', 'Anonychia', '...   \n",
       "1  ['Abnormality of the outer ear', 'Abnormality ...   \n",
       "\n",
       "               No. occurrences      Earliness (lower = earlier)  \\\n",
       "0              [2, 1, 1, 1, 1]                 [4, 2, 4, 8, 10]   \n",
       "1  [2, 2, 2, 1, 1, 1, 1, 1, 1]  [6, 6, 9, 8, 9, 11, 12, 13, 14]   \n",
       "\n",
       "                                    Example sentence  \n",
       "0  [' 74 103 hp 0001798 aplastic or hypoplastic n...  \n",
       "1  [' 139 161 hp 0000356 external ear anomalies',...  "
      ]
     },
     "execution_count": 227,
     "metadata": {},
     "output_type": "execute_result"
    }
   ],
   "source": [
    "clinphen_df.head(2)"
   ]
  },
  {
   "cell_type": "code",
   "execution_count": 228,
   "metadata": {},
   "outputs": [],
   "source": [
    "# There's sth wrong with the formatting around the row 126. Ignoring it for now\n",
    "# TODO reload the data once it's fixed\n",
    "# cliphen_df = cliphen_df.drop([126])"
   ]
  },
  {
   "cell_type": "code",
   "execution_count": 229,
   "metadata": {},
   "outputs": [
    {
     "data": {
      "text/plain": [
       "['HP:0000356',\n",
       " 'HP:0000598',\n",
       " 'HP:0010442',\n",
       " 'HP:0000365',\n",
       " 'HP:0100258',\n",
       " 'HP:0001199',\n",
       " 'HP:0002023',\n",
       " 'HP:0012210',\n",
       " 'HP:0001249']"
      ]
     },
     "execution_count": 229,
     "metadata": {},
     "output_type": "execute_result"
    }
   ],
   "source": [
    "clinphen_df.iloc[1]['HPO ID']"
   ]
  },
  {
   "cell_type": "code",
   "execution_count": 238,
   "metadata": {},
   "outputs": [],
   "source": [
    "clinphen_jaccard_scores = []\n",
    "for i, row in clinphen_df.iterrows():\n",
    "    gsc_row = gsc_data.iloc[i]\n",
    "    gsc_codes = gsc_row['HPO_codes']\n",
    "    clinphen_codes = row['HPO ID']\n",
    "    clinphen_codes = [code[3:] for code in clinphen_codes]\n",
    "    score = jaccard_score(gsc_codes, clinphen_codes)\n",
    "    clinphen_jaccard_scores.append(score)"
   ]
  },
  {
   "cell_type": "code",
   "execution_count": 239,
   "metadata": {},
   "outputs": [
    {
     "data": {
      "text/plain": [
       "[0.5,\n",
       " 0.5,\n",
       " 0.5833333333333334,\n",
       " 0.0,\n",
       " 0.0,\n",
       " 0.3333333333333333,\n",
       " 0.42105263157894735,\n",
       " 0.4444444444444444,\n",
       " 0.5,\n",
       " 0.4166666666666667]"
      ]
     },
     "execution_count": 239,
     "metadata": {},
     "output_type": "execute_result"
    }
   ],
   "source": [
    "clinphen_jaccard_scores[:10]"
   ]
  },
  {
   "cell_type": "code",
   "execution_count": 240,
   "metadata": {},
   "outputs": [],
   "source": [
    "clinphen_df['jaccard_score'] = clinphen_jaccard_scores"
   ]
  },
  {
   "cell_type": "code",
   "execution_count": 244,
   "metadata": {},
   "outputs": [
    {
     "data": {
      "text/plain": [
       "0.404282525777813"
      ]
     },
     "execution_count": 244,
     "metadata": {},
     "output_type": "execute_result"
    }
   ],
   "source": [
    "clinphen_df['jaccard_score'].mean()"
   ]
  },
  {
   "cell_type": "markdown",
   "metadata": {},
   "source": [
    "### Semantic similarity"
   ]
  },
  {
   "cell_type": "code",
   "execution_count": 245,
   "metadata": {},
   "outputs": [],
   "source": [
    "biolink_endpoint = 'https://api.monarchinitiative.org/api/sim/compare'"
   ]
  },
  {
   "cell_type": "code",
   "execution_count": 332,
   "metadata": {},
   "outputs": [],
   "source": [
    "def append_hpo_prefix(code):\n",
    "    if code.startswith('HP:'):\n",
    "        return code\n",
    "    else:\n",
    "        return 'HP:' + code\n",
    "\n",
    "def biolink_score(ref_ids, query_ids, metric='phenodigm', is_feature_set='true'):\n",
    "    ref_ids = [append_hpo_prefix(id_) for id_ in ref_ids]\n",
    "    query_ids = [append_hpo_prefix(id_) for id_ in query_ids]\n",
    "    #print('Ref: {}, Query: {}'.format(ref_ids, query_ids))\n",
    "    r = requests.get(biolink_endpoint, params={\n",
    "        'ref_id': ref_ids,\n",
    "        'query_id': query_ids,\n",
    "        'metric': metric,\n",
    "        'is_feature_set': is_feature_set,\n",
    "    })\n",
    "    if r.status_code == 200:\n",
    "        output = r.json()\n",
    "        print('OK')\n",
    "        return output['matches'][0]['score']\n",
    "    else:\n",
    "        print(r.text)\n",
    "        return 0"
   ]
  },
  {
   "cell_type": "code",
   "execution_count": 333,
   "metadata": {},
   "outputs": [],
   "source": [
    "def semantic_score(ref_column, query_column):\n",
    "    return [biolink_score(ref_ids, query_ids, is_feature_set=False)\n",
    "            for ref_ids, query_ids in zip(ref_column, query_column)]"
   ]
  },
  {
   "cell_type": "code",
   "execution_count": 334,
   "metadata": {},
   "outputs": [
    {
     "data": {
      "text/html": [
       "<div>\n",
       "<style scoped>\n",
       "    .dataframe tbody tr th:only-of-type {\n",
       "        vertical-align: middle;\n",
       "    }\n",
       "\n",
       "    .dataframe tbody tr th {\n",
       "        vertical-align: top;\n",
       "    }\n",
       "\n",
       "    .dataframe thead th {\n",
       "        text-align: right;\n",
       "    }\n",
       "</style>\n",
       "<table border=\"1\" class=\"dataframe\">\n",
       "  <thead>\n",
       "    <tr style=\"text-align: right;\">\n",
       "      <th></th>\n",
       "      <th>FileName</th>\n",
       "      <th>Actual Text</th>\n",
       "      <th>HPO ID</th>\n",
       "      <th>Phenotype name</th>\n",
       "      <th>No. occurrences</th>\n",
       "      <th>Earliness (lower = earlier)</th>\n",
       "      <th>Example sentence</th>\n",
       "      <th>jaccard_score</th>\n",
       "    </tr>\n",
       "  </thead>\n",
       "  <tbody>\n",
       "    <tr>\n",
       "      <th>0</th>\n",
       "      <td>1003450</td>\n",
       "      <td>['A syndrome of brachydactyly (absence of some...</td>\n",
       "      <td>[HP:0001792, HP:0001156, HP:0001798, HP:000970...</td>\n",
       "      <td>['Small nail', 'Brachydactyly', 'Anonychia', '...</td>\n",
       "      <td>[2, 1, 1, 1, 1]</td>\n",
       "      <td>[4, 2, 4, 8, 10]</td>\n",
       "      <td>[' 74 103 hp 0001798 aplastic or hypoplastic n...</td>\n",
       "      <td>0.500000</td>\n",
       "    </tr>\n",
       "    <tr>\n",
       "      <th>1</th>\n",
       "      <td>10051003</td>\n",
       "      <td>['Townes-Brocks syndrome (TBS) is an autosomal...</td>\n",
       "      <td>[HP:0000356, HP:0000598, HP:0010442, HP:000036...</td>\n",
       "      <td>['Abnormality of the outer ear', 'Abnormality ...</td>\n",
       "      <td>[2, 2, 2, 1, 1, 1, 1, 1, 1]</td>\n",
       "      <td>[6, 6, 9, 8, 9, 11, 12, 13, 14]</td>\n",
       "      <td>[' 139 161 hp 0000356 external ear anomalies',...</td>\n",
       "      <td>0.500000</td>\n",
       "    </tr>\n",
       "    <tr>\n",
       "      <th>2</th>\n",
       "      <td>10066029</td>\n",
       "      <td>['Nevoid basal cell carcinoma syndrome (NBCCS)...</td>\n",
       "      <td>[HP:0010612, HP:0002671, HP:0030731, HP:001061...</td>\n",
       "      <td>['Plantar pits', 'Basal cell carcinoma', 'Carc...</td>\n",
       "      <td>[4, 2, 2, 2, 1, 1, 1, 1]</td>\n",
       "      <td>[11, 1, 1, 11, 10, 14, 15, 17]</td>\n",
       "      <td>[' 543 562 hp 0010610 palmar plantar pits', ' ...</td>\n",
       "      <td>0.583333</td>\n",
       "    </tr>\n",
       "    <tr>\n",
       "      <th>3</th>\n",
       "      <td>10196695</td>\n",
       "      <td>['Angelman syndrome (AS) is a neurodevelopment...</td>\n",
       "      <td>[]</td>\n",
       "      <td>[]</td>\n",
       "      <td>[]</td>\n",
       "      <td>[]</td>\n",
       "      <td>[]</td>\n",
       "      <td>0.000000</td>\n",
       "    </tr>\n",
       "    <tr>\n",
       "      <th>4</th>\n",
       "      <td>10417280</td>\n",
       "      <td>['Prader-Willi syndrome (PWS) and Angelman syn...</td>\n",
       "      <td>[]</td>\n",
       "      <td>[]</td>\n",
       "      <td>[]</td>\n",
       "      <td>[]</td>\n",
       "      <td>[]</td>\n",
       "      <td>0.000000</td>\n",
       "    </tr>\n",
       "  </tbody>\n",
       "</table>\n",
       "</div>"
      ],
      "text/plain": [
       "   FileName                                        Actual Text  \\\n",
       "0   1003450  ['A syndrome of brachydactyly (absence of some...   \n",
       "1  10051003  ['Townes-Brocks syndrome (TBS) is an autosomal...   \n",
       "2  10066029  ['Nevoid basal cell carcinoma syndrome (NBCCS)...   \n",
       "3  10196695  ['Angelman syndrome (AS) is a neurodevelopment...   \n",
       "4  10417280  ['Prader-Willi syndrome (PWS) and Angelman syn...   \n",
       "\n",
       "                                              HPO ID  \\\n",
       "0  [HP:0001792, HP:0001156, HP:0001798, HP:000970...   \n",
       "1  [HP:0000356, HP:0000598, HP:0010442, HP:000036...   \n",
       "2  [HP:0010612, HP:0002671, HP:0030731, HP:001061...   \n",
       "3                                                 []   \n",
       "4                                                 []   \n",
       "\n",
       "                                      Phenotype name  \\\n",
       "0  ['Small nail', 'Brachydactyly', 'Anonychia', '...   \n",
       "1  ['Abnormality of the outer ear', 'Abnormality ...   \n",
       "2  ['Plantar pits', 'Basal cell carcinoma', 'Carc...   \n",
       "3                                                 []   \n",
       "4                                                 []   \n",
       "\n",
       "               No. occurrences      Earliness (lower = earlier)  \\\n",
       "0              [2, 1, 1, 1, 1]                 [4, 2, 4, 8, 10]   \n",
       "1  [2, 2, 2, 1, 1, 1, 1, 1, 1]  [6, 6, 9, 8, 9, 11, 12, 13, 14]   \n",
       "2     [4, 2, 2, 2, 1, 1, 1, 1]   [11, 1, 1, 11, 10, 14, 15, 17]   \n",
       "3                           []                               []   \n",
       "4                           []                               []   \n",
       "\n",
       "                                    Example sentence  jaccard_score  \n",
       "0  [' 74 103 hp 0001798 aplastic or hypoplastic n...       0.500000  \n",
       "1  [' 139 161 hp 0000356 external ear anomalies',...       0.500000  \n",
       "2  [' 543 562 hp 0010610 palmar plantar pits', ' ...       0.583333  \n",
       "3                                                 []       0.000000  \n",
       "4                                                 []       0.000000  "
      ]
     },
     "execution_count": 334,
     "metadata": {},
     "output_type": "execute_result"
    }
   ],
   "source": [
    "clinphen_df.head(5)"
   ]
  },
  {
   "cell_type": "code",
   "execution_count": 335,
   "metadata": {},
   "outputs": [],
   "source": [
    "r1 = gsc_data.iloc[1]['HPO_codes']\n",
    "q1 = ncr_df.iloc[1]['NCR_HPO_codes']"
   ]
  },
  {
   "cell_type": "code",
   "execution_count": 336,
   "metadata": {},
   "outputs": [
    {
     "name": "stdout",
     "output_type": "stream",
     "text": [
      "{\"error\": {\"message\": \"An exception occurred: Failed to find class with ID: http://purl.obolibrary.org/obo/HP_0000792\", \"code\": 500}}\n",
      "\n"
     ]
    }
   ],
   "source": [
    "out = biolink_score(r1, q1, metric='phenodigm', is_feature_set=True)"
   ]
  },
  {
   "cell_type": "code",
   "execution_count": 337,
   "metadata": {},
   "outputs": [
    {
     "data": {
      "text/plain": [
       "0"
      ]
     },
     "execution_count": 337,
     "metadata": {},
     "output_type": "execute_result"
    }
   ],
   "source": [
    "out"
   ]
  },
  {
   "cell_type": "code",
   "execution_count": 338,
   "metadata": {},
   "outputs": [
    {
     "name": "stdout",
     "output_type": "stream",
     "text": [
      "OK\n",
      "{\"error\": {\"message\": \"An exception occurred: Failed to find class with ID: HP:0000792\", \"code\": 500}}\n",
      "\n",
      "{\"error\": {\"message\": \"An exception occurred: Failed to find class with ID: HP:0003813\", \"code\": 500}}\n",
      "\n",
      "{\"error\": {\"message\": \"An exception occurred: list index out of range\", \"code\": 500}}\n",
      "\n",
      "{\"error\": {\"message\": \"An exception occurred: list index out of range\", \"code\": 500}}\n",
      "\n",
      "{\"error\": {\"message\": \"An exception occurred: Failed to find class with ID: HP:0000792\", \"code\": 500}}\n",
      "\n",
      "{\"error\": {\"message\": \"An exception occurred: Failed to find class with ID: HP:0001617\", \"code\": 500}}\n",
      "\n",
      "{\"error\": {\"message\": \"An exception occurred: Failed to find class with ID: HP:0006746\", \"code\": 500}}\n",
      "\n",
      "{\"error\": {\"message\": \"An exception occurred: Failed to find class with ID: HP:0001420\", \"code\": 500}}\n",
      "\n",
      "{\"error\": {\"message\": \"An exception occurred: Failed to find class with ID: HP:0000404\", \"code\": 500}}\n",
      "\n",
      "OK\n",
      "{\"error\": {\"message\": \"An exception occurred: Failed to find class with ID: HP:0002260\", \"code\": 500}}\n",
      "\n",
      "{\"error\": {\"message\": \"An exception occurred: Failed to find class with ID: HP:0006746\", \"code\": 500}}\n",
      "\n",
      "{\"error\": {\"message\": \"An exception occurred: Failed to find class with ID: HP:0001617\", \"code\": 500}}\n",
      "\n",
      "{\"error\": {\"message\": \"An exception occurred: list index out of range\", \"code\": 500}}\n",
      "\n",
      "OK\n",
      "OK\n",
      "OK\n",
      "{\"error\": {\"message\": \"An exception occurred: Failed to find class with ID: HP:0003822\", \"code\": 500}}\n",
      "\n",
      "OK\n",
      "OK\n",
      "{\"error\": {\"message\": \"An exception occurred: Failed to find class with ID: HP:0006746\", \"code\": 500}}\n",
      "\n",
      "OK\n",
      "OK\n",
      "{\"error\": {\"message\": \"An exception occurred: Failed to find class with ID: HP:0006746\", \"code\": 500}}\n",
      "\n",
      "OK\n",
      "{\"error\": {\"message\": \"An exception occurred: Failed to find class with ID: HP:0003822\", \"code\": 500}}\n",
      "\n",
      "OK\n",
      "{\"error\": {\"message\": \"An exception occurred: Failed to find class with ID: HP:0003813\", \"code\": 500}}\n",
      "\n",
      "OK\n",
      "{\"error\": {\"message\": \"An exception occurred: Failed to find class with ID: HP:0006746\", \"code\": 500}}\n",
      "\n",
      "{\"error\": {\"message\": \"An exception occurred: Failed to find class with ID: HP:0006746\", \"code\": 500}}\n",
      "\n",
      "OK\n",
      "{\"error\": {\"message\": \"An exception occurred: Failed to find class with ID: HP:0006746\", \"code\": 500}}\n",
      "\n",
      "OK\n",
      "{\"error\": {\"message\": \"An exception occurred: Failed to find class with ID: HP:0003822\", \"code\": 500}}\n",
      "\n",
      "{\"error\": {\"message\": \"An exception occurred: Failed to find class with ID: HP:0000404\", \"code\": 500}}\n",
      "\n",
      "{\"error\": {\"message\": \"An exception occurred: Failed to find class with ID: HP:0006746\", \"code\": 500}}\n",
      "\n",
      "OK\n",
      "OK\n",
      "{\"error\": {\"message\": \"An exception occurred: Failed to find class with ID: HP:0005188\", \"code\": 500}}\n",
      "\n",
      "{\"error\": {\"message\": \"An exception occurred: Failed to find class with ID: HP:0006996\", \"code\": 500}}\n",
      "\n",
      "{\"error\": {\"message\": \"An exception occurred: Failed to find class with ID: HP:0002255\", \"code\": 500}}\n",
      "\n",
      "{\"error\": {\"message\": \"An exception occurred: Failed to find class with ID: HP:0003813\", \"code\": 500}}\n",
      "\n",
      "OK\n",
      "OK\n",
      "OK\n",
      "{\"error\": {\"message\": \"An exception occurred: list index out of range\", \"code\": 500}}\n",
      "\n",
      "{\"error\": {\"message\": \"An exception occurred: list index out of range\", \"code\": 500}}\n",
      "\n",
      "OK\n",
      "{\"error\": {\"message\": \"An exception occurred: Failed to find class with ID: HP:0008680\", \"code\": 500}}\n",
      "\n",
      "{\"error\": {\"message\": \"An exception occurred: Failed to find class with ID: HP:0006746\", \"code\": 500}}\n",
      "\n",
      "OK\n",
      "OK\n",
      "OK\n",
      "OK\n",
      "{\"error\": {\"message\": \"An exception occurred: Failed to find class with ID: HP:0000404\", \"code\": 500}}\n",
      "\n",
      "{\"error\": {\"message\": \"An exception occurred: Failed to find class with ID: HP:0006746\", \"code\": 500}}\n",
      "\n",
      "{\"error\": {\"message\": \"An exception occurred: Failed to find class with ID: HP:0006746\", \"code\": 500}}\n",
      "\n",
      "{\"error\": {\"message\": \"An exception occurred: Failed to find class with ID: HP:0006746\", \"code\": 500}}\n",
      "\n",
      "{\"error\": {\"message\": \"An exception occurred: Failed to find class with ID: HP:0006746\", \"code\": 500}}\n",
      "\n",
      "{\"error\": {\"message\": \"An exception occurred: Failed to find class with ID: HP:0006746\", \"code\": 500}}\n",
      "\n",
      "{\"error\": {\"message\": \"An exception occurred: Failed to find class with ID: HP:0007319\", \"code\": 500}}\n",
      "\n",
      "{\"error\": {\"message\": \"An exception occurred: Failed to find class with ID: HP:0006746\", \"code\": 500}}\n",
      "\n",
      "OK\n",
      "OK\n",
      "{\"error\": {\"message\": \"An exception occurred: Failed to find class with ID: HP:0002260\", \"code\": 500}}\n",
      "\n",
      "OK\n",
      "{\"error\": {\"message\": \"An exception occurred: Failed to find class with ID: HP:0006746\", \"code\": 500}}\n",
      "\n",
      "OK\n",
      "{\"error\": {\"message\": \"An exception occurred: Failed to find class with ID: HP:0007170\", \"code\": 500}}\n",
      "\n",
      "OK\n",
      "{\"error\": {\"message\": \"An exception occurred: list index out of range\", \"code\": 500}}\n",
      "\n",
      "{\"error\": {\"message\": \"An exception occurred: Failed to find class with ID: HP:0003813\", \"code\": 500}}\n",
      "\n",
      "OK\n",
      "{\"error\": {\"message\": \"An exception occurred: Failed to find class with ID: HP:0006746\", \"code\": 500}}\n",
      "\n",
      "{\"error\": {\"message\": \"An exception occurred: Failed to find class with ID: HP:0006746\", \"code\": 500}}\n",
      "\n",
      "{\"error\": {\"message\": \"An exception occurred: Failed to find class with ID: HP:0003822\", \"code\": 500}}\n",
      "\n",
      "{\"error\": {\"message\": \"An exception occurred: Failed to find class with ID: HP:0006746\", \"code\": 500}}\n",
      "\n",
      "OK\n",
      "OK\n",
      "{\"error\": {\"message\": \"An exception occurred: list index out of range\", \"code\": 500}}\n",
      "\n",
      "OK\n",
      "OK\n",
      "OK\n",
      "OK\n",
      "{\"error\": {\"message\": \"An exception occurred: Failed to find class with ID: HP:0002260\", \"code\": 500}}\n",
      "\n",
      "{\"error\": {\"message\": \"An exception occurred: Failed to find class with ID: HP:0000792\", \"code\": 500}}\n",
      "\n",
      "{\"error\": {\"message\": \"An exception occurred: Failed to find class with ID: HP:0010240\", \"code\": 500}}\n",
      "\n",
      "OK\n",
      "OK\n",
      "OK\n",
      "{\"error\": {\"message\": \"An exception occurred: Failed to find class with ID: HP:0006746\", \"code\": 500}}\n",
      "\n",
      "OK\n",
      "OK\n",
      "OK\n",
      "{\"error\": {\"message\": \"An exception occurred: Failed to find class with ID: HP:0007106\", \"code\": 500}}\n",
      "\n",
      "OK\n",
      "{\"error\": {\"message\": \"An exception occurred: Failed to find class with ID: HP:0006746\", \"code\": 500}}\n",
      "\n",
      "{\"error\": {\"message\": \"An exception occurred: Failed to find class with ID: HP:0003813\", \"code\": 500}}\n",
      "\n"
     ]
    },
    {
     "data": {
      "text/plain": [
       "[67.0,\n",
       " 0,\n",
       " 0,\n",
       " 0,\n",
       " 0,\n",
       " 0,\n",
       " 0,\n",
       " 0,\n",
       " 0,\n",
       " 0,\n",
       " 70.0,\n",
       " 0,\n",
       " 0,\n",
       " 0,\n",
       " 0,\n",
       " 87.0,\n",
       " 88.0,\n",
       " 97.0,\n",
       " 0,\n",
       " 96.0,\n",
       " 96.0,\n",
       " 0,\n",
       " 101.0,\n",
       " 85.0,\n",
       " 0,\n",
       " 75.0,\n",
       " 0,\n",
       " 70.0,\n",
       " 0,\n",
       " 100.0,\n",
       " 0,\n",
       " 0,\n",
       " 91.0,\n",
       " 0,\n",
       " 100.0,\n",
       " 0,\n",
       " 0,\n",
       " 0,\n",
       " 91.0,\n",
       " 93.0,\n",
       " 0,\n",
       " 0,\n",
       " 0,\n",
       " 0,\n",
       " 71.0,\n",
       " 98.0,\n",
       " 65.0,\n",
       " 0,\n",
       " 0,\n",
       " 100.0,\n",
       " 0,\n",
       " 0,\n",
       " 95.0,\n",
       " 85.0,\n",
       " 100.0,\n",
       " 81.0,\n",
       " 0,\n",
       " 0,\n",
       " 0,\n",
       " 0,\n",
       " 0,\n",
       " 0,\n",
       " 0,\n",
       " 0,\n",
       " 100.0,\n",
       " 99.0,\n",
       " 0,\n",
       " 97.0,\n",
       " 0,\n",
       " 100.0,\n",
       " 0,\n",
       " 100.0,\n",
       " 0,\n",
       " 0,\n",
       " 99.0,\n",
       " 0,\n",
       " 0,\n",
       " 0,\n",
       " 0,\n",
       " 82.0,\n",
       " 95.0,\n",
       " 0,\n",
       " 86.0,\n",
       " 95.0,\n",
       " 100.0,\n",
       " 91.0,\n",
       " 0,\n",
       " 0,\n",
       " 0,\n",
       " 56.0,\n",
       " 94.0,\n",
       " 96.0,\n",
       " 0,\n",
       " 100.0,\n",
       " 96.0,\n",
       " 91.0,\n",
       " 0,\n",
       " 98.0,\n",
       " 0,\n",
       " 0]"
      ]
     },
     "execution_count": 338,
     "metadata": {},
     "output_type": "execute_result"
    }
   ],
   "source": [
    "semantic_score(gsc_data['HPO_codes'].iloc[:100], clinphen_df['HPO ID'].iloc[:100])"
   ]
  },
  {
   "cell_type": "markdown",
   "metadata": {},
   "source": [
    "#### Remove non-symptoms HPO codes from the ontology"
   ]
  },
  {
   "cell_type": "code",
   "execution_count": 360,
   "metadata": {},
   "outputs": [],
   "source": [
    "successors_endpoint = 'https://f29bio-dev.northeurope.cloudapp.azure.com/\\\n",
    "api/BioEntity/phenotype/successors/{}'.format('HP:0000001')"
   ]
  },
  {
   "cell_type": "code",
   "execution_count": 361,
   "metadata": {},
   "outputs": [
    {
     "data": {
      "text/plain": [
       "'https://f29bio-dev.northeurope.cloudapp.azure.com/api/BioEntity/phenotype/successors/HP:0000001'"
      ]
     },
     "execution_count": 361,
     "metadata": {},
     "output_type": "execute_result"
    }
   ],
   "source": [
    "successors_endpoint"
   ]
  },
  {
   "cell_type": "code",
   "execution_count": 371,
   "metadata": {},
   "outputs": [],
   "source": [
    "all_codes_handle = requests.get(successors_endpoint, params={\n",
    "    'depth': 1000000,\n",
    "    },\n",
    "   headers={'accept': 'text/plain'})"
   ]
  },
  {
   "cell_type": "code",
   "execution_count": 374,
   "metadata": {},
   "outputs": [],
   "source": [
    "all_codes_data = all_codes_handle.json()"
   ]
  },
  {
   "cell_type": "code",
   "execution_count": 375,
   "metadata": {},
   "outputs": [
    {
     "data": {
      "text/plain": [
       "dict_keys(['HP:0000001'])"
      ]
     },
     "execution_count": 375,
     "metadata": {},
     "output_type": "execute_result"
    }
   ],
   "source": [
    "all_codes_data.keys()"
   ]
  },
  {
   "cell_type": "code",
   "execution_count": 388,
   "metadata": {},
   "outputs": [],
   "source": [
    "root_id = 'HP:0000001'\n",
    "symptoms_root_id = 'HP:0000118'"
   ]
  },
  {
   "cell_type": "code",
   "execution_count": 389,
   "metadata": {},
   "outputs": [
    {
     "data": {
      "text/plain": [
       "dict_keys(['HP:0000005', 'HP:0000118', 'HP:0012823', 'HP:0031797', 'HP:0032223', 'HP:0032443', 'HP:0040279'])"
      ]
     },
     "execution_count": 389,
     "metadata": {},
     "output_type": "execute_result"
    }
   ],
   "source": [
    "all_codes_data[root_id].keys()"
   ]
  },
  {
   "cell_type": "code",
   "execution_count": 441,
   "metadata": {},
   "outputs": [],
   "source": [
    "def recurrent_list(hpo_tree, root):\n",
    "    res = [root]\n",
    "    for child in hpo_tree.keys():\n",
    "        res += recurrent_list(hpo_tree[child], child)\n",
    "    return res"
   ]
  },
  {
   "cell_type": "code",
   "execution_count": 443,
   "metadata": {},
   "outputs": [
    {
     "name": "stdout",
     "output_type": "stream",
     "text": [
      "HP:0000005\n",
      "HP:0012823\n",
      "HP:0031797\n",
      "HP:0032223\n",
      "HP:0032443\n",
      "HP:0040279\n"
     ]
    }
   ],
   "source": [
    "HPO_exclusion_set = set()\n",
    "for root in all_codes_data[root_id]:\n",
    "    if root != symptoms_root_id:\n",
    "        print(root)\n",
    "        HPO_exclusion_set.update(recurrent_list(all_codes_data[root_id][root], root))"
   ]
  },
  {
   "cell_type": "code",
   "execution_count": 444,
   "metadata": {},
   "outputs": [
    {
     "data": {
      "text/plain": [
       "216"
      ]
     },
     "execution_count": 444,
     "metadata": {},
     "output_type": "execute_result"
    }
   ],
   "source": [
    "# length of the exclusion list\n",
    "len(HPO_exclusion_set)"
   ]
  },
  {
   "cell_type": "code",
   "execution_count": 445,
   "metadata": {},
   "outputs": [],
   "source": [
    "# just for validation the symptoms set"
   ]
  },
  {
   "cell_type": "code",
   "execution_count": 446,
   "metadata": {},
   "outputs": [],
   "source": [
    "HPO_symptoms_set = set(recurrent_list(all_codes_data[root_id][symptoms_root_id], symptoms_root_id))"
   ]
  },
  {
   "cell_type": "code",
   "execution_count": 447,
   "metadata": {},
   "outputs": [
    {
     "data": {
      "text/plain": [
       "14837"
      ]
     },
     "execution_count": 447,
     "metadata": {},
     "output_type": "execute_result"
    }
   ],
   "source": [
    "len(HPO_symptoms_set)"
   ]
  },
  {
   "cell_type": "code",
   "execution_count": 448,
   "metadata": {},
   "outputs": [
    {
     "data": {
      "text/plain": [
       "0"
      ]
     },
     "execution_count": 448,
     "metadata": {},
     "output_type": "execute_result"
    }
   ],
   "source": [
    "len(HPO_exclusion_set.intersection(HPO_symptoms_set))"
   ]
  },
  {
   "cell_type": "code",
   "execution_count": 450,
   "metadata": {},
   "outputs": [
    {
     "data": {
      "text/plain": [
       "{'HP:0000005',\n",
       " 'HP:0000006',\n",
       " 'HP:0000007',\n",
       " 'HP:0001417',\n",
       " 'HP:0001419',\n",
       " 'HP:0001423',\n",
       " 'HP:0001425',\n",
       " 'HP:0001426',\n",
       " 'HP:0001427',\n",
       " 'HP:0001428',\n",
       " 'HP:0001442',\n",
       " 'HP:0001444',\n",
       " 'HP:0001450',\n",
       " 'HP:0001452',\n",
       " 'HP:0001466',\n",
       " 'HP:0001470',\n",
       " 'HP:0001475',\n",
       " 'HP:0001522',\n",
       " 'HP:0001699',\n",
       " 'HP:0003577',\n",
       " 'HP:0003581',\n",
       " 'HP:0003584',\n",
       " 'HP:0003587',\n",
       " 'HP:0003593',\n",
       " 'HP:0003596',\n",
       " 'HP:0003621',\n",
       " 'HP:0003623',\n",
       " 'HP:0003674',\n",
       " 'HP:0003676',\n",
       " 'HP:0003677',\n",
       " 'HP:0003678',\n",
       " 'HP:0003679',\n",
       " 'HP:0003680',\n",
       " 'HP:0003682',\n",
       " 'HP:0003743',\n",
       " 'HP:0003744',\n",
       " 'HP:0003745',\n",
       " 'HP:0003811',\n",
       " 'HP:0003812',\n",
       " 'HP:0003819',\n",
       " 'HP:0003826',\n",
       " 'HP:0003828',\n",
       " 'HP:0003829',\n",
       " 'HP:0003831',\n",
       " 'HP:0010982',\n",
       " 'HP:0010983',\n",
       " 'HP:0010984',\n",
       " 'HP:0010985',\n",
       " 'HP:0011008',\n",
       " 'HP:0011009',\n",
       " 'HP:0011010',\n",
       " 'HP:0011011',\n",
       " 'HP:0011420',\n",
       " 'HP:0011421',\n",
       " 'HP:0011460',\n",
       " 'HP:0011461',\n",
       " 'HP:0011462',\n",
       " 'HP:0011463',\n",
       " 'HP:0012274',\n",
       " 'HP:0012275',\n",
       " 'HP:0012823',\n",
       " 'HP:0012824',\n",
       " 'HP:0012825',\n",
       " 'HP:0012826',\n",
       " 'HP:0012827',\n",
       " 'HP:0012828',\n",
       " 'HP:0012829',\n",
       " 'HP:0012830',\n",
       " 'HP:0012831',\n",
       " 'HP:0012832',\n",
       " 'HP:0012833',\n",
       " 'HP:0012834',\n",
       " 'HP:0012835',\n",
       " 'HP:0012836',\n",
       " 'HP:0012837',\n",
       " 'HP:0012838',\n",
       " 'HP:0012839',\n",
       " 'HP:0012840',\n",
       " 'HP:0020034',\n",
       " 'HP:0020121',\n",
       " 'HP:0020138',\n",
       " 'HP:0020139',\n",
       " 'HP:0020140',\n",
       " 'HP:0025153',\n",
       " 'HP:0025204',\n",
       " 'HP:0025205',\n",
       " 'HP:0025206',\n",
       " 'HP:0025207',\n",
       " 'HP:0025208',\n",
       " 'HP:0025209',\n",
       " 'HP:0025210',\n",
       " 'HP:0025211',\n",
       " 'HP:0025212',\n",
       " 'HP:0025213',\n",
       " 'HP:0025214',\n",
       " 'HP:0025215',\n",
       " 'HP:0025216',\n",
       " 'HP:0025217',\n",
       " 'HP:0025218',\n",
       " 'HP:0025219',\n",
       " 'HP:0025220',\n",
       " 'HP:0025221',\n",
       " 'HP:0025222',\n",
       " 'HP:0025223',\n",
       " 'HP:0025224',\n",
       " 'HP:0025225',\n",
       " 'HP:0025226',\n",
       " 'HP:0025227',\n",
       " 'HP:0025228',\n",
       " 'HP:0025229',\n",
       " 'HP:0025254',\n",
       " 'HP:0025255',\n",
       " 'HP:0025256',\n",
       " 'HP:0025257',\n",
       " 'HP:0025275',\n",
       " 'HP:0025279',\n",
       " 'HP:0025280',\n",
       " 'HP:0025281',\n",
       " 'HP:0025282',\n",
       " 'HP:0025283',\n",
       " 'HP:0025284',\n",
       " 'HP:0025285',\n",
       " 'HP:0025286',\n",
       " 'HP:0025287',\n",
       " 'HP:0025290',\n",
       " 'HP:0025291',\n",
       " 'HP:0025292',\n",
       " 'HP:0025293',\n",
       " 'HP:0025294',\n",
       " 'HP:0025295',\n",
       " 'HP:0025296',\n",
       " 'HP:0025297',\n",
       " 'HP:0025301',\n",
       " 'HP:0025302',\n",
       " 'HP:0025303',\n",
       " 'HP:0025304',\n",
       " 'HP:0025305',\n",
       " 'HP:0025306',\n",
       " 'HP:0025307',\n",
       " 'HP:0025308',\n",
       " 'HP:0025315',\n",
       " 'HP:0025334',\n",
       " 'HP:0025352',\n",
       " 'HP:0025377',\n",
       " 'HP:0030645',\n",
       " 'HP:0030646',\n",
       " 'HP:0030647',\n",
       " 'HP:0030648',\n",
       " 'HP:0030649',\n",
       " 'HP:0030650',\n",
       " 'HP:0030651',\n",
       " 'HP:0030674',\n",
       " 'HP:0031135',\n",
       " 'HP:0031167',\n",
       " 'HP:0031362',\n",
       " 'HP:0031375',\n",
       " 'HP:0031450',\n",
       " 'HP:0031796',\n",
       " 'HP:0031797',\n",
       " 'HP:0031914',\n",
       " 'HP:0031915',\n",
       " 'HP:0032113',\n",
       " 'HP:0032223',\n",
       " 'HP:0032224',\n",
       " 'HP:0032316',\n",
       " 'HP:0032317',\n",
       " 'HP:0032318',\n",
       " 'HP:0032319',\n",
       " 'HP:0032320',\n",
       " 'HP:0032321',\n",
       " 'HP:0032322',\n",
       " 'HP:0032365',\n",
       " 'HP:0032370',\n",
       " 'HP:0032373',\n",
       " 'HP:0032374',\n",
       " 'HP:0032375',\n",
       " 'HP:0032382',\n",
       " 'HP:0032383',\n",
       " 'HP:0032384',\n",
       " 'HP:0032440',\n",
       " 'HP:0032441',\n",
       " 'HP:0032442',\n",
       " 'HP:0032443',\n",
       " 'HP:0032444',\n",
       " 'HP:0032467',\n",
       " 'HP:0032468',\n",
       " 'HP:0032500',\n",
       " 'HP:0032501',\n",
       " 'HP:0032502',\n",
       " 'HP:0032503',\n",
       " 'HP:0032522',\n",
       " 'HP:0032525',\n",
       " 'HP:0032526',\n",
       " 'HP:0032534',\n",
       " 'HP:0032535',\n",
       " 'HP:0032539',\n",
       " 'HP:0032540',\n",
       " 'HP:0032542',\n",
       " 'HP:0032544',\n",
       " 'HP:0032557',\n",
       " 'HP:0040006',\n",
       " 'HP:0040279',\n",
       " 'HP:0040280',\n",
       " 'HP:0040281',\n",
       " 'HP:0040282',\n",
       " 'HP:0040283',\n",
       " 'HP:0040284',\n",
       " 'HP:0040285',\n",
       " 'HP:0045088',\n",
       " 'HP:0045089',\n",
       " 'HP:0045090',\n",
       " 'HP:0100613',\n",
       " 'HP:0410280',\n",
       " 'HP:0410401',\n",
       " 'HP:0500260',\n",
       " 'HP:0500261'}"
      ]
     },
     "execution_count": 450,
     "metadata": {},
     "output_type": "execute_result"
    }
   ],
   "source": [
    "HPO_exclusion_set"
   ]
  },
  {
   "cell_type": "code",
   "execution_count": 452,
   "metadata": {},
   "outputs": [],
   "source": [
    "HPO_dict = {\n",
    "    'non_symptom_codes': list(HPO_exclusion_set),\n",
    "    'symptom_codes': list(HPO_symptoms_set),\n",
    "}"
   ]
  },
  {
   "cell_type": "code",
   "execution_count": 454,
   "metadata": {},
   "outputs": [],
   "source": [
    "with open('HPO_non_symptoms_filter_data.json', 'w') as f:\n",
    "    json.dump(HPO_dict, f, indent=2)"
   ]
  },
  {
   "cell_type": "code",
   "execution_count": null,
   "metadata": {},
   "outputs": [],
   "source": []
  }
 ],
 "metadata": {
  "kernelspec": {
   "display_name": "Python 3",
   "language": "python",
   "name": "python3"
  },
  "language_info": {
   "codemirror_mode": {
    "name": "ipython",
    "version": 3
   },
   "file_extension": ".py",
   "mimetype": "text/x-python",
   "name": "python",
   "nbconvert_exporter": "python",
   "pygments_lexer": "ipython3",
   "version": "3.7.6"
  }
 },
 "nbformat": 4,
 "nbformat_minor": 4
}
