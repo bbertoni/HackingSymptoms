{
 "cells": [
  {
   "cell_type": "markdown",
   "metadata": {},
   "source": [
    "## GSC+ DataSet translation with GoogleTranslate"
   ]
  },
  {
   "cell_type": "code",
   "execution_count": null,
   "metadata": {},
   "outputs": [],
   "source": [
    "#Install GoogleTrans module\n",
    "!pip3 install googletrans"
   ]
  },
  {
   "cell_type": "code",
   "execution_count": 34,
   "metadata": {},
   "outputs": [],
   "source": [
    "import pandas as pd\n",
    "import requests\n",
    "import time\n",
    "import googletrans\n",
    "from googletrans import Translator\n",
    "import json"
   ]
  },
  {
   "cell_type": "code",
   "execution_count": 35,
   "metadata": {},
   "outputs": [],
   "source": [
    "gsc_data = pd.read_csv('GSC+_Es.csv')"
   ]
  },
  {
   "cell_type": "code",
   "execution_count": 36,
   "metadata": {},
   "outputs": [
    {
     "data": {
      "text/html": [
       "<div>\n",
       "<style scoped>\n",
       "    .dataframe tbody tr th:only-of-type {\n",
       "        vertical-align: middle;\n",
       "    }\n",
       "\n",
       "    .dataframe tbody tr th {\n",
       "        vertical-align: top;\n",
       "    }\n",
       "\n",
       "    .dataframe thead th {\n",
       "        text-align: right;\n",
       "    }\n",
       "</style>\n",
       "<table border=\"1\" class=\"dataframe\">\n",
       "  <thead>\n",
       "    <tr style=\"text-align: right;\">\n",
       "      <th></th>\n",
       "      <th>file</th>\n",
       "      <th>spanish</th>\n",
       "      <th>HPO_symptoms</th>\n",
       "      <th>HPO_code</th>\n",
       "    </tr>\n",
       "  </thead>\n",
       "  <tbody>\n",
       "    <tr>\n",
       "      <td>0</td>\n",
       "      <td>1003450</td>\n",
       "      <td>En cinco miembros de una familia italiana se r...</td>\n",
       "      <td>['brachydactyly', 'ausencia de algunas falange...</td>\n",
       "      <td>['0001156', '0009881', '0001798', '0001792', '...</td>\n",
       "    </tr>\n",
       "    <tr>\n",
       "      <td>1</td>\n",
       "      <td>10051003</td>\n",
       "      <td>El síndrome de Townes-Brock (TBS) es un trasto...</td>\n",
       "      <td>['trastorno autosómico dominante.', 'autosómic...</td>\n",
       "      <td>['0000006', '0000006', '0000006', '0003828', '...</td>\n",
       "    </tr>\n",
       "  </tbody>\n",
       "</table>\n",
       "</div>"
      ],
      "text/plain": [
       "       file                                            spanish  \\\n",
       "0   1003450  En cinco miembros de una familia italiana se r...   \n",
       "1  10051003  El síndrome de Townes-Brock (TBS) es un trasto...   \n",
       "\n",
       "                                        HPO_symptoms  \\\n",
       "0  ['brachydactyly', 'ausencia de algunas falange...   \n",
       "1  ['trastorno autosómico dominante.', 'autosómic...   \n",
       "\n",
       "                                            HPO_code  \n",
       "0  ['0001156', '0009881', '0001798', '0001792', '...  \n",
       "1  ['0000006', '0000006', '0000006', '0003828', '...  "
      ]
     },
     "execution_count": 36,
     "metadata": {},
     "output_type": "execute_result"
    }
   ],
   "source": [
    "gsc_data.head(10)"
   ]
  },
  {
   "cell_type": "code",
   "execution_count": 37,
   "metadata": {},
   "outputs": [],
   "source": [
    "def google_translate(source, target, text):\n",
    "    translator = Translator()\n",
    "    result = translator.translate(text, src=source, dest=target)\n",
    "    return result.text"
   ]
  },
  {
   "cell_type": "code",
   "execution_count": 38,
   "metadata": {},
   "outputs": [],
   "source": [
    "def translate_doc(source_language, target_language, doc_id,text, symptoms, hpo_codes):\n",
    "    \n",
    "    #Translate the description of the condition (symptom(s))\n",
    "    translation = google_translate(source_language,target_language,text)\n",
    "    translated_symptoms = []\n",
    "    before_symp = []\n",
    "    before_symp.append(symptoms)\n",
    "    \n",
    "    #translate the symtoms themselves\n",
    "    for symptom in before_symp:\n",
    "        t_symptom = google_translate(source_language,target_language,symptom)\n",
    "        translated_symptoms.append(t_symptom)\n",
    "        \n",
    "    #Return all translated data         \n",
    "    return {\n",
    "            'file': doc_id,\n",
    "            'text': translation,\n",
    "            'HPO_symptoms': translated_symptoms[0],\n",
    "            'HPO_code': hpo_codes\n",
    "        }"
   ]
  },
  {
   "cell_type": "code",
   "execution_count": 39,
   "metadata": {},
   "outputs": [],
   "source": [
    "#Translate all rows and create a dataframe\n",
    "\n",
    "translation_rows = []\n",
    "src_lang = 'es'\n",
    "tgt_lang = 'en'\n",
    "\n",
    "for row in gsc_data.itertuples():\n",
    "    translation_output = translate_doc(src_lang,tgt_lang, str(row[1]), row[2], row[3], row[4])\n",
    "    translation_rows.append(translation_output)\n",
    "    if (row[0] + 1) % 10 == 0:\n",
    "        print('Fetched {} rows'.format(row[0] + 1))\n",
    "        time.sleep(1)\n",
    "translation_df = pd.DataFrame(translation_rows)"
   ]
  },
  {
   "cell_type": "code",
   "execution_count": 40,
   "metadata": {},
   "outputs": [
    {
     "data": {
      "text/html": [
       "<div>\n",
       "<style scoped>\n",
       "    .dataframe tbody tr th:only-of-type {\n",
       "        vertical-align: middle;\n",
       "    }\n",
       "\n",
       "    .dataframe tbody tr th {\n",
       "        vertical-align: top;\n",
       "    }\n",
       "\n",
       "    .dataframe thead th {\n",
       "        text-align: right;\n",
       "    }\n",
       "</style>\n",
       "<table border=\"1\" class=\"dataframe\">\n",
       "  <thead>\n",
       "    <tr style=\"text-align: right;\">\n",
       "      <th></th>\n",
       "      <th>file</th>\n",
       "      <th>text</th>\n",
       "      <th>HPO_symptoms</th>\n",
       "      <th>HPO_code</th>\n",
       "    </tr>\n",
       "  </thead>\n",
       "  <tbody>\n",
       "    <tr>\n",
       "      <td>0</td>\n",
       "      <td>1003450</td>\n",
       "      <td>Brachydactyly syndrome (absence of some middle...</td>\n",
       "      <td>['brachydactyly', 'absence of some middle or d...</td>\n",
       "      <td>['0001156', '0009881', '0001798', '0001792', '...</td>\n",
       "    </tr>\n",
       "    <tr>\n",
       "      <td>1</td>\n",
       "      <td>10051003</td>\n",
       "      <td>Townes-Brock syndrome (TBS) is an autosomal do...</td>\n",
       "      <td>['autosomal dominant disorder.', 'autosomal do...</td>\n",
       "      <td>['0000006', '0000006', '0000006', '0003828', '...</td>\n",
       "    </tr>\n",
       "  </tbody>\n",
       "</table>\n",
       "</div>"
      ],
      "text/plain": [
       "       file                                               text  \\\n",
       "0   1003450  Brachydactyly syndrome (absence of some middle...   \n",
       "1  10051003  Townes-Brock syndrome (TBS) is an autosomal do...   \n",
       "\n",
       "                                        HPO_symptoms  \\\n",
       "0  ['brachydactyly', 'absence of some middle or d...   \n",
       "1  ['autosomal dominant disorder.', 'autosomal do...   \n",
       "\n",
       "                                            HPO_code  \n",
       "0  ['0001156', '0009881', '0001798', '0001792', '...  \n",
       "1  ['0000006', '0000006', '0000006', '0003828', '...  "
      ]
     },
     "execution_count": 40,
     "metadata": {},
     "output_type": "execute_result"
    }
   ],
   "source": [
    "#Drop all Nan values\n",
    "translation_df.head(10)"
   ]
  },
  {
   "cell_type": "code",
   "execution_count": 41,
   "metadata": {},
   "outputs": [],
   "source": [
    "#Save to file\n",
    "translation_df.to_csv('translated_gsc_es-en.csv')"
   ]
  },
  {
   "cell_type": "code",
   "execution_count": null,
   "metadata": {},
   "outputs": [],
   "source": []
  }
 ],
 "metadata": {
  "kernelspec": {
   "display_name": "Python 3",
   "language": "python",
   "name": "python3"
  },
  "language_info": {
   "codemirror_mode": {
    "name": "ipython",
    "version": 3
   },
   "file_extension": ".py",
   "mimetype": "text/x-python",
   "name": "python",
   "nbconvert_exporter": "python",
   "pygments_lexer": "ipython3",
   "version": "3.7.4"
  }
 },
 "nbformat": 4,
 "nbformat_minor": 2
}
